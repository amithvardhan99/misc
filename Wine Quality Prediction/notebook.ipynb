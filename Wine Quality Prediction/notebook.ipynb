{
 "cells": [
  {
   "cell_type": "code",
   "id": "initial_id",
   "metadata": {
    "collapsed": true,
    "ExecuteTime": {
     "end_time": "2025-07-15T20:43:56.556013Z",
     "start_time": "2025-07-15T20:43:56.553060Z"
    }
   },
   "source": [
    "import numpy as np\n",
    "import pandas as pd\n",
    "import matplotlib.pyplot as plt\n",
    "import seaborn as sns\n",
    "import os\n",
    "import logging\n",
    "\n",
    "from numpy.core.defchararray import rindex"
   ],
   "outputs": [],
   "execution_count": 15
  },
  {
   "metadata": {
    "ExecuteTime": {
     "end_time": "2025-07-15T20:43:56.979645Z",
     "start_time": "2025-07-15T20:43:56.976489Z"
    }
   },
   "cell_type": "code",
   "source": "logging.basicConfig(level=logging.INFO,format=\"[%(asctime)s]: %(message)s\")",
   "id": "9d725384a6b401bf",
   "outputs": [],
   "execution_count": 16
  },
  {
   "metadata": {
    "ExecuteTime": {
     "end_time": "2025-07-15T20:43:57.363913Z",
     "start_time": "2025-07-15T20:43:57.359913Z"
    }
   },
   "cell_type": "code",
   "source": [
    "project_name = \"mlProject\"\n",
    "\n",
    "list_of_files = [\n",
    "    f\"src/{project_name}/__init__.py\",\n",
    "\n",
    "    # components\n",
    "    f\"src/{project_name}/components/__init__.py\",\n",
    "\n",
    "    # utils\n",
    "    f\"src/{project_name}/utils/__init__.py\",\n",
    "    f\"src/{project_name}/utils/common.py\",\n",
    "\n",
    "    # config\n",
    "    f\"src/{project_name}/config/__init__.py\",\n",
    "    f\"src/{project_name}/config/configuration.py\",\n",
    "\n",
    "    # pipeline\n",
    "    f\"src/{project_name}/pipeline/__init__.py\",\n",
    "\n",
    "    # entity\n",
    "    f\"src/{project_name}/entity/__init__.py\",\n",
    "    f\"src/{project_name}/entity/config_entity.py\",\n",
    "\n",
    "    # constraints\n",
    "    f\"src/{project_name}/constraints/__init__.py\",\n",
    "\n",
    "    f\"config/config.yaml\",\n",
    "    f\"params.yaml\",\n",
    "    f\"schema.yaml\",\n",
    "    f\"main.py\",\n",
    "    f\"app.py\",\n",
    "    f\"requirements.txt\",\n",
    "    f\"setup.py\",\n",
    "    f\"research/trials.ipynb\",\n",
    "    f\"templates/index.html\"\n",
    "]"
   ],
   "id": "6e3dd8038e5c105f",
   "outputs": [],
   "execution_count": 17
  },
  {
   "metadata": {
    "ExecuteTime": {
     "end_time": "2025-07-15T20:44:05.478634Z",
     "start_time": "2025-07-15T20:44:05.453092Z"
    }
   },
   "cell_type": "code",
   "source": [
    "for i in list_of_files:\n",
    "    folder_name,file = os.path.split(i)\n",
    "    current_folder_path = os.getcwd().replace(\"\\\\\",\"/\")\n",
    "    folder_path = current_folder_path + \"/\" + folder_name\n",
    "    print(folder_name,\" : \",file)\n",
    "    if folder_name != \"\":\n",
    "        os.makedirs(folder_name,exist_ok=True)\n",
    "        logging.info(f\"Creating folder {folder_name}\")\n",
    "        logging.info(\"\")\n",
    "        if not os.path.exists(folder_name + \"/\" + file):\n",
    "            logging.info(f\"Creating file {file}\")\n",
    "            with open(folder_name + \"/\" + file,\"w\") as f:\n",
    "                f.write(\"\")\n",
    "    else:\n",
    "        if not os.path.exists(file):\n",
    "            logging.info(f\"Creating file {file}\")\n",
    "            with open(file,\"w\") as f:\n",
    "                f.write(\"\")"
   ],
   "id": "21944e5efcbc22e7",
   "outputs": [
    {
     "name": "stdout",
     "output_type": "stream",
     "text": [
      "src/mlProject  :  __init__.py\n",
      "Creating folder src/mlProject\n",
      "\n",
      "src/mlProject/components  :  __init__.py\n",
      "Creating folder src/mlProject/components\n",
      "\n",
      "src/mlProject/utils  :  __init__.py\n",
      "Creating folder src/mlProject/utils\n",
      "\n",
      "src/mlProject/utils  :  common.py\n",
      "Creating folder src/mlProject/utils\n",
      "\n",
      "src/mlProject/config  :  __init__.py\n",
      "Creating folder src/mlProject/config\n",
      "\n",
      "src/mlProject/config  :  configuration.py\n",
      "Creating folder src/mlProject/config\n",
      "\n",
      "src/mlProject/pipeline  :  __init__.py\n",
      "Creating folder src/mlProject/pipeline\n",
      "\n",
      "src/mlProject/entity  :  __init__.py\n",
      "Creating folder src/mlProject/entity\n",
      "\n",
      "src/mlProject/entity  :  config_entity.py\n",
      "Creating folder src/mlProject/entity\n",
      "\n",
      "src/mlProject/constraints  :  __init__.py\n",
      "Creating folder src/mlProject/constraints\n",
      "\n",
      "config  :  config.yaml\n",
      "Creating folder config\n",
      "\n",
      "  :  params.yaml\n",
      "  :  schema.yaml\n",
      "  :  main.py\n",
      "  :  app.py\n",
      "  :  requirements.txt\n",
      "  :  setup.py\n",
      "research  :  trials.ipynb\n",
      "Creating folder research\n",
      "\n",
      "templates  :  index.html\n",
      "Creating folder templates\n",
      "\n"
     ]
    }
   ],
   "execution_count": 21
  },
  {
   "metadata": {
    "ExecuteTime": {
     "end_time": "2025-07-15T20:52:05.447379Z",
     "start_time": "2025-07-15T20:52:05.366911Z"
    }
   },
   "cell_type": "code",
   "source": [
    "import setuptools\n",
    "\n",
    "with open(\"README.md\",\"r\") as f:\n",
    "    long_description = f.read()\n",
    "\n",
    "#__version__ = \"0.0.0\"\n",
    "\n",
    "NAME_OF_REPOSITORY = \"Wine Quality Prediction\"\n",
    "USER_NAME = \"amithvardhan99\"\n",
    "SOURCE_REPO = \"misc\"\n",
    "AUTHOR_EMAIL = \"amithvardhangd3@gmail.com\"\n",
    "URL = f\"https://github.com/{USER_NAME}/{SOURCE_REPO}/\"\n",
    "\n",
    "setuptools.setup(\n",
    "    name = SOURCE_REPO,\n",
    "    #version = __version__,\n",
    "    author = USER_NAME,\n",
    "    author_email = AUTHOR_EMAIL,\n",
    "    description = \"This is the ML project on prediction of wine quality\",\n",
    "    long_description = long_description,\n",
    "    long_description_content_type = \"text/markdown\",\n",
    "    url = URL,\n",
    "    project_urls = {\n",
    "        \"BugTracker\" : f\"https://github.com/{USER_NAME}/{SOURCE_REPO}/issues\"\n",
    "    },\n",
    "    project_dir = {\"\":\"src\"},\n",
    "    packages = setuptools.find_packages(where=\"src\")\n",
    ")"
   ],
   "id": "98736cefb0226566",
   "outputs": [
    {
     "ename": "SystemExit",
     "evalue": "usage: ipykernel_launcher.py [global_opts] cmd1 [cmd1_opts] [cmd2 [cmd2_opts] ...]\n   or: ipykernel_launcher.py --help [cmd1 cmd2 ...]\n   or: ipykernel_launcher.py --help-commands\n   or: ipykernel_launcher.py cmd --help\n\nerror: option -f not recognized",
     "output_type": "error",
     "traceback": [
      "An exception has occurred, use %tb to see the full traceback.\n",
      "\u001B[1;31mSystemExit\u001B[0m\u001B[1;31m:\u001B[0m usage: ipykernel_launcher.py [global_opts] cmd1 [cmd1_opts] [cmd2 [cmd2_opts] ...]\n   or: ipykernel_launcher.py --help [cmd1 cmd2 ...]\n   or: ipykernel_launcher.py --help-commands\n   or: ipykernel_launcher.py cmd --help\n\nerror: option -f not recognized\n"
     ]
    }
   ],
   "execution_count": 26
  },
  {
   "metadata": {},
   "cell_type": "code",
   "outputs": [],
   "execution_count": null,
   "source": "",
   "id": "5171a59646778e6a"
  }
 ],
 "metadata": {
  "kernelspec": {
   "display_name": "Python 3",
   "language": "python",
   "name": "python3"
  },
  "language_info": {
   "codemirror_mode": {
    "name": "ipython",
    "version": 2
   },
   "file_extension": ".py",
   "mimetype": "text/x-python",
   "name": "python",
   "nbconvert_exporter": "python",
   "pygments_lexer": "ipython2",
   "version": "2.7.6"
  }
 },
 "nbformat": 4,
 "nbformat_minor": 5
}
