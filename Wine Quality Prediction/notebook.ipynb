{
 "cells": [
  {
   "cell_type": "code",
   "id": "initial_id",
   "metadata": {
    "collapsed": true,
    "ExecuteTime": {
     "end_time": "2025-07-09T20:50:55.318853Z",
     "start_time": "2025-07-09T20:50:55.313478Z"
    }
   },
   "source": [
    "import numpy as np\n",
    "import pandas as pd\n",
    "import matplotlib.pyplot as plt\n",
    "import seaborn as sns\n",
    "import os\n",
    "\n",
    "from numpy.core.defchararray import rindex"
   ],
   "outputs": [],
   "execution_count": 1
  },
  {
   "metadata": {
    "ExecuteTime": {
     "end_time": "2025-07-09T20:54:37.378224Z",
     "start_time": "2025-07-09T20:54:37.374135Z"
    }
   },
   "cell_type": "code",
   "source": [
    "project_name = \"mlProject\"\n",
    "\n",
    "list_of_files = [\n",
    "    f\"src/{project_name}/__init__.py\",\n",
    "\n",
    "    # components\n",
    "    f\"src/{project_name}/components/__init__.py\",\n",
    "\n",
    "    # utils\n",
    "    f\"src/{project_name}/utils/__init__.py\",\n",
    "    f\"src/{project_name}/utils/common.py\",\n",
    "\n",
    "    # config\n",
    "    f\"src/{project_name}/config/__init__.py\",\n",
    "    f\"src/{project_name}/config/configuration.py\",\n",
    "\n",
    "    # pipeline\n",
    "    f\"src/{project_name}/pipeline/__init__.py\",\n",
    "\n",
    "    # entity\n",
    "    f\"src/{project_name}/entity/__init__.py\",\n",
    "    f\"src/{project_name}/entity/config_entity.py\",\n",
    "\n",
    "    # constraints\n",
    "    f\"src/{project_name}/constraints/__init__.py\",\n",
    "\n",
    "    f\"config/config.yaml\",\n",
    "    f\"params.yaml\",\n",
    "    f\"schema.yaml\",\n",
    "    f\"main.py\",\n",
    "    f\"app.py\",\n",
    "    f\"requirements.txt\",\n",
    "    f\"setup.py\",\n",
    "    f\"research/trials.ipynb\",\n",
    "    f\"templates/index.html\"\n",
    "]"
   ],
   "id": "6e3dd8038e5c105f",
   "outputs": [],
   "execution_count": 8
  },
  {
   "metadata": {
    "ExecuteTime": {
     "end_time": "2025-07-09T21:00:45.530883Z",
     "start_time": "2025-07-09T21:00:45.524518Z"
    }
   },
   "cell_type": "code",
   "source": [
    "for i in list_of_files:\n",
    "    folder_name,file = os.path.split(i)\n",
    "    current_folder_path = os.getcwd().replace(\"\\\\\",\"/\")\n",
    "    folder_path = current_folder_path + \"/\" + folder_name\n",
    "    print(folder_name,\" : \",file)\n",
    "    if folder_name != \"\":\n",
    "        os.makedirs(folder_name,exist_ok=True)\n",
    "        if not os.path.exists(folder_name + \"/\" + file):\n",
    "            with open(folder_name + \"/\" + file,\"w\") as f:\n",
    "                f.write(\"\")\n",
    "    else:\n",
    "        if not os.path.exists(file):\n",
    "            with open(file,\"w\") as f:\n",
    "                f.write(\"\")"
   ],
   "id": "21944e5efcbc22e7",
   "outputs": [
    {
     "name": "stdout",
     "output_type": "stream",
     "text": [
      "src/mlProject  :  __init__.py\n",
      "src/mlProject/components  :  __init__.py\n",
      "src/mlProject/utils  :  __init__.py\n",
      "src/mlProject/utils  :  common.py\n",
      "src/mlProject/config  :  __init__.py\n",
      "src/mlProject/config  :  configuration.py\n",
      "src/mlProject/pipeline  :  __init__.py\n",
      "src/mlProject/entity  :  __init__.py\n",
      "src/mlProject/entity  :  config_entity.py\n",
      "src/mlProject/constraints  :  __init__.py\n",
      "config  :  config.yaml\n",
      "  :  params.yaml\n",
      "  :  schema.yaml\n",
      "  :  main.py\n",
      "  :  app.py\n",
      "  :  requirements.txt\n",
      "  :  setup.py\n",
      "research  :  trials.ipynb\n",
      "templates  :  index.html\n"
     ]
    }
   ],
   "execution_count": 14
  },
  {
   "metadata": {
    "ExecuteTime": {
     "end_time": "2025-07-09T20:25:21.875015Z",
     "start_time": "2025-07-09T20:25:21.865014Z"
    }
   },
   "cell_type": "code",
   "source": [
    "for i in list_of_files:\n",
    "    folder_name,file = os.path.split(i)\n",
    "    print(folder_name,\" : \",file)\n",
    "    if folder_name != \"\":\n",
    "        os.makedirs(folder_name,exist_ok=True)\n",
    "        os.chdir(folder_name)\n",
    "        if os.path.exists(folder_name+\"/\"+file):\n",
    "        with open(file,\"w\") as f:\n",
    "            f.write(i)"
   ],
   "id": "a4d0608e186e71ea",
   "outputs": [
    {
     "name": "stdout",
     "output_type": "stream",
     "text": [
      "src/mlProject  :  __init__.py\n",
      "src/mlProject/components  :  __init__.py\n",
      "src/mlProject/utils  :  __init__.py\n",
      "src/mlProject/utils  :  common.py\n",
      "src/mlProject/config  :  __init__.py\n",
      "src/mlProject/config  :  configuration.py\n",
      "src/mlProject/pipeline  :  __init__.py\n",
      "src/mlProject/entity  :  __init__.py\n",
      "src/mlProject/entity  :  config_entity.py\n",
      "src/mlProject/constraints  :  __init__.py\n",
      "config  :  config.yaml\n",
      "  :  params.yaml\n",
      "  :  schema.yaml\n",
      "  :  main.py\n",
      "  :  app.py\n",
      "  :  requirements.txt\n",
      "  :  setup.py\n",
      "research  :  trials.ipynb\n",
      "templates  :  index.html\n"
     ]
    }
   ],
   "execution_count": 27
  },
  {
   "metadata": {},
   "cell_type": "code",
   "outputs": [],
   "execution_count": null,
   "source": "",
   "id": "74c1eec42f8a9710"
  }
 ],
 "metadata": {
  "kernelspec": {
   "display_name": "Python 3",
   "language": "python",
   "name": "python3"
  },
  "language_info": {
   "codemirror_mode": {
    "name": "ipython",
    "version": 2
   },
   "file_extension": ".py",
   "mimetype": "text/x-python",
   "name": "python",
   "nbconvert_exporter": "python",
   "pygments_lexer": "ipython2",
   "version": "2.7.6"
  }
 },
 "nbformat": 4,
 "nbformat_minor": 5
}
