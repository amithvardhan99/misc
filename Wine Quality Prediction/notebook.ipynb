{
 "cells": [
  {
   "cell_type": "code",
   "id": "initial_id",
   "metadata": {
    "collapsed": true,
    "ExecuteTime": {
     "end_time": "2025-08-09T16:46:37.496448Z",
     "start_time": "2025-08-09T16:46:37.491284Z"
    }
   },
   "source": [
    "import numpy as np\n",
    "import pandas as pd\n",
    "import matplotlib.pyplot as plt\n",
    "import seaborn as sns\n",
    "import os\n",
    "import logging\n",
    "\n",
    "from numpy.core.defchararray import rindex"
   ],
   "outputs": [],
   "execution_count": 1
  },
  {
   "metadata": {
    "ExecuteTime": {
     "end_time": "2025-08-09T16:46:37.542990Z",
     "start_time": "2025-08-09T16:46:37.538991Z"
    }
   },
   "cell_type": "code",
   "source": "logging.basicConfig(level=logging.INFO,format=\"[%(asctime)s]: %(message)s\")",
   "id": "9d725384a6b401bf",
   "outputs": [],
   "execution_count": 2
  },
  {
   "metadata": {
    "ExecuteTime": {
     "end_time": "2025-08-09T16:46:42.998290Z",
     "start_time": "2025-08-09T16:46:42.993328Z"
    }
   },
   "cell_type": "code",
   "source": [
    "project_name = \"mlProject\"\n",
    "\n",
    "list_of_files = [\n",
    "    f\"src/{project_name}/__init__.py\",\n",
    "\n",
    "    # components\n",
    "    f\"src/{project_name}/components/__init__.py\",\n",
    "\n",
    "    # utils\n",
    "    f\"src/{project_name}/utils/__init__.py\",\n",
    "    f\"src/{project_name}/utils/common.py\",\n",
    "\n",
    "    # config\n",
    "    f\"src/{project_name}/config/__init__.py\",\n",
    "    f\"src/{project_name}/config/configuration.py\",\n",
    "\n",
    "    # pipeline\n",
    "    f\"src/{project_name}/pipeline/__init__.py\",\n",
    "\n",
    "    # entity\n",
    "    f\"src/{project_name}/entity/__init__.py\",\n",
    "    f\"src/{project_name}/entity/config_entity.py\",\n",
    "\n",
    "    # constraints\n",
    "    f\"src/{project_name}/constraints/__init__.py\",\n",
    "\n",
    "    f\"config/config.yaml\",\n",
    "    f\"params.yaml\",\n",
    "    f\"schema.yaml\",\n",
    "    f\"main.py\",\n",
    "    f\"app.py\",\n",
    "    f\"requirements.txt\",\n",
    "    f\"setup.py\",\n",
    "    f\"research/trials.ipynb\",\n",
    "    f\"templates/index.html\"\n",
    "]"
   ],
   "id": "6e3dd8038e5c105f",
   "outputs": [],
   "execution_count": 3
  },
  {
   "metadata": {
    "ExecuteTime": {
     "end_time": "2025-08-09T16:46:46.472808Z",
     "start_time": "2025-08-09T16:46:46.440733Z"
    }
   },
   "cell_type": "code",
   "source": [
    "for i in list_of_files:\n",
    "    folder_name,file = os.path.split(i)\n",
    "    current_folder_path = os.getcwd().replace(\"\\\\\",\"/\")\n",
    "    folder_path = current_folder_path + \"/\" + folder_name\n",
    "    print(folder_name,\" : \",file)\n",
    "    if folder_name != \"\":\n",
    "        os.makedirs(folder_name,exist_ok=True)\n",
    "        logging.info(f\"Creating folder {folder_name}\")\n",
    "        logging.info(\"\")\n",
    "        if not os.path.exists(folder_name + \"/\" + file):\n",
    "            logging.info(f\"Creating file {file}\")\n",
    "            with open(folder_name + \"/\" + file,\"w\") as f:\n",
    "                f.write(\"\")\n",
    "    else:\n",
    "        if not os.path.exists(file):\n",
    "            logging.info(f\"Creating file {file}\")\n",
    "            with open(file,\"w\") as f:\n",
    "                f.write(\"\")"
   ],
   "id": "21944e5efcbc22e7",
   "outputs": [
    {
     "name": "stderr",
     "output_type": "stream",
     "text": [
      "[2025-08-09 12:46:46,445]: Creating folder src/mlProject\n",
      "[2025-08-09 12:46:46,446]: \n",
      "[2025-08-09 12:46:46,447]: Creating folder src/mlProject/components\n",
      "[2025-08-09 12:46:46,448]: \n",
      "[2025-08-09 12:46:46,449]: Creating folder src/mlProject/utils\n",
      "[2025-08-09 12:46:46,450]: \n",
      "[2025-08-09 12:46:46,451]: Creating folder src/mlProject/utils\n",
      "[2025-08-09 12:46:46,452]: \n",
      "[2025-08-09 12:46:46,453]: Creating folder src/mlProject/config\n",
      "[2025-08-09 12:46:46,454]: \n",
      "[2025-08-09 12:46:46,455]: Creating folder src/mlProject/config\n",
      "[2025-08-09 12:46:46,455]: \n",
      "[2025-08-09 12:46:46,457]: Creating folder src/mlProject/pipeline\n",
      "[2025-08-09 12:46:46,458]: \n",
      "[2025-08-09 12:46:46,459]: Creating folder src/mlProject/entity\n",
      "[2025-08-09 12:46:46,459]: \n",
      "[2025-08-09 12:46:46,460]: Creating folder src/mlProject/entity\n",
      "[2025-08-09 12:46:46,461]: \n",
      "[2025-08-09 12:46:46,462]: Creating folder src/mlProject/constraints\n",
      "[2025-08-09 12:46:46,463]: \n",
      "[2025-08-09 12:46:46,463]: Creating folder config\n",
      "[2025-08-09 12:46:46,465]: \n",
      "[2025-08-09 12:46:46,466]: Creating folder research\n",
      "[2025-08-09 12:46:46,467]: \n",
      "[2025-08-09 12:46:46,468]: Creating folder templates\n",
      "[2025-08-09 12:46:46,469]: \n"
     ]
    },
    {
     "name": "stdout",
     "output_type": "stream",
     "text": [
      "src/mlProject  :  __init__.py\n",
      "src/mlProject/components  :  __init__.py\n",
      "src/mlProject/utils  :  __init__.py\n",
      "src/mlProject/utils  :  common.py\n",
      "src/mlProject/config  :  __init__.py\n",
      "src/mlProject/config  :  configuration.py\n",
      "src/mlProject/pipeline  :  __init__.py\n",
      "src/mlProject/entity  :  __init__.py\n",
      "src/mlProject/entity  :  config_entity.py\n",
      "src/mlProject/constraints  :  __init__.py\n",
      "config  :  config.yaml\n",
      "  :  params.yaml\n",
      "  :  schema.yaml\n",
      "  :  main.py\n",
      "  :  app.py\n",
      "  :  requirements.txt\n",
      "  :  setup.py\n",
      "research  :  trials.ipynb\n",
      "templates  :  index.html\n"
     ]
    }
   ],
   "execution_count": 5
  },
  {
   "metadata": {
    "ExecuteTime": {
     "end_time": "2025-08-09T16:46:51.567150Z",
     "start_time": "2025-08-09T16:46:51.254775Z"
    }
   },
   "cell_type": "code",
   "source": [
    "import setuptools\n",
    "\n",
    "with open(\"README.md\",\"r\") as f:\n",
    "    long_description = f.read()\n",
    "\n",
    "#__version__ = \"0.0.0\"\n",
    "\n",
    "NAME_OF_REPOSITORY = \"Wine Quality Prediction\"\n",
    "USER_NAME = \"amithvardhan99\"\n",
    "SOURCE_REPO = \"misc\"\n",
    "AUTHOR_EMAIL = \"amithvardhangd3@gmail.com\"\n",
    "URL = f\"https://github.com/{USER_NAME}/{SOURCE_REPO}/\"\n",
    "\n",
    "setuptools.setup(\n",
    "    name = SOURCE_REPO,\n",
    "    #version = __version__,\n",
    "    author = USER_NAME,\n",
    "    author_email = AUTHOR_EMAIL,\n",
    "    description = \"This is the ML project on prediction of wine quality\",\n",
    "    long_description = long_description,\n",
    "    long_description_content_type = \"text/markdown\",\n",
    "    url = URL,\n",
    "    project_urls = {\n",
    "        \"BugTracker\" : f\"https://github.com/{USER_NAME}/{SOURCE_REPO}/issues\"\n",
    "    },\n",
    "    project_dir = {\"\":\"src\"},\n",
    "    packages = setuptools.find_packages(where=\"src\")\n",
    ")"
   ],
   "id": "98736cefb0226566",
   "outputs": [
    {
     "name": "stderr",
     "output_type": "stream",
     "text": [
      "C:\\Users\\amith\\AppData\\Local\\Programs\\Python\\Python312\\Lib\\site-packages\\setuptools\\_distutils\\dist.py:270: UserWarning: Unknown distribution option: 'project_dir'\n",
      "  warnings.warn(msg)\n"
     ]
    },
    {
     "ename": "SystemExit",
     "evalue": "usage: ipykernel_launcher.py [global_opts] cmd1 [cmd1_opts] [cmd2 [cmd2_opts] ...]\n   or: ipykernel_launcher.py --help [cmd1 cmd2 ...]\n   or: ipykernel_launcher.py --help-commands\n   or: ipykernel_launcher.py cmd --help\n\nerror: option -f not recognized",
     "output_type": "error",
     "traceback": [
      "An exception has occurred, use %tb to see the full traceback.\n",
      "\u001B[1;31mSystemExit\u001B[0m\u001B[1;31m:\u001B[0m usage: ipykernel_launcher.py [global_opts] cmd1 [cmd1_opts] [cmd2 [cmd2_opts] ...]\n   or: ipykernel_launcher.py --help [cmd1 cmd2 ...]\n   or: ipykernel_launcher.py --help-commands\n   or: ipykernel_launcher.py cmd --help\n\nerror: option -f not recognized\n"
     ]
    },
    {
     "name": "stderr",
     "output_type": "stream",
     "text": [
      "C:\\Users\\amith\\AppData\\Local\\Programs\\Python\\Python312\\Lib\\site-packages\\IPython\\core\\interactiveshell.py:3585: UserWarning: To exit: use 'exit', 'quit', or Ctrl-D.\n",
      "  warn(\"To exit: use 'exit', 'quit', or Ctrl-D.\", stacklevel=1)\n"
     ]
    }
   ],
   "execution_count": 6
  },
  {
   "metadata": {},
   "cell_type": "code",
   "outputs": [],
   "execution_count": null,
   "source": "",
   "id": "5171a59646778e6a"
  }
 ],
 "metadata": {
  "kernelspec": {
   "display_name": "Python 3",
   "language": "python",
   "name": "python3"
  },
  "language_info": {
   "codemirror_mode": {
    "name": "ipython",
    "version": 2
   },
   "file_extension": ".py",
   "mimetype": "text/x-python",
   "name": "python",
   "nbconvert_exporter": "python",
   "pygments_lexer": "ipython2",
   "version": "2.7.6"
  }
 },
 "nbformat": 4,
 "nbformat_minor": 5
}
