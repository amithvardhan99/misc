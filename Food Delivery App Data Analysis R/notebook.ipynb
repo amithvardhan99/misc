{
 "cells": [
  {
   "cell_type": "code",
   "execution_count": 84,
   "metadata": {
    "vscode": {
     "languageId": "r"
    }
   },
   "outputs": [],
   "source": [
    "library(dplyr)\n"
   ]
  },
  {
   "cell_type": "code",
   "execution_count": 85,
   "metadata": {
    "vscode": {
     "languageId": "r"
    }
   },
   "outputs": [],
   "source": [
    "df = read.csv(\"zomato.csv\")\n",
    "df_1 = df[,!names(df) %in% c(\"address\",\"phone\")]\n"
   ]
  },
  {
   "cell_type": "code",
   "execution_count": 86,
   "metadata": {
    "vscode": {
     "languageId": "r"
    }
   },
   "outputs": [],
   "source": [
    "p = c()\n",
    "\n",
    "for (i in names(df_1))\n",
    "{\n",
    "    if(i==\"rate\")\n",
    "    {p = append(p,\"rating\")}\n",
    "    else if(i==\"approx_cost.for.two.people.\")\n",
    "    {p = append(p,\"approx_cost\")}\n",
    "    else if(i==\"listed_in.type.\")\n",
    "    {p = append(p,\"type\")}\n",
    "    else\n",
    "    p = append(p,i)\n",
    "}\n",
    "\n",
    "df_2 = df_1\n",
    "names(df_2) = p\n"
   ]
  },
  {
   "cell_type": "markdown",
   "metadata": {
    "vscode": {
     "languageId": "r"
    }
   },
   "source": [
    "#### Data Cleaning and Handling Null Values.\n",
    "\n",
    "* Remove rows with null values in the 'name' column.\n",
    "* Fill null values in the 'online_order' column with 'NA'.\n",
    "* Fill null values in the 'book_table' column with 'NA'.\n",
    "* Replace null values in the 'rating' column with 0, considering it's a numerical datatype.\n",
    "* Replace null values in the 'votes' column with 0, considering it's a numerical datatype.\n",
    "* Fill null values in the 'location' column with 'NA'.\n",
    "* Fill null values in the 'rest_type' column with 'NA'.\n",
    "* Fill null values in the 'dish_liked' column with 'NA'.\n",
    "* Fill null values in the 'cuisines' column with 'NA'.\n",
    "* Replace null values in the 'approx_cost' column with 0, considering it's a numerical value.\n",
    "* Fill null values in the 'type' column with 'NA'.\n",
    "* Set the inplace parameter to True to modify 'df' in place for every steps.\n",
    "* Inspect the data by calling the variable 'df'."
   ]
  },
  {
   "cell_type": "code",
   "execution_count": 87,
   "metadata": {
    "vscode": {
     "languageId": "r"
    }
   },
   "outputs": [],
   "source": [
    "df_2[,\"name\"] = na.omit(df_2[,\"name\"])\n",
    "\n",
    "df_2[is.na(df_2[,\"online_order\"]),\"online_order\"] = \"NA\"\n",
    "df_2[is.na(df_2[,\"book_table\"]),\"book_table\"] = \"NA\"\n",
    "df_2[is.na(df_2[,\"location\"]),\"location\"] = \"NA\"\n",
    "df_2[is.na(df_2[,\"rest_type\"]),\"rest_type\"] = \"NA\"\n",
    "df_2[is.na(df_2[,\"dish_liked\"]),\"dish_liked\"] = \"NA\"\n",
    "df_2[is.na(df_2[,\"cuisines\"]),\"cuisines\"] = \"NA\"\n",
    "df_2[is.na(df_2[,\"type\"]),\"type\"] = \"NA\"\n",
    "\n",
    "\n",
    "df_2[is.na(df_2[,\"rating\"]),\"rating\"] = 0\n",
    "df_2[is.na(df_2[,\"votes\"]),\"votes\"] = 0\n",
    "df_2[is.na(df_2[,\"approx_cost\"]),\"approx_cost\"] = 0\n"
   ]
  },
  {
   "cell_type": "code",
   "execution_count": 88,
   "metadata": {
    "vscode": {
     "languageId": "r"
    }
   },
   "outputs": [],
   "source": [
    "df_3 = df_2[!duplicated(df_2),]\n",
    "df_4 = df_3\n"
   ]
  },
  {
   "cell_type": "code",
   "execution_count": 89,
   "metadata": {
    "vscode": {
     "languageId": "r"
    }
   },
   "outputs": [],
   "source": [
    "for (i in names(df_3))\n",
    "{\n",
    "    df_4 = df_4[!grepl(\"Rated\",df_4[,i]),]\n",
    "}\n"
   ]
  },
  {
   "cell_type": "code",
   "execution_count": null,
   "metadata": {
    "vscode": {
     "languageId": "r"
    }
   },
   "outputs": [],
   "source": []
  }
 ],
 "metadata": {
  "kernelspec": {
   "display_name": "R",
   "language": "R",
   "name": "ir"
  },
  "language_info": {
   "codemirror_mode": "r",
   "file_extension": ".r",
   "mimetype": "text/x-r-source",
   "name": "R",
   "pygments_lexer": "r",
   "version": "4.3.3"
  }
 },
 "nbformat": 4,
 "nbformat_minor": 2
}
