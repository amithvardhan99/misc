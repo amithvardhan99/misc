{
 "cells": [
  {
   "cell_type": "code",
   "execution_count": 166,
   "id": "initial_id",
   "metadata": {
    "collapsed": true,
    "ExecuteTime": {
     "end_time": "2024-01-27T15:14:38.094577900Z",
     "start_time": "2024-01-27T15:14:38.059324600Z"
    }
   },
   "outputs": [],
   "source": [
    "import numpy as np\n",
    "import pandas as pd\n",
    "import matplotlib.pyplot as plt\n",
    "import seaborn as sns\n",
    "from PIL import Image\n",
    "from PIL import *\n",
    "import os\n",
    "import warnings\n",
    "import tensorflow as tf\n",
    "warnings.filterwarnings(\"ignore\")\n",
    "from sklearn.metrics import *"
   ]
  },
  {
   "cell_type": "code",
   "outputs": [],
   "source": [
    "tumor_dataset_path = os.getcwd() + \"\\data\"\n",
    "\n",
    "image_files = []\n",
    "labels = []\n",
    "ctr = 0\n",
    "\n",
    "lab = []\n",
    "for i in os.listdir(tumor_dataset_path):\n",
    "    lab.append(i)\n",
    "lab = sorted(lab)\n",
    "    \n",
    "for i in lab:\n",
    "    k = tumor_dataset_path + \"\\\\\" + i + \"\\\\\"\n",
    "    for j in os.listdir(k):\n",
    "        image_files.append(k + j)\n",
    "        labels.append(ctr)\n",
    "    ctr += 1\n",
    "image_files = np.array(image_files)\n",
    "labels = np.array(labels)\n",
    "labels_1 = labels.copy()"
   ],
   "metadata": {
    "collapsed": false,
    "ExecuteTime": {
     "end_time": "2024-01-27T15:14:38.505319300Z",
     "start_time": "2024-01-27T15:14:38.488989600Z"
    }
   },
   "id": "23abf4ffc27abc6c",
   "execution_count": 167
  },
  {
   "cell_type": "code",
   "outputs": [],
   "source": [
    "images = []\n",
    "images_1 = []\n",
    "\n",
    "for i in image_files:\n",
    "    image_original = Image.open(i)\n",
    "    image_grayscale = image_original.convert(\"L\")\n",
    "    image_resized = image_grayscale.resize((64,64))\n",
    "    image_array = np.array(image_resized) / 255.0\n",
    "    image_array = image_array.reshape((64,64,1))\n",
    "    images.append(image_array)\n",
    "\n",
    "    image_resized_1 = image_grayscale.resize((256,256))\n",
    "    image_array_1 = np.array(image_resized_1) / 255.0\n",
    "    image_array_1 = image_array_1.reshape((256,256,1))\n",
    "    images_1.append(image_array_1)\n",
    "\n",
    "    \n",
    "images = np.array(images)\n",
    "images_1 = np.array(images_1)"
   ],
   "metadata": {
    "collapsed": false,
    "ExecuteTime": {
     "end_time": "2024-01-27T15:14:40.395189200Z",
     "start_time": "2024-01-27T15:14:39.002504800Z"
    }
   },
   "id": "9aa51b01e0f6291",
   "execution_count": 168
  },
  {
   "cell_type": "code",
   "outputs": [
    {
     "data": {
      "text/plain": "(64, 64, 1)"
     },
     "execution_count": 169,
     "metadata": {},
     "output_type": "execute_result"
    }
   ],
   "source": [
    "images[0].shape"
   ],
   "metadata": {
    "collapsed": false,
    "ExecuteTime": {
     "end_time": "2024-01-27T15:14:40.411869900Z",
     "start_time": "2024-01-27T15:14:40.398370300Z"
    }
   },
   "id": "2797077f587ac88f",
   "execution_count": 169
  },
  {
   "cell_type": "code",
   "outputs": [
    {
     "data": {
      "text/plain": "(256, 256, 1)"
     },
     "execution_count": 170,
     "metadata": {},
     "output_type": "execute_result"
    }
   ],
   "source": [
    "images_1[0].shape"
   ],
   "metadata": {
    "collapsed": false,
    "ExecuteTime": {
     "end_time": "2024-01-27T15:14:40.415068900Z",
     "start_time": "2024-01-27T15:14:40.404567400Z"
    }
   },
   "id": "dfd5b18257c07b0a",
   "execution_count": 170
  },
  {
   "cell_type": "code",
   "outputs": [],
   "source": [
    "image_positions = list(range(len(images)))\n",
    "np.random.shuffle(image_positions)\n",
    "image_labels_shuffled = labels[image_positions]\n",
    "image_inputs_shuffled = images[image_positions]\n",
    "\n",
    "image_positions_1 = list(range(len(images_1)))\n",
    "np.random.shuffle(image_positions_1)\n",
    "image_labels_shuffled_1 = labels_1[image_positions_1]\n",
    "image_inputs_shuffled_1 = images_1[image_positions_1]"
   ],
   "metadata": {
    "collapsed": false,
    "ExecuteTime": {
     "end_time": "2024-01-27T15:14:40.874033900Z",
     "start_time": "2024-01-27T15:14:40.810709Z"
    }
   },
   "id": "85643e164c5e56f",
   "execution_count": 171
  },
  {
   "cell_type": "code",
   "outputs": [],
   "source": [
    "number_of_images = len(image_inputs_shuffled)\n",
    "\n",
    "div_ratio = 0.25\n",
    "\n",
    "test_size = round(number_of_images * div_ratio)\n",
    "train_val_size = number_of_images - test_size\n",
    "val_test_threshold = train_val_size\n",
    "\n",
    "val_size = round(train_val_size * div_ratio)\n",
    "train_size = train_val_size - val_size\n",
    "train_val_threshold = train_size\n",
    "\n",
    "\n",
    "number_of_images_1 = len(image_inputs_shuffled_1)\n",
    "\n",
    "div_ratio_1 = 0.2\n",
    "\n",
    "test_size_1 = round(number_of_images_1 * div_ratio_1)\n",
    "train_val_size_1 = number_of_images_1 - test_size_1\n",
    "val_test_threshold_1 = train_val_size_1\n",
    "\n",
    "val_size_1 = round(train_val_size_1 * div_ratio_1)\n",
    "train_size_1 = train_val_size_1 - val_size_1\n",
    "train_val_threshold_1 = train_size_1"
   ],
   "metadata": {
    "collapsed": false,
    "ExecuteTime": {
     "end_time": "2024-01-27T15:14:41.268526100Z",
     "start_time": "2024-01-27T15:14:41.261626200Z"
    }
   },
   "id": "618980ec2d5891eb",
   "execution_count": 172
  },
  {
   "cell_type": "code",
   "outputs": [
    {
     "name": "stdout",
     "output_type": "stream",
     "text": [
      "194\n",
      "146\n"
     ]
    }
   ],
   "source": [
    "print(val_test_threshold)\n",
    "print(train_val_threshold)"
   ],
   "metadata": {
    "collapsed": false,
    "ExecuteTime": {
     "end_time": "2024-01-27T15:14:41.944923500Z",
     "start_time": "2024-01-27T15:14:41.926215900Z"
    }
   },
   "id": "5fb41cb6ddb2a246",
   "execution_count": 173
  },
  {
   "cell_type": "code",
   "outputs": [
    {
     "name": "stdout",
     "output_type": "stream",
     "text": [
      "207\n",
      "166\n"
     ]
    }
   ],
   "source": [
    "print(val_test_threshold_1)\n",
    "print(train_val_threshold_1)"
   ],
   "metadata": {
    "collapsed": false,
    "ExecuteTime": {
     "end_time": "2024-01-27T15:14:42.489137500Z",
     "start_time": "2024-01-27T15:14:42.478094700Z"
    }
   },
   "id": "5f252d323fec823f",
   "execution_count": 174
  },
  {
   "cell_type": "code",
   "outputs": [],
   "source": [
    "X_train = image_inputs_shuffled[:train_val_threshold]\n",
    "y_train = image_labels_shuffled[:train_val_threshold]\n",
    "\n",
    "X_val = image_inputs_shuffled[train_val_threshold:val_test_threshold]\n",
    "y_val = image_labels_shuffled[train_val_threshold:val_test_threshold]\n",
    "\n",
    "X_test = image_inputs_shuffled[val_test_threshold:]\n",
    "y_test = image_labels_shuffled[val_test_threshold:]\n",
    "\n",
    "\n",
    "X_train_1 = image_inputs_shuffled_1[:train_val_threshold_1]\n",
    "y_train_1 = image_labels_shuffled_1[:train_val_threshold_1]\n",
    "\n",
    "X_val_1 = image_inputs_shuffled_1[train_val_threshold_1:val_test_threshold_1]\n",
    "y_val_1 = image_labels_shuffled_1[train_val_threshold_1:val_test_threshold_1]\n",
    "\n",
    "X_test_1 = image_inputs_shuffled_1[val_test_threshold_1:]\n",
    "y_test_1 = image_labels_shuffled_1[val_test_threshold_1:]"
   ],
   "metadata": {
    "collapsed": false,
    "ExecuteTime": {
     "end_time": "2024-01-27T15:14:42.960822100Z",
     "start_time": "2024-01-27T15:14:42.901484400Z"
    }
   },
   "id": "f056d36d31469f46",
   "execution_count": 175
  },
  {
   "cell_type": "code",
   "outputs": [
    {
     "name": "stdout",
     "output_type": "stream",
     "text": [
      "146 48 65\n",
      "166 41 52\n"
     ]
    }
   ],
   "source": [
    "print(X_train.shape[0],X_val.shape[0],X_test.shape[0])\n",
    "print(X_train_1.shape[0],X_val_1.shape[0],X_test_1.shape[0])"
   ],
   "metadata": {
    "collapsed": false,
    "ExecuteTime": {
     "end_time": "2024-01-27T15:14:43.648268200Z",
     "start_time": "2024-01-27T15:14:43.638788200Z"
    }
   },
   "id": "5d28a822b12e2dce",
   "execution_count": 176
  },
  {
   "cell_type": "code",
   "outputs": [],
   "source": [
    "model = tf.keras.models.Sequential(layers=[\n",
    "    tf.keras.layers.Conv2D(filters=16, kernel_size=(3,3), activation=\"relu\", input_shape=(64,64,1)),\n",
    "    tf.keras.layers.MaxPooling2D(pool_size=(2,2)),\n",
    "    \n",
    "    \n",
    "    tf.keras.layers.Conv2D(filters=32, kernel_size=(3,3), activation=\"relu\"),\n",
    "    tf.keras.layers.MaxPooling2D(pool_size=(2,2)),\n",
    "    \n",
    "    \n",
    "    tf.keras.layers.Conv2D(filters=64, kernel_size=(3,3), activation=\"relu\"),\n",
    "    tf.keras.layers.MaxPooling2D(pool_size=(2,2)),\n",
    "    \n",
    "    tf.keras.layers.Conv2D(filters=64, kernel_size=(3,3), activation=\"relu\"),\n",
    "    tf.keras.layers.MaxPooling2D(pool_size=(2,2)),\n",
    "    \n",
    "    tf.keras.layers.Flatten(),\n",
    "    \n",
    "    tf.keras.layers.Dense(units=64, activation=\"relu\"),\n",
    "    tf.keras.layers.Dense(units=1, activation=\"sigmoid\")  \n",
    "\n",
    "])"
   ],
   "metadata": {
    "collapsed": false,
    "ExecuteTime": {
     "end_time": "2024-01-27T15:14:44.239581900Z",
     "start_time": "2024-01-27T15:14:44.124953200Z"
    }
   },
   "id": "bd144a3436573b38",
   "execution_count": 177
  },
  {
   "cell_type": "code",
   "outputs": [
    {
     "name": "stdout",
     "output_type": "stream",
     "text": [
      "Epoch 1/10\n",
      "5/5 [==============================] - 2s 80ms/step - loss: 0.6908 - binary_accuracy: 0.5685 - val_loss: 0.6713 - val_binary_accuracy: 0.6042\n",
      "Epoch 2/10\n",
      "5/5 [==============================] - 0s 30ms/step - loss: 0.6905 - binary_accuracy: 0.5959 - val_loss: 0.6773 - val_binary_accuracy: 0.6042\n",
      "Epoch 3/10\n",
      "5/5 [==============================] - 0s 24ms/step - loss: 0.6790 - binary_accuracy: 0.5685 - val_loss: 0.6626 - val_binary_accuracy: 0.6042\n",
      "Epoch 4/10\n",
      "5/5 [==============================] - 0s 24ms/step - loss: 0.6697 - binary_accuracy: 0.5685 - val_loss: 0.6550 - val_binary_accuracy: 0.6458\n",
      "Epoch 5/10\n",
      "5/5 [==============================] - 0s 24ms/step - loss: 0.6560 - binary_accuracy: 0.5822 - val_loss: 0.6331 - val_binary_accuracy: 0.6667\n",
      "Epoch 6/10\n",
      "5/5 [==============================] - 0s 25ms/step - loss: 0.6257 - binary_accuracy: 0.8082 - val_loss: 0.6045 - val_binary_accuracy: 0.7292\n",
      "Epoch 7/10\n",
      "5/5 [==============================] - 0s 24ms/step - loss: 0.5763 - binary_accuracy: 0.7945 - val_loss: 0.5472 - val_binary_accuracy: 0.6875\n",
      "Epoch 8/10\n",
      "5/5 [==============================] - 0s 25ms/step - loss: 0.5174 - binary_accuracy: 0.7808 - val_loss: 0.5887 - val_binary_accuracy: 0.6875\n",
      "Epoch 9/10\n",
      "5/5 [==============================] - 0s 23ms/step - loss: 0.4794 - binary_accuracy: 0.8082 - val_loss: 0.4836 - val_binary_accuracy: 0.7500\n",
      "Epoch 10/10\n",
      "5/5 [==============================] - 0s 24ms/step - loss: 0.4281 - binary_accuracy: 0.7877 - val_loss: 0.7834 - val_binary_accuracy: 0.6458\n"
     ]
    },
    {
     "data": {
      "text/plain": "<keras.src.callbacks.History at 0x234a68a0610>"
     },
     "execution_count": 178,
     "metadata": {},
     "output_type": "execute_result"
    }
   ],
   "source": [
    "model.compile(optimizer=tf.keras.optimizers.Adam(), loss=tf.keras.losses.binary_crossentropy, metrics=tf.keras.metrics.binary_accuracy)\n",
    "model.fit(X_train,y_train,epochs=10,shuffle=True,validation_data=(X_val,y_val),verbose=1,callbacks=tf.keras.callbacks.EarlyStopping(patience=2))"
   ],
   "metadata": {
    "collapsed": false,
    "ExecuteTime": {
     "end_time": "2024-01-27T15:14:47.827743Z",
     "start_time": "2024-01-27T15:14:44.773994500Z"
    }
   },
   "id": "6afec5f1bbc16f95",
   "execution_count": 178
  },
  {
   "cell_type": "code",
   "outputs": [
    {
     "data": {
      "text/plain": "array([[1.],\n       [1.],\n       [1.],\n       [1.],\n       [1.],\n       [1.],\n       [1.],\n       [1.],\n       [1.],\n       [1.],\n       [1.],\n       [1.],\n       [1.],\n       [1.],\n       [1.],\n       [1.],\n       [1.],\n       [1.],\n       [1.],\n       [1.],\n       [1.],\n       [1.],\n       [1.],\n       [1.],\n       [1.],\n       [1.],\n       [1.],\n       [1.],\n       [1.],\n       [1.],\n       [1.],\n       [1.],\n       [1.],\n       [1.],\n       [1.],\n       [1.],\n       [1.],\n       [1.],\n       [1.],\n       [1.],\n       [1.],\n       [1.],\n       [1.],\n       [1.],\n       [1.],\n       [1.],\n       [1.],\n       [1.],\n       [1.],\n       [1.],\n       [1.],\n       [1.],\n       [1.],\n       [1.],\n       [1.],\n       [1.],\n       [1.],\n       [1.],\n       [1.],\n       [1.],\n       [1.],\n       [1.],\n       [1.],\n       [1.],\n       [1.]], dtype=float32)"
     },
     "execution_count": 179,
     "metadata": {},
     "output_type": "execute_result"
    }
   ],
   "source": [
    "y_pred.round()"
   ],
   "metadata": {
    "collapsed": false,
    "ExecuteTime": {
     "end_time": "2024-01-27T15:14:48.624949900Z",
     "start_time": "2024-01-27T15:14:48.589065700Z"
    }
   },
   "id": "b72586f5afc5d07d",
   "execution_count": 179
  },
  {
   "cell_type": "code",
   "outputs": [
    {
     "name": "stdout",
     "output_type": "stream",
     "text": [
      "Accuracy: 0.71\n"
     ]
    }
   ],
   "source": [
    "y_pred = model.predict(X_test,verbose=0).round()\n",
    "accuracy = accuracy_score(y_test, y_pred)\n",
    "print(\"Accuracy:\", round(accuracy,2))"
   ],
   "metadata": {
    "collapsed": false,
    "ExecuteTime": {
     "end_time": "2024-01-27T15:14:49.517194Z",
     "start_time": "2024-01-27T15:14:49.338052Z"
    }
   },
   "id": "23ce17d54a6d09e1",
   "execution_count": 180
  },
  {
   "cell_type": "code",
   "outputs": [],
   "source": [],
   "metadata": {
    "collapsed": false,
    "ExecuteTime": {
     "end_time": "2024-01-27T15:14:50.231566300Z",
     "start_time": "2024-01-27T15:14:50.185070500Z"
    }
   },
   "id": "8a36cc2ee063b691",
   "execution_count": 180
  },
  {
   "cell_type": "code",
   "outputs": [],
   "source": [],
   "metadata": {
    "collapsed": false,
    "ExecuteTime": {
     "end_time": "2024-01-27T15:14:51.373289800Z",
     "start_time": "2024-01-27T15:14:51.360477Z"
    }
   },
   "id": "75527f33f1e5593d",
   "execution_count": 180
  },
  {
   "cell_type": "code",
   "outputs": [],
   "source": [
    "test_path = os.getcwd() + \"\\\\test\\\\\"\n",
    "test_images = []\n",
    "test_images_1 = []\n",
    "test_labels = []\n",
    "test_labels_1 = []\n",
    "gg = 00\n",
    "oo = []\n",
    "for i in os.listdir(test_path):\n",
    "    image_original = Image.open(test_path + i)\n",
    "    image_grayscale = image_original.convert(\"L\")\n",
    "    \n",
    "    image_resized = image_grayscale.resize((64,64))\n",
    "    image_array = np.array(image_resized) / 255.0\n",
    "    image_array = image_array.reshape((64,64,1))\n",
    "    test_images.append(image_array)\n",
    "\n",
    "\n",
    "    image_resized_1 = image_grayscale.resize((256,256))\n",
    "    image_array_1 = np.array(image_resized_1) / 255.0\n",
    "    image_array_1 = image_array_1.reshape((256,256,1))\n",
    "    test_images_1.append(image_array_1)\n",
    "\n",
    "test_images = np.array(test_images)\n",
    "test_images_1 = np.array(test_images_1)"
   ],
   "metadata": {
    "collapsed": false,
    "ExecuteTime": {
     "end_time": "2024-01-27T15:14:52.027057Z",
     "start_time": "2024-01-27T15:14:51.952092900Z"
    }
   },
   "id": "7ff452c02713f59a",
   "execution_count": 181
  },
  {
   "cell_type": "code",
   "outputs": [
    {
     "data": {
      "text/plain": "(64, 64, 1)"
     },
     "execution_count": 182,
     "metadata": {},
     "output_type": "execute_result"
    }
   ],
   "source": [
    "test_images[0].shape"
   ],
   "metadata": {
    "collapsed": false,
    "ExecuteTime": {
     "end_time": "2024-01-27T15:14:52.375886800Z",
     "start_time": "2024-01-27T15:14:52.341291200Z"
    }
   },
   "id": "40d5c02e8cc1f765",
   "execution_count": 182
  },
  {
   "cell_type": "code",
   "outputs": [
    {
     "data": {
      "text/plain": "(256, 256, 1)"
     },
     "execution_count": 183,
     "metadata": {},
     "output_type": "execute_result"
    }
   ],
   "source": [
    "test_images_1[0].shape"
   ],
   "metadata": {
    "collapsed": false,
    "ExecuteTime": {
     "end_time": "2024-01-27T15:14:52.821101200Z",
     "start_time": "2024-01-27T15:14:52.809760Z"
    }
   },
   "id": "81017e75ca8bba92",
   "execution_count": 183
  },
  {
   "cell_type": "code",
   "outputs": [],
   "source": [
    "test_labels = model.predict(test_images,verbose=0).round()"
   ],
   "metadata": {
    "collapsed": false,
    "ExecuteTime": {
     "end_time": "2024-01-27T15:14:53.346186Z",
     "start_time": "2024-01-27T15:14:53.262125400Z"
    }
   },
   "id": "c0b0b0a608373ad7",
   "execution_count": 184
  },
  {
   "cell_type": "code",
   "outputs": [
    {
     "data": {
      "text/plain": "array([[1.],\n       [1.],\n       [1.],\n       [1.],\n       [1.],\n       [1.],\n       [1.],\n       [1.],\n       [1.],\n       [1.],\n       [1.],\n       [1.],\n       [1.],\n       [1.],\n       [1.],\n       [1.],\n       [1.]], dtype=float32)"
     },
     "execution_count": 185,
     "metadata": {},
     "output_type": "execute_result"
    }
   ],
   "source": [
    "test_labels"
   ],
   "metadata": {
    "collapsed": false,
    "ExecuteTime": {
     "end_time": "2024-01-27T15:14:53.730335200Z",
     "start_time": "2024-01-27T15:14:53.713527100Z"
    }
   },
   "id": "f84647bbb3bfa680",
   "execution_count": 185
  },
  {
   "cell_type": "code",
   "outputs": [],
   "source": [
    "model_1 = tf.keras.models.Sequential(layers=[\n",
    "    tf.keras.layers.Conv2D(filters=16, kernel_size=(3,3), activation=\"relu\", input_shape=(256,256,1)),\n",
    "    tf.keras.layers.MaxPooling2D(pool_size=(2,2)),\n",
    "\n",
    "\n",
    "    tf.keras.layers.Conv2D(filters=32, kernel_size=(3,3), activation=\"relu\"),\n",
    "    tf.keras.layers.MaxPooling2D(pool_size=(2,2)),\n",
    "\n",
    "\n",
    "    tf.keras.layers.Conv2D(filters=64, kernel_size=(3,3), activation=\"relu\"),\n",
    "    tf.keras.layers.MaxPooling2D(pool_size=(2,2)),\n",
    "\n",
    "    tf.keras.layers.Conv2D(filters=128, kernel_size=(3,3), activation=\"relu\"),\n",
    "    tf.keras.layers.MaxPooling2D(pool_size=(2,2)),\n",
    "\n",
    "    tf.keras.layers.Flatten(),\n",
    "\n",
    "    tf.keras.layers.Dense(units=128, activation=\"relu\"),\n",
    "    tf.keras.layers.Dense(units=1, activation=\"sigmoid\")\n",
    "\n",
    "])"
   ],
   "metadata": {
    "collapsed": false,
    "ExecuteTime": {
     "end_time": "2024-01-27T15:14:54.332766200Z",
     "start_time": "2024-01-27T15:14:54.217445900Z"
    }
   },
   "id": "8754860643808377",
   "execution_count": 186
  },
  {
   "cell_type": "code",
   "outputs": [
    {
     "name": "stdout",
     "output_type": "stream",
     "text": [
      "Epoch 1/75\n",
      "6/6 [==============================] - 3s 216ms/step - loss: 0.6771 - binary_accuracy: 0.5964 - val_loss: 0.6534 - val_binary_accuracy: 0.5610\n",
      "Epoch 2/75\n",
      "6/6 [==============================] - 1s 150ms/step - loss: 0.6195 - binary_accuracy: 0.6928 - val_loss: 0.5778 - val_binary_accuracy: 0.7561\n",
      "Epoch 3/75\n",
      "6/6 [==============================] - 1s 139ms/step - loss: 0.6080 - binary_accuracy: 0.6747 - val_loss: 0.5273 - val_binary_accuracy: 0.7805\n",
      "Epoch 4/75\n",
      "6/6 [==============================] - 1s 138ms/step - loss: 0.5616 - binary_accuracy: 0.7289 - val_loss: 0.5217 - val_binary_accuracy: 0.7561\n",
      "Epoch 5/75\n",
      "6/6 [==============================] - 1s 138ms/step - loss: 0.5684 - binary_accuracy: 0.7229 - val_loss: 0.4795 - val_binary_accuracy: 0.7561\n",
      "Epoch 6/75\n",
      "6/6 [==============================] - 1s 136ms/step - loss: 0.5299 - binary_accuracy: 0.7349 - val_loss: 0.4568 - val_binary_accuracy: 0.8049\n",
      "Epoch 7/75\n",
      "6/6 [==============================] - 1s 137ms/step - loss: 0.5152 - binary_accuracy: 0.7410 - val_loss: 0.4420 - val_binary_accuracy: 0.8049\n",
      "Epoch 8/75\n",
      "6/6 [==============================] - 1s 140ms/step - loss: 0.4972 - binary_accuracy: 0.7590 - val_loss: 0.4255 - val_binary_accuracy: 0.8049\n",
      "Epoch 9/75\n",
      "6/6 [==============================] - 1s 137ms/step - loss: 0.4826 - binary_accuracy: 0.7892 - val_loss: 0.4046 - val_binary_accuracy: 0.8537\n",
      "Epoch 10/75\n",
      "6/6 [==============================] - 1s 136ms/step - loss: 0.4649 - binary_accuracy: 0.7952 - val_loss: 0.3883 - val_binary_accuracy: 0.8537\n",
      "Epoch 11/75\n",
      "6/6 [==============================] - 1s 140ms/step - loss: 0.4741 - binary_accuracy: 0.7771 - val_loss: 0.3856 - val_binary_accuracy: 0.9268\n",
      "Epoch 12/75\n",
      "6/6 [==============================] - 1s 138ms/step - loss: 0.4338 - binary_accuracy: 0.8313 - val_loss: 0.3897 - val_binary_accuracy: 0.9268\n",
      "Epoch 13/75\n",
      "6/6 [==============================] - 1s 138ms/step - loss: 0.4255 - binary_accuracy: 0.8494 - val_loss: 0.3728 - val_binary_accuracy: 0.9268\n",
      "Epoch 14/75\n",
      "6/6 [==============================] - 1s 140ms/step - loss: 0.4090 - binary_accuracy: 0.8554 - val_loss: 0.3599 - val_binary_accuracy: 0.9268\n",
      "Epoch 15/75\n",
      "6/6 [==============================] - 1s 140ms/step - loss: 0.4023 - binary_accuracy: 0.8313 - val_loss: 0.3431 - val_binary_accuracy: 0.9024\n",
      "Epoch 16/75\n",
      "6/6 [==============================] - 1s 142ms/step - loss: 0.3703 - binary_accuracy: 0.8373 - val_loss: 0.3708 - val_binary_accuracy: 0.8780\n",
      "Epoch 17/75\n",
      "6/6 [==============================] - 1s 141ms/step - loss: 0.3560 - binary_accuracy: 0.8614 - val_loss: 0.3266 - val_binary_accuracy: 0.8780\n",
      "Epoch 18/75\n",
      "6/6 [==============================] - 1s 144ms/step - loss: 0.3300 - binary_accuracy: 0.8855 - val_loss: 0.3427 - val_binary_accuracy: 0.9024\n",
      "Epoch 19/75\n",
      "6/6 [==============================] - 1s 153ms/step - loss: 0.3431 - binary_accuracy: 0.8735 - val_loss: 0.3116 - val_binary_accuracy: 0.8780\n",
      "Epoch 20/75\n",
      "6/6 [==============================] - 1s 156ms/step - loss: 0.3168 - binary_accuracy: 0.8976 - val_loss: 0.2971 - val_binary_accuracy: 0.8780\n",
      "Epoch 21/75\n",
      "6/6 [==============================] - 1s 157ms/step - loss: 0.2804 - binary_accuracy: 0.8916 - val_loss: 0.2830 - val_binary_accuracy: 0.9024\n",
      "Epoch 22/75\n",
      "6/6 [==============================] - 1s 156ms/step - loss: 0.2797 - binary_accuracy: 0.8976 - val_loss: 0.2854 - val_binary_accuracy: 0.8537\n",
      "Epoch 23/75\n",
      "6/6 [==============================] - 1s 148ms/step - loss: 0.2706 - binary_accuracy: 0.9157 - val_loss: 0.2946 - val_binary_accuracy: 0.8780\n",
      "Epoch 24/75\n",
      "6/6 [==============================] - 1s 153ms/step - loss: 0.3259 - binary_accuracy: 0.8494 - val_loss: 0.2763 - val_binary_accuracy: 0.8537\n",
      "Epoch 25/75\n",
      "6/6 [==============================] - 1s 154ms/step - loss: 0.2760 - binary_accuracy: 0.9096 - val_loss: 0.2707 - val_binary_accuracy: 0.8537\n",
      "Epoch 26/75\n",
      "6/6 [==============================] - 1s 153ms/step - loss: 0.2344 - binary_accuracy: 0.9277 - val_loss: 0.2685 - val_binary_accuracy: 0.8780\n",
      "Epoch 27/75\n",
      "6/6 [==============================] - 1s 148ms/step - loss: 0.1952 - binary_accuracy: 0.9398 - val_loss: 0.2744 - val_binary_accuracy: 0.9024\n",
      "Epoch 28/75\n",
      "6/6 [==============================] - 1s 156ms/step - loss: 0.2309 - binary_accuracy: 0.9036 - val_loss: 0.2574 - val_binary_accuracy: 0.8780\n",
      "Epoch 29/75\n",
      "6/6 [==============================] - 1s 155ms/step - loss: 0.1940 - binary_accuracy: 0.9337 - val_loss: 0.2332 - val_binary_accuracy: 0.8780\n",
      "Epoch 30/75\n",
      "6/6 [==============================] - 1s 153ms/step - loss: 0.1693 - binary_accuracy: 0.9518 - val_loss: 0.2285 - val_binary_accuracy: 0.8537\n",
      "Epoch 31/75\n",
      "6/6 [==============================] - 1s 155ms/step - loss: 0.1577 - binary_accuracy: 0.9398 - val_loss: 0.2191 - val_binary_accuracy: 0.8780\n",
      "Epoch 32/75\n",
      "6/6 [==============================] - 1s 148ms/step - loss: 0.1625 - binary_accuracy: 0.9398 - val_loss: 0.2033 - val_binary_accuracy: 0.8780\n",
      "Epoch 33/75\n",
      "6/6 [==============================] - 1s 155ms/step - loss: 0.1531 - binary_accuracy: 0.9819 - val_loss: 0.2002 - val_binary_accuracy: 0.8537\n",
      "Epoch 34/75\n",
      "6/6 [==============================] - 1s 153ms/step - loss: 0.1326 - binary_accuracy: 0.9639 - val_loss: 0.1955 - val_binary_accuracy: 0.9268\n",
      "Epoch 35/75\n",
      "6/6 [==============================] - 1s 153ms/step - loss: 0.1314 - binary_accuracy: 0.9699 - val_loss: 0.1862 - val_binary_accuracy: 0.9024\n",
      "Epoch 36/75\n",
      "6/6 [==============================] - 1s 150ms/step - loss: 0.1182 - binary_accuracy: 0.9819 - val_loss: 0.1974 - val_binary_accuracy: 0.8537\n",
      "Epoch 37/75\n",
      "6/6 [==============================] - 1s 151ms/step - loss: 0.1040 - binary_accuracy: 0.9639 - val_loss: 0.1830 - val_binary_accuracy: 0.9024\n",
      "Epoch 38/75\n",
      "6/6 [==============================] - 1s 171ms/step - loss: 0.0936 - binary_accuracy: 0.9880 - val_loss: 0.1831 - val_binary_accuracy: 0.8780\n",
      "Epoch 39/75\n",
      "6/6 [==============================] - 1s 151ms/step - loss: 0.0883 - binary_accuracy: 0.9639 - val_loss: 0.1695 - val_binary_accuracy: 0.9024\n",
      "Epoch 40/75\n",
      "6/6 [==============================] - 1s 154ms/step - loss: 0.0799 - binary_accuracy: 0.9940 - val_loss: 0.1678 - val_binary_accuracy: 0.9024\n",
      "Epoch 41/75\n",
      "6/6 [==============================] - 1s 153ms/step - loss: 0.0735 - binary_accuracy: 0.9880 - val_loss: 0.1584 - val_binary_accuracy: 0.9024\n",
      "Epoch 42/75\n",
      "6/6 [==============================] - 1s 152ms/step - loss: 0.0660 - binary_accuracy: 0.9880 - val_loss: 0.1533 - val_binary_accuracy: 0.9268\n",
      "Epoch 43/75\n",
      "6/6 [==============================] - 1s 152ms/step - loss: 0.0744 - binary_accuracy: 0.9940 - val_loss: 0.1715 - val_binary_accuracy: 0.9024\n",
      "Epoch 44/75\n",
      "6/6 [==============================] - 1s 150ms/step - loss: 0.0652 - binary_accuracy: 0.9819 - val_loss: 0.1690 - val_binary_accuracy: 0.9512\n",
      "Epoch 45/75\n",
      "6/6 [==============================] - 1s 150ms/step - loss: 0.0588 - binary_accuracy: 0.9940 - val_loss: 0.1544 - val_binary_accuracy: 0.9512\n",
      "Epoch 46/75\n",
      "6/6 [==============================] - 1s 160ms/step - loss: 0.0538 - binary_accuracy: 0.9940 - val_loss: 0.1664 - val_binary_accuracy: 0.9024\n"
     ]
    },
    {
     "data": {
      "text/plain": "<keras.src.callbacks.History at 0x234a7f30310>"
     },
     "execution_count": 187,
     "metadata": {},
     "output_type": "execute_result"
    }
   ],
   "source": [
    "model_1.compile(optimizer=tf.keras.optimizers.Adam(learning_rate=0.0001), loss=tf.keras.losses.binary_crossentropy, metrics=tf.keras.metrics.binary_accuracy)\n",
    "model_1.fit(X_train_1,y_train_1,epochs=75,shuffle=True,validation_data=(X_val_1,y_val_1),verbose=1,callbacks=tf.keras.callbacks.EarlyStopping(patience=4))"
   ],
   "metadata": {
    "collapsed": false,
    "ExecuteTime": {
     "end_time": "2024-01-27T15:15:38.321481100Z",
     "start_time": "2024-01-27T15:14:54.737039400Z"
    }
   },
   "id": "b3e7d2f53cba9083",
   "execution_count": 187
  },
  {
   "cell_type": "code",
   "outputs": [],
   "source": [],
   "metadata": {
    "collapsed": false,
    "ExecuteTime": {
     "end_time": "2024-01-27T15:15:38.323620900Z",
     "start_time": "2024-01-27T15:15:38.319415400Z"
    }
   },
   "id": "f3c5bd8339c5de7e",
   "execution_count": 187
  },
  {
   "cell_type": "code",
   "outputs": [
    {
     "name": "stdout",
     "output_type": "stream",
     "text": [
      "2/2 [==============================] - 0s 44ms/step\n",
      "Accuracy: 0.83\n"
     ]
    }
   ],
   "source": [
    "y_pred_1 = model_1.predict(X_test_1,verbose=1).round()\n",
    "accuracy_1 = accuracy_score(y_test_1, y_pred_1)\n",
    "print(\"Accuracy:\", round(accuracy_1,2))"
   ],
   "metadata": {
    "collapsed": false,
    "ExecuteTime": {
     "end_time": "2024-01-27T15:15:40.212307700Z",
     "start_time": "2024-01-27T15:15:39.901449800Z"
    }
   },
   "id": "12507901e58b9ff5",
   "execution_count": 188
  },
  {
   "cell_type": "code",
   "outputs": [
    {
     "data": {
      "text/plain": "array([[1.],\n       [1.],\n       [1.],\n       [1.],\n       [1.],\n       [1.],\n       [0.],\n       [1.],\n       [1.],\n       [0.],\n       [1.],\n       [1.],\n       [1.],\n       [0.],\n       [1.],\n       [1.],\n       [1.]], dtype=float32)"
     },
     "execution_count": 189,
     "metadata": {},
     "output_type": "execute_result"
    }
   ],
   "source": [
    "test_labels_1 = model_1.predict(test_images_1,verbose=0).round()\n",
    "test_labels_1"
   ],
   "metadata": {
    "collapsed": false,
    "ExecuteTime": {
     "end_time": "2024-01-27T15:15:41.362042400Z",
     "start_time": "2024-01-27T15:15:41.224444500Z"
    }
   },
   "id": "d7ba20024149bc9c",
   "execution_count": 189
  },
  {
   "cell_type": "code",
   "outputs": [],
   "source": [],
   "metadata": {
    "collapsed": false
   },
   "id": "6a9dbf472e6f9b3e"
  }
 ],
 "metadata": {
  "kernelspec": {
   "display_name": "Python 3",
   "language": "python",
   "name": "python3"
  },
  "language_info": {
   "codemirror_mode": {
    "name": "ipython",
    "version": 2
   },
   "file_extension": ".py",
   "mimetype": "text/x-python",
   "name": "python",
   "nbconvert_exporter": "python",
   "pygments_lexer": "ipython2",
   "version": "2.7.6"
  }
 },
 "nbformat": 4,
 "nbformat_minor": 5
}
