{
 "cells": [
  {
   "cell_type": "code",
   "execution_count": 1,
   "id": "initial_id",
   "metadata": {
    "ExecuteTime": {
     "end_time": "2024-01-27T18:05:54.060040100Z",
     "start_time": "2024-01-27T18:05:54.054912600Z"
    }
   },
   "outputs": [
    {
     "name": "stderr",
     "output_type": "stream",
     "text": [
      "C:\\Users\\amith\\AppData\\Local\\Temp\\ipykernel_18536\\1338435797.py:2: DeprecationWarning: \n",
      "Pyarrow will become a required dependency of pandas in the next major release of pandas (pandas 3.0),\n",
      "(to allow more performant data types, such as the Arrow string type, and better interoperability with other libraries)\n",
      "but was not found to be installed on your system.\n",
      "If this would cause problems for you,\n",
      "please provide us feedback at https://github.com/pandas-dev/pandas/issues/54466\n",
      "        \n",
      "  import pandas as pd\n"
     ]
    },
    {
     "name": "stdout",
     "output_type": "stream",
     "text": [
      "WARNING:tensorflow:From C:\\Users\\amith\\AppData\\Local\\Programs\\Python\\Python311\\Lib\\site-packages\\keras\\src\\losses.py:2976: The name tf.losses.sparse_softmax_cross_entropy is deprecated. Please use tf.compat.v1.losses.sparse_softmax_cross_entropy instead.\n",
      "\n"
     ]
    }
   ],
   "source": [
    "import numpy as np\n",
    "import pandas as pd\n",
    "import matplotlib.pyplot as plt\n",
    "import seaborn as sns\n",
    "from PIL import Image\n",
    "from PIL import *\n",
    "import os\n",
    "import warnings\n",
    "import tensorflow as tf\n",
    "warnings.filterwarnings(\"ignore\")\n",
    "from sklearn.metrics import *"
   ]
  },
  {
   "cell_type": "code",
   "execution_count": 2,
   "id": "23abf4ffc27abc6c",
   "metadata": {
    "ExecuteTime": {
     "end_time": "2024-01-27T18:05:54.469502700Z",
     "start_time": "2024-01-27T18:05:54.454524500Z"
    },
    "collapsed": false,
    "jupyter": {
     "outputs_hidden": false
    }
   },
   "outputs": [],
   "source": [
    "tumour_dataset_path = os.getcwd() + \"\\data\"\n",
    "\n",
    "image_files = []\n",
    "labels = []\n",
    "ctr = 0\n",
    "\n",
    "lab = []\n",
    "for i in os.listdir(tumour_dataset_path):\n",
    "    lab.append(i)\n",
    "lab = sorted(lab)\n",
    "    \n",
    "for i in lab:\n",
    "    k = tumour_dataset_path + \"\\\\\" + i + \"\\\\\"\n",
    "    for j in os.listdir(k):\n",
    "        image_files.append(k + j)\n",
    "        labels.append(ctr)\n",
    "    ctr += 1\n",
    "image_files = np.array(image_files)\n",
    "labels = np.array(labels)\n",
    "labels_1 = labels.copy()"
   ]
  },
  {
   "cell_type": "code",
   "execution_count": 3,
   "id": "9aa51b01e0f6291",
   "metadata": {
    "ExecuteTime": {
     "end_time": "2024-01-27T18:05:56.195005200Z",
     "start_time": "2024-01-27T18:05:55.207492100Z"
    },
    "collapsed": false,
    "jupyter": {
     "outputs_hidden": false
    }
   },
   "outputs": [],
   "source": [
    "images = []\n",
    "images_1 = []\n",
    "\n",
    "for i in image_files:\n",
    "    image_original = Image.open(i)\n",
    "    image_grayscale = image_original.convert(\"L\")\n",
    "    image_resized = image_grayscale.resize((64,64))\n",
    "    image_array = np.array(image_resized) / 255.0\n",
    "    image_array = image_array.reshape((64,64,1))\n",
    "    images.append(image_array)\n",
    "\n",
    "    image_resized_1 = image_grayscale.resize((256,256))\n",
    "    image_array_1 = np.array(image_resized_1) / 255.0\n",
    "    image_array_1 = image_array_1.reshape((256,256,1))\n",
    "    images_1.append(image_array_1)\n",
    "\n",
    "    \n",
    "images = np.array(images)\n",
    "images_1 = np.array(images_1)"
   ]
  },
  {
   "cell_type": "code",
   "execution_count": 4,
   "id": "2797077f587ac88f",
   "metadata": {
    "ExecuteTime": {
     "end_time": "2024-01-27T18:05:57.391272400Z",
     "start_time": "2024-01-27T18:05:57.385753Z"
    },
    "collapsed": false,
    "jupyter": {
     "outputs_hidden": false
    }
   },
   "outputs": [
    {
     "data": {
      "text/plain": [
       "(64, 64, 1)"
      ]
     },
     "execution_count": 4,
     "metadata": {},
     "output_type": "execute_result"
    }
   ],
   "source": [
    "images[0].shape"
   ]
  },
  {
   "cell_type": "code",
   "execution_count": 5,
   "id": "dfd5b18257c07b0a",
   "metadata": {
    "ExecuteTime": {
     "end_time": "2024-01-27T18:05:57.858825100Z",
     "start_time": "2024-01-27T18:05:57.850401500Z"
    },
    "collapsed": false,
    "jupyter": {
     "outputs_hidden": false
    }
   },
   "outputs": [
    {
     "data": {
      "text/plain": [
       "(256, 256, 1)"
      ]
     },
     "execution_count": 5,
     "metadata": {},
     "output_type": "execute_result"
    }
   ],
   "source": [
    "images_1[0].shape"
   ]
  },
  {
   "cell_type": "code",
   "execution_count": 6,
   "id": "85643e164c5e56f",
   "metadata": {
    "ExecuteTime": {
     "end_time": "2024-01-27T18:06:04.619236600Z",
     "start_time": "2024-01-27T18:06:04.552351700Z"
    },
    "collapsed": false,
    "jupyter": {
     "outputs_hidden": false
    }
   },
   "outputs": [],
   "source": [
    "image_positions = list(range(len(images)))\n",
    "np.random.shuffle(image_positions)\n",
    "image_labels_shuffled = labels[image_positions]\n",
    "image_inputs_shuffled = images[image_positions]\n",
    "\n",
    "image_positions_1 = list(range(len(images_1)))\n",
    "np.random.shuffle(image_positions_1)\n",
    "image_labels_shuffled_1 = labels_1[image_positions_1]\n",
    "image_inputs_shuffled_1 = images_1[image_positions_1]"
   ]
  },
  {
   "cell_type": "code",
   "execution_count": 7,
   "id": "618980ec2d5891eb",
   "metadata": {
    "ExecuteTime": {
     "end_time": "2024-01-27T18:09:41.025159700Z",
     "start_time": "2024-01-27T18:09:40.980688300Z"
    },
    "collapsed": false,
    "jupyter": {
     "outputs_hidden": false
    }
   },
   "outputs": [],
   "source": [
    "number_of_images = len(image_inputs_shuffled)\n",
    "\n",
    "div_ratio = 0.25\n",
    "\n",
    "test_size = round(number_of_images * div_ratio)\n",
    "train_val_size = number_of_images - test_size\n",
    "val_test_threshold = train_val_size\n",
    "\n",
    "val_size = round(train_val_size * div_ratio)\n",
    "train_size = train_val_size - val_size\n",
    "train_val_threshold = train_size\n",
    "\n",
    "\n",
    "number_of_images_1 = len(image_inputs_shuffled_1)\n",
    "\n",
    "div_ratio_1 = 0.2\n",
    "\n",
    "test_size_1 = round(number_of_images_1 * div_ratio_1)\n",
    "train_val_size_1 = number_of_images_1 - test_size_1\n",
    "val_test_threshold_1 = train_val_size_1\n",
    "\n",
    "val_size_1 = round(train_val_size_1 * div_ratio_1)\n",
    "train_size_1 = train_val_size_1 - val_size_1\n",
    "train_val_threshold_1 = train_size_1"
   ]
  },
  {
   "cell_type": "code",
   "execution_count": 8,
   "id": "5fb41cb6ddb2a246",
   "metadata": {
    "ExecuteTime": {
     "end_time": "2024-01-27T18:09:55.276883600Z",
     "start_time": "2024-01-27T18:09:55.254820800Z"
    },
    "collapsed": false,
    "jupyter": {
     "outputs_hidden": false
    }
   },
   "outputs": [
    {
     "name": "stdout",
     "output_type": "stream",
     "text": [
      "194\n",
      "146\n"
     ]
    }
   ],
   "source": [
    "print(val_test_threshold)\n",
    "print(train_val_threshold)"
   ]
  },
  {
   "cell_type": "code",
   "execution_count": 9,
   "id": "e287b89ef4aee65b",
   "metadata": {
    "ExecuteTime": {
     "end_time": "2024-01-27T18:09:55.799791200Z",
     "start_time": "2024-01-27T18:09:55.790607600Z"
    },
    "collapsed": false,
    "jupyter": {
     "outputs_hidden": false
    }
   },
   "outputs": [
    {
     "name": "stdout",
     "output_type": "stream",
     "text": [
      "207\n",
      "166\n"
     ]
    }
   ],
   "source": [
    "print(val_test_threshold_1)\n",
    "print(train_val_threshold_1)"
   ]
  },
  {
   "cell_type": "code",
   "execution_count": 10,
   "id": "f056d36d31469f46",
   "metadata": {
    "ExecuteTime": {
     "end_time": "2024-01-27T18:10:59.534988200Z",
     "start_time": "2024-01-27T18:10:59.496335300Z"
    },
    "collapsed": false,
    "jupyter": {
     "outputs_hidden": false
    }
   },
   "outputs": [],
   "source": [
    "X_train = image_inputs_shuffled[:train_val_threshold]\n",
    "y_train = image_labels_shuffled[:train_val_threshold]\n",
    "\n",
    "X_val = image_inputs_shuffled[train_val_threshold:val_test_threshold]\n",
    "y_val = image_labels_shuffled[train_val_threshold:val_test_threshold]\n",
    "\n",
    "X_test = image_inputs_shuffled[val_test_threshold:]\n",
    "y_test = image_labels_shuffled[val_test_threshold:]\n",
    "\n",
    "\n",
    "X_train_1 = image_inputs_shuffled_1[:train_val_threshold_1]\n",
    "y_train_1 = image_labels_shuffled_1[:train_val_threshold_1]\n",
    "\n",
    "X_val_1 = image_inputs_shuffled_1[train_val_threshold_1:val_test_threshold_1]\n",
    "y_val_1 = image_labels_shuffled_1[train_val_threshold_1:val_test_threshold_1]\n",
    "\n",
    "X_test_1 = image_inputs_shuffled_1[val_test_threshold_1:]\n",
    "y_test_1 = image_labels_shuffled_1[val_test_threshold_1:]"
   ]
  },
  {
   "cell_type": "code",
   "execution_count": 11,
   "id": "5d28a822b12e2dce",
   "metadata": {
    "ExecuteTime": {
     "end_time": "2024-01-27T18:11:00.130568200Z",
     "start_time": "2024-01-27T18:11:00.122274900Z"
    },
    "collapsed": false,
    "jupyter": {
     "outputs_hidden": false
    }
   },
   "outputs": [
    {
     "name": "stdout",
     "output_type": "stream",
     "text": [
      "146 48 65\n",
      "166 41 52\n"
     ]
    }
   ],
   "source": [
    "print(X_train.shape[0],X_val.shape[0],X_test.shape[0])\n",
    "print(X_train_1.shape[0],X_val_1.shape[0],X_test_1.shape[0])"
   ]
  },
  {
   "cell_type": "code",
   "execution_count": 12,
   "id": "bd144a3436573b38",
   "metadata": {
    "ExecuteTime": {
     "end_time": "2024-01-27T18:11:07.239474400Z",
     "start_time": "2024-01-27T18:11:07.129769600Z"
    },
    "collapsed": false,
    "jupyter": {
     "outputs_hidden": false
    }
   },
   "outputs": [
    {
     "name": "stdout",
     "output_type": "stream",
     "text": [
      "WARNING:tensorflow:From C:\\Users\\amith\\AppData\\Local\\Programs\\Python\\Python311\\Lib\\site-packages\\keras\\src\\backend.py:873: The name tf.get_default_graph is deprecated. Please use tf.compat.v1.get_default_graph instead.\n",
      "\n",
      "WARNING:tensorflow:From C:\\Users\\amith\\AppData\\Local\\Programs\\Python\\Python311\\Lib\\site-packages\\keras\\src\\layers\\pooling\\max_pooling2d.py:161: The name tf.nn.max_pool is deprecated. Please use tf.nn.max_pool2d instead.\n",
      "\n"
     ]
    }
   ],
   "source": [
    "model = tf.keras.models.Sequential(layers=[\n",
    "    tf.keras.layers.Conv2D(filters=16, kernel_size=(3,3), activation=\"relu\", input_shape=(64,64,1)),\n",
    "    tf.keras.layers.MaxPooling2D(pool_size=(2,2)),\n",
    "    \n",
    "    \n",
    "    tf.keras.layers.Conv2D(filters=32, kernel_size=(3,3), activation=\"relu\"),\n",
    "    tf.keras.layers.MaxPooling2D(pool_size=(2,2)),\n",
    "    \n",
    "    \n",
    "    tf.keras.layers.Conv2D(filters=64, kernel_size=(3,3), activation=\"relu\"),\n",
    "    tf.keras.layers.MaxPooling2D(pool_size=(2,2)),\n",
    "    \n",
    "    tf.keras.layers.Conv2D(filters=64, kernel_size=(3,3), activation=\"relu\"),\n",
    "    tf.keras.layers.MaxPooling2D(pool_size=(2,2)),\n",
    "    \n",
    "    tf.keras.layers.Flatten(),\n",
    "    \n",
    "    tf.keras.layers.Dense(units=64, activation=\"relu\"),\n",
    "    tf.keras.layers.Dense(units=1, activation=\"sigmoid\")  \n",
    "\n",
    "])"
   ]
  },
  {
   "cell_type": "code",
   "execution_count": 13,
   "id": "6afec5f1bbc16f95",
   "metadata": {
    "ExecuteTime": {
     "end_time": "2024-01-27T18:11:11.279535900Z",
     "start_time": "2024-01-27T18:11:08.785337400Z"
    },
    "collapsed": false,
    "jupyter": {
     "outputs_hidden": false
    }
   },
   "outputs": [
    {
     "name": "stdout",
     "output_type": "stream",
     "text": [
      "Epoch 1/10\n",
      "WARNING:tensorflow:From C:\\Users\\amith\\AppData\\Local\\Programs\\Python\\Python311\\Lib\\site-packages\\keras\\src\\utils\\tf_utils.py:492: The name tf.ragged.RaggedTensorValue is deprecated. Please use tf.compat.v1.ragged.RaggedTensorValue instead.\n",
      "\n",
      "WARNING:tensorflow:From C:\\Users\\amith\\AppData\\Local\\Programs\\Python\\Python311\\Lib\\site-packages\\keras\\src\\engine\\base_layer_utils.py:384: The name tf.executing_eagerly_outside_functions is deprecated. Please use tf.compat.v1.executing_eagerly_outside_functions instead.\n",
      "\n",
      "5/5 [==============================] - 3s 172ms/step - loss: 0.6957 - binary_accuracy: 0.5274 - val_loss: 0.6937 - val_binary_accuracy: 0.5000\n",
      "Epoch 2/10\n",
      "5/5 [==============================] - 0s 47ms/step - loss: 0.6811 - binary_accuracy: 0.6027 - val_loss: 0.7051 - val_binary_accuracy: 0.5000\n",
      "Epoch 3/10\n",
      "5/5 [==============================] - 0s 49ms/step - loss: 0.6704 - binary_accuracy: 0.6027 - val_loss: 0.7412 - val_binary_accuracy: 0.5000\n",
      "Epoch 4/10\n",
      "5/5 [==============================] - 0s 45ms/step - loss: 0.6775 - binary_accuracy: 0.6027 - val_loss: 0.7136 - val_binary_accuracy: 0.5000\n",
      "Epoch 5/10\n",
      "5/5 [==============================] - 0s 46ms/step - loss: 0.6717 - binary_accuracy: 0.6027 - val_loss: 0.7136 - val_binary_accuracy: 0.5000\n"
     ]
    },
    {
     "data": {
      "text/plain": [
       "<keras.src.callbacks.History at 0x1f26852d690>"
      ]
     },
     "execution_count": 13,
     "metadata": {},
     "output_type": "execute_result"
    }
   ],
   "source": [
    "model.compile(optimizer=tf.keras.optimizers.Adam(learning_rate=0.01), loss=tf.keras.losses.binary_crossentropy, metrics=tf.keras.metrics.binary_accuracy)\n",
    "model.fit(X_train,y_train,epochs=10,shuffle=True,validation_data=(X_val,y_val),verbose=1,callbacks=tf.keras.callbacks.EarlyStopping(patience=4))"
   ]
  },
  {
   "cell_type": "code",
   "execution_count": 14,
   "id": "23ce17d54a6d09e1",
   "metadata": {
    "ExecuteTime": {
     "end_time": "2024-01-27T18:11:12.179012400Z",
     "start_time": "2024-01-27T18:11:11.986343300Z"
    },
    "collapsed": false,
    "jupyter": {
     "outputs_hidden": false
    }
   },
   "outputs": [
    {
     "name": "stdout",
     "output_type": "stream",
     "text": [
      "Accuracy: 0.63\n"
     ]
    }
   ],
   "source": [
    "y_pred = model.predict(X_test,verbose=0).round()\n",
    "accuracy = accuracy_score(y_test, y_pred)\n",
    "print(\"Accuracy:\", round(accuracy,2))"
   ]
  },
  {
   "cell_type": "code",
   "execution_count": 15,
   "id": "8a36cc2ee063b691",
   "metadata": {
    "ExecuteTime": {
     "end_time": "2024-01-27T18:11:12.931841800Z",
     "start_time": "2024-01-27T18:11:12.925161Z"
    },
    "collapsed": false,
    "jupyter": {
     "outputs_hidden": false
    }
   },
   "outputs": [
    {
     "ename": "SyntaxError",
     "evalue": "invalid syntax (3133375982.py, line 1)",
     "output_type": "error",
     "traceback": [
      "\u001b[1;36m  Cell \u001b[1;32mIn[15], line 1\u001b[1;36m\u001b[0m\n\u001b[1;33m    pd.\u001b[0m\n\u001b[1;37m       ^\u001b[0m\n\u001b[1;31mSyntaxError\u001b[0m\u001b[1;31m:\u001b[0m invalid syntax\n"
     ]
    }
   ],
   "source": [
    "pd."
   ]
  },
  {
   "cell_type": "code",
   "execution_count": null,
   "id": "75527f33f1e5593d",
   "metadata": {
    "ExecuteTime": {
     "end_time": "2024-01-27T18:11:13.324076200Z",
     "start_time": "2024-01-27T18:11:13.316096600Z"
    },
    "collapsed": false,
    "jupyter": {
     "outputs_hidden": false
    }
   },
   "outputs": [],
   "source": []
  },
  {
   "cell_type": "code",
   "execution_count": 16,
   "id": "7ff452c02713f59a",
   "metadata": {
    "ExecuteTime": {
     "end_time": "2024-01-27T18:11:13.830227200Z",
     "start_time": "2024-01-27T18:11:13.775081300Z"
    },
    "collapsed": false,
    "jupyter": {
     "outputs_hidden": false
    }
   },
   "outputs": [],
   "source": [
    "test_path = os.getcwd() + \"\\\\test\\\\\"\n",
    "test_images = []\n",
    "test_images_1 = []\n",
    "test_labels = []\n",
    "test_labels_1 = []\n",
    "gg = 00\n",
    "oo = []\n",
    "for i in os.listdir(test_path):\n",
    "    image_original = Image.open(test_path + i)\n",
    "    image_grayscale = image_original.convert(\"L\")\n",
    "    \n",
    "    image_resized = image_grayscale.resize((64,64))\n",
    "    image_array = np.array(image_resized) / 255.0\n",
    "    image_array = image_array.reshape((64,64,1))\n",
    "    test_images.append(image_array)\n",
    "\n",
    "\n",
    "    image_resized_1 = image_grayscale.resize((256,256))\n",
    "    image_array_1 = np.array(image_resized_1) / 255.0\n",
    "    image_array_1 = image_array_1.reshape((256,256,1))\n",
    "    test_images_1.append(image_array_1)\n",
    "\n",
    "test_images = np.array(test_images)\n",
    "test_images_1 = np.array(test_images_1)"
   ]
  },
  {
   "cell_type": "code",
   "execution_count": 17,
   "id": "40d5c02e8cc1f765",
   "metadata": {
    "ExecuteTime": {
     "end_time": "2024-01-27T18:11:16.137926800Z",
     "start_time": "2024-01-27T18:11:16.120736300Z"
    },
    "collapsed": false,
    "jupyter": {
     "outputs_hidden": false
    }
   },
   "outputs": [
    {
     "data": {
      "text/plain": [
       "(64, 64, 1)"
      ]
     },
     "execution_count": 17,
     "metadata": {},
     "output_type": "execute_result"
    }
   ],
   "source": [
    "test_images[0].shape"
   ]
  },
  {
   "cell_type": "code",
   "execution_count": 18,
   "id": "81017e75ca8bba92",
   "metadata": {
    "ExecuteTime": {
     "end_time": "2024-01-27T18:11:16.798366200Z",
     "start_time": "2024-01-27T18:11:16.789769500Z"
    },
    "collapsed": false,
    "jupyter": {
     "outputs_hidden": false
    }
   },
   "outputs": [
    {
     "data": {
      "text/plain": [
       "(256, 256, 1)"
      ]
     },
     "execution_count": 18,
     "metadata": {},
     "output_type": "execute_result"
    }
   ],
   "source": [
    "test_images_1[0].shape"
   ]
  },
  {
   "cell_type": "code",
   "execution_count": 19,
   "id": "c0b0b0a608373ad7",
   "metadata": {
    "ExecuteTime": {
     "end_time": "2024-01-27T18:11:17.568960900Z",
     "start_time": "2024-01-27T18:11:17.492138900Z"
    },
    "collapsed": false,
    "jupyter": {
     "outputs_hidden": false
    }
   },
   "outputs": [],
   "source": [
    "test_labels = model.predict(test_images,verbose=0).round()"
   ]
  },
  {
   "cell_type": "code",
   "execution_count": 20,
   "id": "f84647bbb3bfa680",
   "metadata": {
    "ExecuteTime": {
     "end_time": "2024-01-27T18:11:18.119759100Z",
     "start_time": "2024-01-27T18:11:18.113229700Z"
    },
    "collapsed": false,
    "jupyter": {
     "outputs_hidden": false
    }
   },
   "outputs": [
    {
     "name": "stdout",
     "output_type": "stream",
     "text": [
      "[1.0, 1.0, 1.0, 1.0, 1.0, 1.0, 1.0, 1.0, 1.0, 1.0, 1.0, 1.0, 1.0, 1.0, 1.0, 1.0, 1.0]\n"
     ]
    }
   ],
   "source": [
    "print(test_labels.reshape(1,-1)[0].tolist())"
   ]
  },
  {
   "cell_type": "code",
   "execution_count": 21,
   "id": "8754860643808377",
   "metadata": {
    "ExecuteTime": {
     "end_time": "2024-01-27T18:11:19.092408300Z",
     "start_time": "2024-01-27T18:11:19.079529200Z"
    },
    "collapsed": false,
    "jupyter": {
     "outputs_hidden": false
    }
   },
   "outputs": [],
   "source": [
    "model_1 = tf.keras.models.Sequential(layers=[\n",
    "\n",
    "    tf.keras.layers.Conv2D(filters=32, kernel_size=(3,3), activation=\"relu\"),\n",
    "    tf.keras.layers.MaxPooling2D(pool_size=(2,2)),\n",
    "\n",
    "\n",
    "    tf.keras.layers.Conv2D(filters=64, kernel_size=(3,3), activation=\"relu\"),\n",
    "    tf.keras.layers.MaxPooling2D(pool_size=(2,2)),\n",
    "\n",
    "    tf.keras.layers.Conv2D(filters=128, kernel_size=(3,3), activation=\"relu\"),\n",
    "    tf.keras.layers.MaxPooling2D(pool_size=(2,2)),\n",
    "\n",
    "    tf.keras.layers.Conv2D(filters=128, kernel_size=(3,3), activation=\"relu\"),\n",
    "    tf.keras.layers.MaxPooling2D(pool_size=(2,2)),\n",
    "\n",
    "    tf.keras.layers.Conv2D(filters=256, kernel_size=(3,3), activation=\"relu\"),\n",
    "    tf.keras.layers.MaxPooling2D(pool_size=(2,2)),\n",
    "\n",
    "    tf.keras.layers.Conv2D(filters=512, kernel_size=(3,3), activation=\"relu\"),\n",
    "    tf.keras.layers.MaxPooling2D(pool_size=(2,2)),\n",
    "\n",
    "    tf.keras.layers.Flatten(),\n",
    "\n",
    "    tf.keras.layers.Dense(units=128, activation=\"relu\"),\n",
    "    tf.keras.layers.Dense(units=1, activation=\"sigmoid\")\n",
    "\n",
    "])"
   ]
  },
  {
   "cell_type": "code",
   "execution_count": 22,
   "id": "b3e7d2f53cba9083",
   "metadata": {
    "ExecuteTime": {
     "end_time": "2024-01-27T18:12:01.119221200Z",
     "start_time": "2024-01-27T18:11:21.615688400Z"
    },
    "collapsed": false,
    "jupyter": {
     "outputs_hidden": false
    }
   },
   "outputs": [
    {
     "name": "stdout",
     "output_type": "stream",
     "text": [
      "Epoch 1/75\n",
      "6/6 [==============================] - 16s 2s/step - loss: 0.6902 - binary_accuracy: 0.5723 - val_loss: 0.6758 - val_binary_accuracy: 0.6098\n",
      "Epoch 2/75\n",
      "6/6 [==============================] - 12s 2s/step - loss: 0.6758 - binary_accuracy: 0.6084 - val_loss: 0.6689 - val_binary_accuracy: 0.6098\n",
      "Epoch 3/75\n",
      "6/6 [==============================] - 12s 2s/step - loss: 0.6679 - binary_accuracy: 0.6084 - val_loss: 0.6658 - val_binary_accuracy: 0.6098\n",
      "Epoch 4/75\n",
      "6/6 [==============================] - 12s 2s/step - loss: 0.6664 - binary_accuracy: 0.6084 - val_loss: 0.6608 - val_binary_accuracy: 0.6098\n",
      "Epoch 5/75\n",
      "6/6 [==============================] - 12s 2s/step - loss: 0.6634 - binary_accuracy: 0.6084 - val_loss: 0.6667 - val_binary_accuracy: 0.6098\n",
      "Epoch 6/75\n",
      "6/6 [==============================] - 12s 2s/step - loss: 0.6477 - binary_accuracy: 0.6265 - val_loss: 0.6523 - val_binary_accuracy: 0.6098\n",
      "Epoch 7/75\n",
      "6/6 [==============================] - 12s 2s/step - loss: 0.6375 - binary_accuracy: 0.6084 - val_loss: 0.6395 - val_binary_accuracy: 0.6098\n",
      "Epoch 8/75\n",
      "6/6 [==============================] - 11s 2s/step - loss: 0.6115 - binary_accuracy: 0.7590 - val_loss: 0.6269 - val_binary_accuracy: 0.6341\n",
      "Epoch 9/75\n",
      "6/6 [==============================] - 12s 2s/step - loss: 0.5749 - binary_accuracy: 0.6747 - val_loss: 0.6038 - val_binary_accuracy: 0.7317\n",
      "Epoch 10/75\n",
      "6/6 [==============================] - 12s 2s/step - loss: 0.5318 - binary_accuracy: 0.7590 - val_loss: 0.6485 - val_binary_accuracy: 0.6829\n",
      "Epoch 11/75\n",
      "6/6 [==============================] - 11s 2s/step - loss: 0.4640 - binary_accuracy: 0.8072 - val_loss: 0.5797 - val_binary_accuracy: 0.7317\n",
      "Epoch 12/75\n",
      "6/6 [==============================] - 12s 2s/step - loss: 0.4295 - binary_accuracy: 0.8313 - val_loss: 0.5668 - val_binary_accuracy: 0.7317\n",
      "Epoch 13/75\n",
      "6/6 [==============================] - 12s 2s/step - loss: 0.3770 - binary_accuracy: 0.8494 - val_loss: 0.6968 - val_binary_accuracy: 0.6829\n",
      "Epoch 14/75\n",
      "6/6 [==============================] - 12s 2s/step - loss: 0.4251 - binary_accuracy: 0.8133 - val_loss: 1.0361 - val_binary_accuracy: 0.6829\n"
     ]
    },
    {
     "data": {
      "text/plain": [
       "<keras.src.callbacks.History at 0x1f27b2214d0>"
      ]
     },
     "execution_count": 22,
     "metadata": {},
     "output_type": "execute_result"
    }
   ],
   "source": [
    "model_1.compile(optimizer=tf.keras.optimizers.Adam(learning_rate=0.0001), loss=tf.keras.losses.binary_crossentropy, metrics=tf.keras.metrics.binary_accuracy)\n",
    "model_1.fit(X_train_1,y_train_1,epochs=75,shuffle=True,validation_data=(X_val_1,y_val_1),verbose=1,callbacks=tf.keras.callbacks.EarlyStopping(patience=2))"
   ]
  },
  {
   "cell_type": "code",
   "execution_count": null,
   "id": "f3c5bd8339c5de7e",
   "metadata": {
    "ExecuteTime": {
     "end_time": "2024-01-27T18:12:03.567329100Z",
     "start_time": "2024-01-27T18:12:03.556302300Z"
    },
    "collapsed": false,
    "jupyter": {
     "outputs_hidden": false
    }
   },
   "outputs": [],
   "source": []
  },
  {
   "cell_type": "code",
   "execution_count": 23,
   "id": "12507901e58b9ff5",
   "metadata": {
    "ExecuteTime": {
     "end_time": "2024-01-27T18:12:04.876648900Z",
     "start_time": "2024-01-27T18:12:04.263404900Z"
    },
    "collapsed": false,
    "jupyter": {
     "outputs_hidden": false
    }
   },
   "outputs": [
    {
     "name": "stdout",
     "output_type": "stream",
     "text": [
      "Accuracy: 0.67\n"
     ]
    }
   ],
   "source": [
    "y_pred_1 = model_1.predict(X_test_1,verbose=0).round()\n",
    "accuracy_1 = accuracy_score(y_test_1, y_pred_1)\n",
    "print(\"Accuracy:\", round(accuracy_1,2))"
   ]
  },
  {
   "cell_type": "code",
   "execution_count": 24,
   "id": "d7ba20024149bc9c",
   "metadata": {
    "ExecuteTime": {
     "end_time": "2024-01-27T18:12:07.618946800Z",
     "start_time": "2024-01-27T18:12:07.358781300Z"
    },
    "collapsed": false,
    "jupyter": {
     "outputs_hidden": false
    }
   },
   "outputs": [
    {
     "name": "stdout",
     "output_type": "stream",
     "text": [
      "[1.0, 1.0, 1.0, 1.0, 1.0, 1.0, 1.0, 1.0, 0.0, 1.0, 1.0, 1.0, 1.0, 1.0, 1.0, 1.0, 1.0]\n"
     ]
    }
   ],
   "source": [
    "test_labels_1 = model_1.predict(test_images_1,verbose=0).round()\n",
    "print(test_labels_1.reshape(1,-1)[0].tolist())"
   ]
  },
  {
   "cell_type": "code",
   "execution_count": null,
   "id": "6a9dbf472e6f9b3e",
   "metadata": {
    "collapsed": false,
    "jupyter": {
     "outputs_hidden": false
    }
   },
   "outputs": [],
   "source": []
  },
  {
   "cell_type": "code",
   "execution_count": null,
   "id": "64af62e7-1ce9-4986-87fa-3ec5f457fb7a",
   "metadata": {},
   "outputs": [],
   "source": []
  },
  {
   "cell_type": "code",
   "execution_count": null,
   "id": "3ef1c757-da2d-49ee-8763-435947758486",
   "metadata": {},
   "outputs": [],
   "source": []
  },
  {
   "cell_type": "code",
   "execution_count": null,
   "id": "90227218-0d5e-466a-aca7-f5a45583aba5",
   "metadata": {},
   "outputs": [],
   "source": []
  }
 ],
 "metadata": {
  "kernelspec": {
   "display_name": "Python 3 (ipykernel)",
   "language": "python",
   "name": "python3"
  },
  "language_info": {
   "codemirror_mode": {
    "name": "ipython",
    "version": 3
   },
   "file_extension": ".py",
   "mimetype": "text/x-python",
   "name": "python",
   "nbconvert_exporter": "python",
   "pygments_lexer": "ipython3",
   "version": "3.11.7"
  }
 },
 "nbformat": 4,
 "nbformat_minor": 5
}
