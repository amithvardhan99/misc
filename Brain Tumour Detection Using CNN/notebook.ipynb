{
 "cells": [
  {
   "cell_type": "code",
   "execution_count": 25,
   "id": "initial_id",
   "metadata": {
    "collapsed": true,
    "ExecuteTime": {
     "end_time": "2024-01-27T16:04:44.074208Z",
     "start_time": "2024-01-27T16:04:44.042199100Z"
    }
   },
   "outputs": [],
   "source": [
    "import numpy as np\n",
    "import pandas as pd\n",
    "import matplotlib.pyplot as plt\n",
    "import seaborn as sns\n",
    "from PIL import Image\n",
    "from PIL import *\n",
    "import os\n",
    "import warnings\n",
    "import tensorflow as tf\n",
    "warnings.filterwarnings(\"ignore\")\n",
    "from sklearn.metrics import *"
   ]
  },
  {
   "cell_type": "code",
   "outputs": [],
   "source": [
    "tumour_dataset_path = os.getcwd() + \"\\data\"\n",
    "\n",
    "image_files = []\n",
    "labels = []\n",
    "ctr = 0\n",
    "\n",
    "lab = []\n",
    "for i in os.listdir(tumour_dataset_path):\n",
    "    lab.append(i)\n",
    "lab = sorted(lab)\n",
    "    \n",
    "for i in lab:\n",
    "    k = tumour_dataset_path + \"\\\\\" + i + \"\\\\\"\n",
    "    for j in os.listdir(k):\n",
    "        image_files.append(k + j)\n",
    "        labels.append(ctr)\n",
    "    ctr += 1\n",
    "image_files = np.array(image_files)\n",
    "labels = np.array(labels)\n",
    "labels_1 = labels.copy()"
   ],
   "metadata": {
    "collapsed": false,
    "ExecuteTime": {
     "end_time": "2024-01-27T16:04:44.574232300Z",
     "start_time": "2024-01-27T16:04:44.526513400Z"
    }
   },
   "id": "23abf4ffc27abc6c",
   "execution_count": 26
  },
  {
   "cell_type": "code",
   "outputs": [],
   "source": [
    "images = []\n",
    "images_1 = []\n",
    "\n",
    "for i in image_files:\n",
    "    image_original = Image.open(i)\n",
    "    image_grayscale = image_original.convert(\"L\")\n",
    "    image_resized = image_grayscale.resize((64,64))\n",
    "    image_array = np.array(image_resized) / 255.0\n",
    "    image_array = image_array.reshape((64,64,1))\n",
    "    images.append(image_array)\n",
    "\n",
    "    image_resized_1 = image_grayscale.resize((256,256))\n",
    "    image_array_1 = np.array(image_resized_1) / 255.0\n",
    "    image_array_1 = image_array_1.reshape((256,256,1))\n",
    "    images_1.append(image_array_1)\n",
    "\n",
    "    \n",
    "images = np.array(images)\n",
    "images_1 = np.array(images_1)"
   ],
   "metadata": {
    "collapsed": false,
    "ExecuteTime": {
     "end_time": "2024-01-27T16:04:47.604177100Z",
     "start_time": "2024-01-27T16:04:44.989943400Z"
    }
   },
   "id": "9aa51b01e0f6291",
   "execution_count": 27
  },
  {
   "cell_type": "code",
   "outputs": [
    {
     "data": {
      "text/plain": "(64, 64, 1)"
     },
     "execution_count": 28,
     "metadata": {},
     "output_type": "execute_result"
    }
   ],
   "source": [
    "images[0].shape"
   ],
   "metadata": {
    "collapsed": false,
    "ExecuteTime": {
     "end_time": "2024-01-27T16:04:47.625299700Z",
     "start_time": "2024-01-27T16:04:47.608596700Z"
    }
   },
   "id": "2797077f587ac88f",
   "execution_count": 28
  },
  {
   "cell_type": "code",
   "outputs": [
    {
     "data": {
      "text/plain": "(256, 256, 1)"
     },
     "execution_count": 29,
     "metadata": {},
     "output_type": "execute_result"
    }
   ],
   "source": [
    "images_1[0].shape"
   ],
   "metadata": {
    "collapsed": false,
    "ExecuteTime": {
     "end_time": "2024-01-27T16:04:52.925699500Z",
     "start_time": "2024-01-27T16:04:52.884656800Z"
    }
   },
   "id": "dfd5b18257c07b0a",
   "execution_count": 29
  },
  {
   "cell_type": "code",
   "outputs": [],
   "source": [
    "image_positions = list(range(len(images)))\n",
    "np.random.shuffle(image_positions)\n",
    "image_labels_shuffled = labels[image_positions]\n",
    "image_inputs_shuffled = images[image_positions]\n",
    "\n",
    "image_positions_1 = list(range(len(images_1)))\n",
    "np.random.shuffle(image_positions_1)\n",
    "image_labels_shuffled_1 = labels_1[image_positions_1]\n",
    "image_inputs_shuffled_1 = images_1[image_positions_1]"
   ],
   "metadata": {
    "collapsed": false,
    "ExecuteTime": {
     "end_time": "2024-01-27T16:04:53.631937500Z",
     "start_time": "2024-01-27T16:04:53.503864500Z"
    }
   },
   "id": "85643e164c5e56f",
   "execution_count": 30
  },
  {
   "cell_type": "code",
   "outputs": [],
   "source": [
    "number_of_images = len(image_inputs_shuffled)\n",
    "\n",
    "div_ratio = 0.25\n",
    "\n",
    "test_size = round(number_of_images * div_ratio)\n",
    "train_val_size = number_of_images - test_size\n",
    "val_test_threshold = train_val_size\n",
    "\n",
    "val_size = round(train_val_size * div_ratio)\n",
    "train_size = train_val_size - val_size\n",
    "train_val_threshold = train_size\n",
    "\n",
    "\n",
    "number_of_images_1 = len(image_inputs_shuffled_1)\n",
    "\n",
    "div_ratio_1 = 0.2\n",
    "\n",
    "test_size_1 = round(number_of_images_1 * div_ratio_1)\n",
    "train_val_size_1 = number_of_images_1 - test_size_1\n",
    "val_test_threshold_1 = train_val_size_1\n",
    "\n",
    "val_size_1 = round(train_val_size_1 * div_ratio_1)\n",
    "train_size_1 = train_val_size_1 - val_size_1\n",
    "train_val_threshold_1 = train_size_1"
   ],
   "metadata": {
    "collapsed": false,
    "ExecuteTime": {
     "end_time": "2024-01-27T16:04:54.272377300Z",
     "start_time": "2024-01-27T16:04:54.220261Z"
    }
   },
   "id": "618980ec2d5891eb",
   "execution_count": 31
  },
  {
   "cell_type": "code",
   "outputs": [
    {
     "name": "stdout",
     "output_type": "stream",
     "text": [
      "194\n",
      "146\n"
     ]
    }
   ],
   "source": [
    "print(val_test_threshold)\n",
    "print(train_val_threshold)"
   ],
   "metadata": {
    "collapsed": false,
    "ExecuteTime": {
     "end_time": "2024-01-27T16:04:54.831453Z",
     "start_time": "2024-01-27T16:04:54.794540800Z"
    }
   },
   "id": "5fb41cb6ddb2a246",
   "execution_count": 32
  },
  {
   "cell_type": "code",
   "outputs": [
    {
     "name": "stdout",
     "output_type": "stream",
     "text": [
      "207\n",
      "166\n"
     ]
    }
   ],
   "source": [
    "print(val_test_threshold_1)\n",
    "print(train_val_threshold_1)"
   ],
   "metadata": {
    "collapsed": false,
    "ExecuteTime": {
     "end_time": "2024-01-27T16:04:55.760124100Z",
     "start_time": "2024-01-27T16:04:55.717868800Z"
    }
   },
   "id": "5f252d323fec823f",
   "execution_count": 33
  },
  {
   "cell_type": "code",
   "outputs": [],
   "source": [
    "X_train = image_inputs_shuffled[:train_val_threshold]\n",
    "y_train = image_labels_shuffled[:train_val_threshold]\n",
    "\n",
    "X_val = image_inputs_shuffled[train_val_threshold:val_test_threshold]\n",
    "y_val = image_labels_shuffled[train_val_threshold:val_test_threshold]\n",
    "\n",
    "X_test = image_inputs_shuffled[val_test_threshold:]\n",
    "y_test = image_labels_shuffled[val_test_threshold:]\n",
    "\n",
    "\n",
    "X_train_1 = image_inputs_shuffled_1[:train_val_threshold_1]\n",
    "y_train_1 = image_labels_shuffled_1[:train_val_threshold_1]\n",
    "\n",
    "X_val_1 = image_inputs_shuffled_1[train_val_threshold_1:val_test_threshold_1]\n",
    "y_val_1 = image_labels_shuffled_1[train_val_threshold_1:val_test_threshold_1]\n",
    "\n",
    "X_test_1 = image_inputs_shuffled_1[val_test_threshold_1:]\n",
    "y_test_1 = image_labels_shuffled_1[val_test_threshold_1:]"
   ],
   "metadata": {
    "collapsed": false,
    "ExecuteTime": {
     "end_time": "2024-01-27T16:04:56.405254200Z",
     "start_time": "2024-01-27T16:04:56.374515Z"
    }
   },
   "id": "f056d36d31469f46",
   "execution_count": 34
  },
  {
   "cell_type": "code",
   "outputs": [
    {
     "name": "stdout",
     "output_type": "stream",
     "text": [
      "146 48 65\n",
      "166 41 52\n"
     ]
    }
   ],
   "source": [
    "print(X_train.shape[0],X_val.shape[0],X_test.shape[0])\n",
    "print(X_train_1.shape[0],X_val_1.shape[0],X_test_1.shape[0])"
   ],
   "metadata": {
    "collapsed": false,
    "ExecuteTime": {
     "end_time": "2024-01-27T16:04:57.498396800Z",
     "start_time": "2024-01-27T16:04:57.439018100Z"
    }
   },
   "id": "5d28a822b12e2dce",
   "execution_count": 35
  },
  {
   "cell_type": "code",
   "outputs": [],
   "source": [
    "model = tf.keras.models.Sequential(layers=[\n",
    "    tf.keras.layers.Conv2D(filters=16, kernel_size=(3,3), activation=\"relu\", input_shape=(64,64,1)),\n",
    "    tf.keras.layers.MaxPooling2D(pool_size=(2,2)),\n",
    "    \n",
    "    \n",
    "    tf.keras.layers.Conv2D(filters=32, kernel_size=(3,3), activation=\"relu\"),\n",
    "    tf.keras.layers.MaxPooling2D(pool_size=(2,2)),\n",
    "    \n",
    "    \n",
    "    tf.keras.layers.Conv2D(filters=64, kernel_size=(3,3), activation=\"relu\"),\n",
    "    tf.keras.layers.MaxPooling2D(pool_size=(2,2)),\n",
    "    \n",
    "    tf.keras.layers.Conv2D(filters=64, kernel_size=(3,3), activation=\"relu\"),\n",
    "    tf.keras.layers.MaxPooling2D(pool_size=(2,2)),\n",
    "    \n",
    "    tf.keras.layers.Flatten(),\n",
    "    \n",
    "    tf.keras.layers.Dense(units=64, activation=\"relu\"),\n",
    "    tf.keras.layers.Dense(units=1, activation=\"softmax\")  \n",
    "\n",
    "])"
   ],
   "metadata": {
    "collapsed": false,
    "ExecuteTime": {
     "end_time": "2024-01-27T16:04:58.547276400Z",
     "start_time": "2024-01-27T16:04:58.351186Z"
    }
   },
   "id": "bd144a3436573b38",
   "execution_count": 36
  },
  {
   "cell_type": "code",
   "outputs": [
    {
     "name": "stdout",
     "output_type": "stream",
     "text": [
      "Epoch 1/10\n",
      "5/5 [==============================] - 4s 167ms/step - loss: 0.6862 - binary_accuracy: 0.5959 - val_loss: 0.6567 - val_binary_accuracy: 0.6250\n",
      "Epoch 2/10\n",
      "5/5 [==============================] - 0s 70ms/step - loss: 0.6664 - binary_accuracy: 0.5959 - val_loss: 0.6545 - val_binary_accuracy: 0.6250\n",
      "Epoch 3/10\n",
      "5/5 [==============================] - 0s 55ms/step - loss: 0.6645 - binary_accuracy: 0.5959 - val_loss: 0.6422 - val_binary_accuracy: 0.6250\n",
      "Epoch 4/10\n",
      "5/5 [==============================] - 0s 55ms/step - loss: 0.6489 - binary_accuracy: 0.6027 - val_loss: 0.6297 - val_binary_accuracy: 0.6458\n",
      "Epoch 5/10\n",
      "5/5 [==============================] - 0s 58ms/step - loss: 0.6300 - binary_accuracy: 0.6370 - val_loss: 0.6013 - val_binary_accuracy: 0.6875\n",
      "Epoch 6/10\n",
      "5/5 [==============================] - 0s 60ms/step - loss: 0.5981 - binary_accuracy: 0.6712 - val_loss: 0.5658 - val_binary_accuracy: 0.7292\n",
      "Epoch 7/10\n",
      "5/5 [==============================] - 0s 55ms/step - loss: 0.5541 - binary_accuracy: 0.7534 - val_loss: 0.5358 - val_binary_accuracy: 0.7292\n",
      "Epoch 8/10\n",
      "5/5 [==============================] - 0s 54ms/step - loss: 0.5125 - binary_accuracy: 0.7877 - val_loss: 0.5830 - val_binary_accuracy: 0.6250\n",
      "Epoch 9/10\n",
      "5/5 [==============================] - 0s 58ms/step - loss: 0.5504 - binary_accuracy: 0.7192 - val_loss: 0.4967 - val_binary_accuracy: 0.7292\n",
      "Epoch 10/10\n",
      "5/5 [==============================] - 0s 57ms/step - loss: 0.5050 - binary_accuracy: 0.7534 - val_loss: 0.5039 - val_binary_accuracy: 0.7917\n"
     ]
    },
    {
     "data": {
      "text/plain": "<keras.src.callbacks.History at 0x282e4f0a490>"
     },
     "execution_count": 37,
     "metadata": {},
     "output_type": "execute_result"
    }
   ],
   "source": [
    "model.compile(optimizer=tf.keras.optimizers.Adam(), loss=tf.keras.losses.binary_crossentropy, metrics=tf.keras.metrics.binary_accuracy)\n",
    "model.fit(X_train,y_train,epochs=10,shuffle=True,validation_data=(X_val,y_val),verbose=1,callbacks=tf.keras.callbacks.EarlyStopping(patience=2))"
   ],
   "metadata": {
    "collapsed": false,
    "ExecuteTime": {
     "end_time": "2024-01-27T16:05:05.215403700Z",
     "start_time": "2024-01-27T16:04:58.911171100Z"
    }
   },
   "id": "6afec5f1bbc16f95",
   "execution_count": 37
  },
  {
   "cell_type": "code",
   "outputs": [
    {
     "name": "stdout",
     "output_type": "stream",
     "text": [
      "Accuracy: 0.78\n"
     ]
    }
   ],
   "source": [
    "y_pred = model.predict(X_test,verbose=0).round()\n",
    "accuracy = accuracy_score(y_test, y_pred)\n",
    "print(\"Accuracy:\", round(accuracy,2))"
   ],
   "metadata": {
    "collapsed": false,
    "ExecuteTime": {
     "end_time": "2024-01-27T16:05:07.611066700Z",
     "start_time": "2024-01-27T16:05:07.223016600Z"
    }
   },
   "id": "23ce17d54a6d09e1",
   "execution_count": 38
  },
  {
   "cell_type": "code",
   "outputs": [],
   "source": [],
   "metadata": {
    "collapsed": false,
    "ExecuteTime": {
     "end_time": "2024-01-27T16:05:07.901142100Z",
     "start_time": "2024-01-27T16:05:07.867281100Z"
    }
   },
   "id": "8a36cc2ee063b691",
   "execution_count": 38
  },
  {
   "cell_type": "code",
   "outputs": [],
   "source": [],
   "metadata": {
    "collapsed": false,
    "ExecuteTime": {
     "end_time": "2024-01-27T16:05:08.916155400Z",
     "start_time": "2024-01-27T16:05:08.902440Z"
    }
   },
   "id": "75527f33f1e5593d",
   "execution_count": 38
  },
  {
   "cell_type": "code",
   "outputs": [],
   "source": [
    "test_path = os.getcwd() + \"\\\\test\\\\\"\n",
    "test_images = []\n",
    "test_images_1 = []\n",
    "test_labels = []\n",
    "test_labels_1 = []\n",
    "gg = 00\n",
    "oo = []\n",
    "for i in os.listdir(test_path):\n",
    "    image_original = Image.open(test_path + i)\n",
    "    image_grayscale = image_original.convert(\"L\")\n",
    "    \n",
    "    image_resized = image_grayscale.resize((64,64))\n",
    "    image_array = np.array(image_resized) / 255.0\n",
    "    image_array = image_array.reshape((64,64,1))\n",
    "    test_images.append(image_array)\n",
    "\n",
    "\n",
    "    image_resized_1 = image_grayscale.resize((256,256))\n",
    "    image_array_1 = np.array(image_resized_1) / 255.0\n",
    "    image_array_1 = image_array_1.reshape((256,256,1))\n",
    "    test_images_1.append(image_array_1)\n",
    "\n",
    "test_images = np.array(test_images)\n",
    "test_images_1 = np.array(test_images_1)"
   ],
   "metadata": {
    "collapsed": false,
    "ExecuteTime": {
     "end_time": "2024-01-27T16:05:09.541862100Z",
     "start_time": "2024-01-27T16:05:09.372032100Z"
    }
   },
   "id": "7ff452c02713f59a",
   "execution_count": 39
  },
  {
   "cell_type": "code",
   "outputs": [
    {
     "data": {
      "text/plain": "(64, 64, 1)"
     },
     "execution_count": 40,
     "metadata": {},
     "output_type": "execute_result"
    }
   ],
   "source": [
    "test_images[0].shape"
   ],
   "metadata": {
    "collapsed": false,
    "ExecuteTime": {
     "end_time": "2024-01-27T16:05:10.182589400Z",
     "start_time": "2024-01-27T16:05:10.130369900Z"
    }
   },
   "id": "40d5c02e8cc1f765",
   "execution_count": 40
  },
  {
   "cell_type": "code",
   "outputs": [
    {
     "data": {
      "text/plain": "(256, 256, 1)"
     },
     "execution_count": 41,
     "metadata": {},
     "output_type": "execute_result"
    }
   ],
   "source": [
    "test_images_1[0].shape"
   ],
   "metadata": {
    "collapsed": false,
    "ExecuteTime": {
     "end_time": "2024-01-27T16:05:10.653518100Z",
     "start_time": "2024-01-27T16:05:10.634114600Z"
    }
   },
   "id": "81017e75ca8bba92",
   "execution_count": 41
  },
  {
   "cell_type": "code",
   "outputs": [],
   "source": [
    "test_labels = model.predict(test_images,verbose=0).round()"
   ],
   "metadata": {
    "collapsed": false,
    "ExecuteTime": {
     "end_time": "2024-01-27T16:05:11.348006500Z",
     "start_time": "2024-01-27T16:05:11.148755100Z"
    }
   },
   "id": "c0b0b0a608373ad7",
   "execution_count": 42
  },
  {
   "cell_type": "code",
   "outputs": [
    {
     "data": {
      "text/plain": "array([[1.],\n       [1.],\n       [0.],\n       [0.],\n       [1.],\n       [0.],\n       [0.],\n       [1.],\n       [0.],\n       [1.],\n       [1.],\n       [1.],\n       [1.],\n       [0.],\n       [1.],\n       [1.],\n       [1.]], dtype=float32)"
     },
     "execution_count": 43,
     "metadata": {},
     "output_type": "execute_result"
    }
   ],
   "source": [
    "test_labels"
   ],
   "metadata": {
    "collapsed": false,
    "ExecuteTime": {
     "end_time": "2024-01-27T16:05:11.587717900Z",
     "start_time": "2024-01-27T16:05:11.535259900Z"
    }
   },
   "id": "f84647bbb3bfa680",
   "execution_count": 43
  },
  {
   "cell_type": "code",
   "outputs": [],
   "source": [
    "model_1 = tf.keras.models.Sequential(layers=[\n",
    "    tf.keras.layers.Conv2D(filters=16, kernel_size=(3,3), activation=\"relu\", input_shape=(256,256,1)),\n",
    "    tf.keras.layers.MaxPooling2D(pool_size=(2,2)),\n",
    "\n",
    "\n",
    "    tf.keras.layers.Conv2D(filters=32, kernel_size=(3,3), activation=\"relu\"),\n",
    "    tf.keras.layers.MaxPooling2D(pool_size=(2,2)),\n",
    "\n",
    "\n",
    "    tf.keras.layers.Conv2D(filters=64, kernel_size=(3,3), activation=\"relu\"),\n",
    "    tf.keras.layers.MaxPooling2D(pool_size=(2,2)),\n",
    "\n",
    "    tf.keras.layers.Conv2D(filters=128, kernel_size=(3,3), activation=\"relu\"),\n",
    "    tf.keras.layers.MaxPooling2D(pool_size=(2,2)),\n",
    "\n",
    "    tf.keras.layers.Flatten(),\n",
    "\n",
    "    tf.keras.layers.Dense(units=128, activation=\"relu\"),\n",
    "    tf.keras.layers.Dense(units=1, activation=\"softmax\")\n",
    "\n",
    "])"
   ],
   "metadata": {
    "collapsed": false,
    "ExecuteTime": {
     "end_time": "2024-01-27T16:05:12.614808600Z",
     "start_time": "2024-01-27T16:05:12.424465Z"
    }
   },
   "id": "8754860643808377",
   "execution_count": 44
  },
  {
   "cell_type": "code",
   "outputs": [
    {
     "name": "stdout",
     "output_type": "stream",
     "text": [
      "Epoch 1/75\n",
      "6/6 [==============================] - 6s 354ms/step - loss: 0.6559 - binary_accuracy: 0.5964 - val_loss: 0.6103 - val_binary_accuracy: 0.6341\n",
      "Epoch 2/75\n",
      "6/6 [==============================] - 2s 264ms/step - loss: 0.5967 - binary_accuracy: 0.7048 - val_loss: 0.5373 - val_binary_accuracy: 0.7805\n",
      "Epoch 3/75\n",
      "6/6 [==============================] - 2s 258ms/step - loss: 0.5456 - binary_accuracy: 0.7289 - val_loss: 0.4983 - val_binary_accuracy: 0.7561\n",
      "Epoch 4/75\n",
      "6/6 [==============================] - 2s 249ms/step - loss: 0.5278 - binary_accuracy: 0.7470 - val_loss: 0.4768 - val_binary_accuracy: 0.7561\n",
      "Epoch 5/75\n",
      "6/6 [==============================] - 1s 244ms/step - loss: 0.5391 - binary_accuracy: 0.7590 - val_loss: 0.4697 - val_binary_accuracy: 0.7805\n",
      "Epoch 6/75\n",
      "6/6 [==============================] - 2s 264ms/step - loss: 0.4969 - binary_accuracy: 0.7590 - val_loss: 0.4908 - val_binary_accuracy: 0.7317\n",
      "Epoch 7/75\n",
      "6/6 [==============================] - 2s 250ms/step - loss: 0.4899 - binary_accuracy: 0.7771 - val_loss: 0.4481 - val_binary_accuracy: 0.8293\n",
      "Epoch 8/75\n",
      "6/6 [==============================] - 2s 255ms/step - loss: 0.4703 - binary_accuracy: 0.8133 - val_loss: 0.4271 - val_binary_accuracy: 0.8537\n",
      "Epoch 9/75\n",
      "6/6 [==============================] - 2s 259ms/step - loss: 0.4271 - binary_accuracy: 0.7952 - val_loss: 0.4201 - val_binary_accuracy: 0.8293\n",
      "Epoch 10/75\n",
      "6/6 [==============================] - 2s 261ms/step - loss: 0.4172 - binary_accuracy: 0.8072 - val_loss: 0.4050 - val_binary_accuracy: 0.9024\n",
      "Epoch 11/75\n",
      "6/6 [==============================] - 2s 256ms/step - loss: 0.3790 - binary_accuracy: 0.8313 - val_loss: 0.3948 - val_binary_accuracy: 0.8293\n",
      "Epoch 12/75\n",
      "6/6 [==============================] - 2s 267ms/step - loss: 0.3561 - binary_accuracy: 0.8373 - val_loss: 0.3928 - val_binary_accuracy: 0.9024\n",
      "Epoch 13/75\n",
      "6/6 [==============================] - 2s 263ms/step - loss: 0.3252 - binary_accuracy: 0.8795 - val_loss: 0.3986 - val_binary_accuracy: 0.9024\n",
      "Epoch 14/75\n",
      "6/6 [==============================] - 2s 268ms/step - loss: 0.3212 - binary_accuracy: 0.8614 - val_loss: 0.3908 - val_binary_accuracy: 0.8780\n",
      "Epoch 15/75\n",
      "6/6 [==============================] - 2s 285ms/step - loss: 0.2785 - binary_accuracy: 0.9096 - val_loss: 0.3828 - val_binary_accuracy: 0.8780\n",
      "Epoch 16/75\n",
      "6/6 [==============================] - 2s 320ms/step - loss: 0.2759 - binary_accuracy: 0.8855 - val_loss: 0.3729 - val_binary_accuracy: 0.8780\n",
      "Epoch 17/75\n",
      "6/6 [==============================] - 2s 369ms/step - loss: 0.2956 - binary_accuracy: 0.8735 - val_loss: 0.4397 - val_binary_accuracy: 0.8293\n",
      "Epoch 18/75\n",
      "6/6 [==============================] - 3s 600ms/step - loss: 0.2566 - binary_accuracy: 0.8976 - val_loss: 0.3827 - val_binary_accuracy: 0.8780\n",
      "Epoch 19/75\n",
      "6/6 [==============================] - 5s 798ms/step - loss: 0.2766 - binary_accuracy: 0.8976 - val_loss: 0.4708 - val_binary_accuracy: 0.8293\n",
      "Epoch 20/75\n",
      "6/6 [==============================] - 5s 901ms/step - loss: 0.2413 - binary_accuracy: 0.8855 - val_loss: 0.3695 - val_binary_accuracy: 0.8049\n",
      "Epoch 21/75\n"
     ]
    }
   ],
   "source": [
    "model_1.compile(optimizer=tf.keras.optimizers.Adam(learning_rate=0.0001), loss=tf.keras.losses.binary_crossentropy, metrics=tf.keras.metrics.binary_accuracy)\n",
    "model_1.fit(X_train_1,y_train_1,epochs=75,shuffle=True,validation_data=(X_val_1,y_val_1),verbose=1,callbacks=tf.keras.callbacks.EarlyStopping(patience=4))"
   ],
   "metadata": {
    "collapsed": false,
    "ExecuteTime": {
     "start_time": "2024-01-27T16:05:13.037815700Z"
    }
   },
   "id": "b3e7d2f53cba9083",
   "execution_count": null
  },
  {
   "cell_type": "code",
   "outputs": [],
   "source": [],
   "metadata": {
    "collapsed": false
   },
   "id": "f3c5bd8339c5de7e",
   "execution_count": null
  },
  {
   "cell_type": "code",
   "outputs": [],
   "source": [
    "y_pred_1 = model_1.predict(X_test_1,verbose=0).round()\n",
    "accuracy_1 = accuracy_score(y_test_1, y_pred_1)\n",
    "print(\"Accuracy:\", round(accuracy_1,2))"
   ],
   "metadata": {
    "collapsed": false
   },
   "id": "12507901e58b9ff5",
   "execution_count": null
  },
  {
   "cell_type": "code",
   "outputs": [
    {
     "data": {
      "text/plain": "array([[0.],\n       [1.],\n       [0.],\n       [0.],\n       [1.],\n       [1.],\n       [1.],\n       [1.],\n       [0.],\n       [0.],\n       [1.],\n       [1.],\n       [1.],\n       [0.],\n       [1.],\n       [1.],\n       [1.]], dtype=float32)"
     },
     "execution_count": 24,
     "metadata": {},
     "output_type": "execute_result"
    }
   ],
   "source": [
    "test_labels_1 = model_1.predict(test_images_1,verbose=0).round()\n",
    "test_labels_1"
   ],
   "metadata": {
    "collapsed": false,
    "ExecuteTime": {
     "end_time": "2024-01-27T16:04:40.394173400Z",
     "start_time": "2024-01-27T16:04:40.133137200Z"
    }
   },
   "id": "d7ba20024149bc9c",
   "execution_count": 24
  },
  {
   "cell_type": "code",
   "outputs": [],
   "source": [],
   "metadata": {
    "collapsed": false
   },
   "id": "6a9dbf472e6f9b3e"
  }
 ],
 "metadata": {
  "kernelspec": {
   "display_name": "Python 3",
   "language": "python",
   "name": "python3"
  },
  "language_info": {
   "codemirror_mode": {
    "name": "ipython",
    "version": 2
   },
   "file_extension": ".py",
   "mimetype": "text/x-python",
   "name": "python",
   "nbconvert_exporter": "python",
   "pygments_lexer": "ipython2",
   "version": "2.7.6"
  }
 },
 "nbformat": 4,
 "nbformat_minor": 5
}
