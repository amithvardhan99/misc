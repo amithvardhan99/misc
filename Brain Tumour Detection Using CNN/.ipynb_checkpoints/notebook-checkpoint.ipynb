{
 "cells": [
  {
   "cell_type": "code",
   "execution_count": 178,
   "id": "initial_id",
   "metadata": {
    "collapsed": true,
    "ExecuteTime": {
     "end_time": "2024-01-27T18:05:54.060040100Z",
     "start_time": "2024-01-27T18:05:54.054912600Z"
    }
   },
   "outputs": [],
   "source": [
    "import numpy as np\n",
    "import pandas as pd\n",
    "import matplotlib.pyplot as plt\n",
    "import seaborn as sns\n",
    "from PIL import Image\n",
    "from PIL import *\n",
    "import os\n",
    "import warnings\n",
    "import tensorflow as tf\n",
    "warnings.filterwarnings(\"ignore\")\n",
    "from sklearn.metrics import *"
   ]
  },
  {
   "cell_type": "code",
   "outputs": [],
   "source": [
    "tumour_dataset_path = os.getcwd() + \"\\data\"\n",
    "\n",
    "image_files = []\n",
    "labels = []\n",
    "ctr = 0\n",
    "\n",
    "lab = []\n",
    "for i in os.listdir(tumour_dataset_path):\n",
    "    lab.append(i)\n",
    "lab = sorted(lab)\n",
    "    \n",
    "for i in lab:\n",
    "    k = tumour_dataset_path + \"\\\\\" + i + \"\\\\\"\n",
    "    for j in os.listdir(k):\n",
    "        image_files.append(k + j)\n",
    "        labels.append(ctr)\n",
    "    ctr += 1\n",
    "image_files = np.array(image_files)\n",
    "labels = np.array(labels)\n",
    "labels_1 = labels.copy()"
   ],
   "metadata": {
    "collapsed": false,
    "ExecuteTime": {
     "end_time": "2024-01-27T18:05:54.469502700Z",
     "start_time": "2024-01-27T18:05:54.454524500Z"
    }
   },
   "id": "23abf4ffc27abc6c",
   "execution_count": 179
  },
  {
   "cell_type": "code",
   "outputs": [],
   "source": [
    "images = []\n",
    "images_1 = []\n",
    "\n",
    "for i in image_files:\n",
    "    image_original = Image.open(i)\n",
    "    image_grayscale = image_original.convert(\"L\")\n",
    "    image_resized = image_grayscale.resize((64,64))\n",
    "    image_array = np.array(image_resized) / 255.0\n",
    "    image_array = image_array.reshape((64,64,1))\n",
    "    images.append(image_array)\n",
    "\n",
    "    image_resized_1 = image_grayscale.resize((256,256))\n",
    "    image_array_1 = np.array(image_resized_1) / 255.0\n",
    "    image_array_1 = image_array_1.reshape((256,256,1))\n",
    "    images_1.append(image_array_1)\n",
    "\n",
    "    \n",
    "images = np.array(images)\n",
    "images_1 = np.array(images_1)"
   ],
   "metadata": {
    "collapsed": false,
    "ExecuteTime": {
     "end_time": "2024-01-27T18:05:56.195005200Z",
     "start_time": "2024-01-27T18:05:55.207492100Z"
    }
   },
   "id": "9aa51b01e0f6291",
   "execution_count": 180
  },
  {
   "cell_type": "code",
   "outputs": [
    {
     "data": {
      "text/plain": "(64, 64, 1)"
     },
     "execution_count": 181,
     "metadata": {},
     "output_type": "execute_result"
    }
   ],
   "source": [
    "images[0].shape"
   ],
   "metadata": {
    "collapsed": false,
    "ExecuteTime": {
     "end_time": "2024-01-27T18:05:57.391272400Z",
     "start_time": "2024-01-27T18:05:57.385753Z"
    }
   },
   "id": "2797077f587ac88f",
   "execution_count": 181
  },
  {
   "cell_type": "code",
   "outputs": [
    {
     "data": {
      "text/plain": "(256, 256, 1)"
     },
     "execution_count": 182,
     "metadata": {},
     "output_type": "execute_result"
    }
   ],
   "source": [
    "images_1[0].shape"
   ],
   "metadata": {
    "collapsed": false,
    "ExecuteTime": {
     "end_time": "2024-01-27T18:05:57.858825100Z",
     "start_time": "2024-01-27T18:05:57.850401500Z"
    }
   },
   "id": "dfd5b18257c07b0a",
   "execution_count": 182
  },
  {
   "cell_type": "code",
   "outputs": [],
   "source": [
    "image_positions = list(range(len(images)))\n",
    "np.random.shuffle(image_positions)\n",
    "image_labels_shuffled = labels[image_positions]\n",
    "image_inputs_shuffled = images[image_positions]\n",
    "\n",
    "image_positions_1 = list(range(len(images_1)))\n",
    "np.random.shuffle(image_positions_1)\n",
    "image_labels_shuffled_1 = labels_1[image_positions_1]\n",
    "image_inputs_shuffled_1 = images_1[image_positions_1]"
   ],
   "metadata": {
    "collapsed": false,
    "ExecuteTime": {
     "end_time": "2024-01-27T18:06:04.619236600Z",
     "start_time": "2024-01-27T18:06:04.552351700Z"
    }
   },
   "id": "85643e164c5e56f",
   "execution_count": 183
  },
  {
   "cell_type": "code",
   "outputs": [],
   "source": [
    "number_of_images = len(image_inputs_shuffled)\n",
    "\n",
    "div_ratio = 0.25\n",
    "\n",
    "test_size = round(number_of_images * div_ratio)\n",
    "train_val_size = number_of_images - test_size\n",
    "val_test_threshold = train_val_size\n",
    "\n",
    "val_size = round(train_val_size * div_ratio)\n",
    "train_size = train_val_size - val_size\n",
    "train_val_threshold = train_size\n",
    "\n",
    "\n",
    "number_of_images_1 = len(image_inputs_shuffled_1)\n",
    "\n",
    "div_ratio_1 = 0.2\n",
    "\n",
    "test_size_1 = round(number_of_images_1 * div_ratio_1)\n",
    "train_val_size_1 = number_of_images_1 - test_size_1\n",
    "val_test_threshold_1 = train_val_size_1\n",
    "\n",
    "val_size_1 = round(train_val_size_1 * div_ratio_1)\n",
    "train_size_1 = train_val_size_1 - val_size_1\n",
    "train_val_threshold_1 = train_size_1"
   ],
   "metadata": {
    "collapsed": false,
    "ExecuteTime": {
     "end_time": "2024-01-27T18:09:41.025159700Z",
     "start_time": "2024-01-27T18:09:40.980688300Z"
    }
   },
   "id": "618980ec2d5891eb",
   "execution_count": 201
  },
  {
   "cell_type": "code",
   "outputs": [
    {
     "name": "stdout",
     "output_type": "stream",
     "text": [
      "194\n",
      "146\n"
     ]
    }
   ],
   "source": [
    "print(val_test_threshold)\n",
    "print(train_val_threshold)"
   ],
   "metadata": {
    "collapsed": false,
    "ExecuteTime": {
     "end_time": "2024-01-27T18:09:55.276883600Z",
     "start_time": "2024-01-27T18:09:55.254820800Z"
    }
   },
   "id": "5fb41cb6ddb2a246",
   "execution_count": 202
  },
  {
   "cell_type": "code",
   "outputs": [
    {
     "name": "stdout",
     "output_type": "stream",
     "text": [
      "207\n",
      "166\n"
     ]
    }
   ],
   "source": [
    "print(val_test_threshold_1)\n",
    "print(train_val_threshold_1)"
   ],
   "metadata": {
    "collapsed": false,
    "ExecuteTime": {
     "end_time": "2024-01-27T18:09:55.799791200Z",
     "start_time": "2024-01-27T18:09:55.790607600Z"
    }
   },
   "id": "e287b89ef4aee65b",
   "execution_count": 203
  },
  {
   "cell_type": "code",
   "outputs": [],
   "source": [
    "X_train = image_inputs_shuffled[:train_val_threshold]\n",
    "y_train = image_labels_shuffled[:train_val_threshold]\n",
    "\n",
    "X_val = image_inputs_shuffled[train_val_threshold:val_test_threshold]\n",
    "y_val = image_labels_shuffled[train_val_threshold:val_test_threshold]\n",
    "\n",
    "X_test = image_inputs_shuffled[val_test_threshold:]\n",
    "y_test = image_labels_shuffled[val_test_threshold:]\n",
    "\n",
    "\n",
    "X_train_1 = image_inputs_shuffled_1[:train_val_threshold_1]\n",
    "y_train_1 = image_labels_shuffled_1[:train_val_threshold_1]\n",
    "\n",
    "X_val_1 = image_inputs_shuffled_1[train_val_threshold_1:val_test_threshold_1]\n",
    "y_val_1 = image_labels_shuffled_1[train_val_threshold_1:val_test_threshold_1]\n",
    "\n",
    "X_test_1 = image_inputs_shuffled_1[val_test_threshold_1:]\n",
    "y_test_1 = image_labels_shuffled_1[val_test_threshold_1:]"
   ],
   "metadata": {
    "collapsed": false,
    "ExecuteTime": {
     "end_time": "2024-01-27T18:10:59.534988200Z",
     "start_time": "2024-01-27T18:10:59.496335300Z"
    }
   },
   "id": "f056d36d31469f46",
   "execution_count": 206
  },
  {
   "cell_type": "code",
   "outputs": [
    {
     "name": "stdout",
     "output_type": "stream",
     "text": [
      "146 48 65\n",
      "166 41 52\n"
     ]
    }
   ],
   "source": [
    "print(X_train.shape[0],X_val.shape[0],X_test.shape[0])\n",
    "print(X_train_1.shape[0],X_val_1.shape[0],X_test_1.shape[0])"
   ],
   "metadata": {
    "collapsed": false,
    "ExecuteTime": {
     "end_time": "2024-01-27T18:11:00.130568200Z",
     "start_time": "2024-01-27T18:11:00.122274900Z"
    }
   },
   "id": "5d28a822b12e2dce",
   "execution_count": 207
  },
  {
   "cell_type": "code",
   "outputs": [],
   "source": [
    "model = tf.keras.models.Sequential(layers=[\n",
    "    tf.keras.layers.Conv2D(filters=16, kernel_size=(3,3), activation=\"relu\", input_shape=(64,64,1)),\n",
    "    tf.keras.layers.MaxPooling2D(pool_size=(2,2)),\n",
    "    \n",
    "    \n",
    "    tf.keras.layers.Conv2D(filters=32, kernel_size=(3,3), activation=\"relu\"),\n",
    "    tf.keras.layers.MaxPooling2D(pool_size=(2,2)),\n",
    "    \n",
    "    \n",
    "    tf.keras.layers.Conv2D(filters=64, kernel_size=(3,3), activation=\"relu\"),\n",
    "    tf.keras.layers.MaxPooling2D(pool_size=(2,2)),\n",
    "    \n",
    "    tf.keras.layers.Conv2D(filters=64, kernel_size=(3,3), activation=\"relu\"),\n",
    "    tf.keras.layers.MaxPooling2D(pool_size=(2,2)),\n",
    "    \n",
    "    tf.keras.layers.Flatten(),\n",
    "    \n",
    "    tf.keras.layers.Dense(units=64, activation=\"relu\"),\n",
    "    tf.keras.layers.Dense(units=1, activation=\"sigmoid\")  \n",
    "\n",
    "])"
   ],
   "metadata": {
    "collapsed": false,
    "ExecuteTime": {
     "end_time": "2024-01-27T18:11:07.239474400Z",
     "start_time": "2024-01-27T18:11:07.129769600Z"
    }
   },
   "id": "bd144a3436573b38",
   "execution_count": 208
  },
  {
   "cell_type": "code",
   "outputs": [
    {
     "name": "stdout",
     "output_type": "stream",
     "text": [
      "Epoch 1/10\n",
      "5/5 [==============================] - 1s 60ms/step - loss: 0.8189 - binary_accuracy: 0.4863 - val_loss: 0.6832 - val_binary_accuracy: 0.5625\n",
      "Epoch 2/10\n",
      "5/5 [==============================] - 0s 26ms/step - loss: 0.6828 - binary_accuracy: 0.5822 - val_loss: 0.6853 - val_binary_accuracy: 0.5625\n",
      "Epoch 3/10\n",
      "5/5 [==============================] - 0s 25ms/step - loss: 0.6850 - binary_accuracy: 0.5822 - val_loss: 0.6850 - val_binary_accuracy: 0.5625\n",
      "Epoch 4/10\n",
      "5/5 [==============================] - 0s 28ms/step - loss: 0.6791 - binary_accuracy: 0.5822 - val_loss: 0.6834 - val_binary_accuracy: 0.5625\n",
      "Epoch 5/10\n",
      "5/5 [==============================] - 0s 31ms/step - loss: 0.6804 - binary_accuracy: 0.5822 - val_loss: 0.6829 - val_binary_accuracy: 0.5625\n",
      "Epoch 6/10\n",
      "5/5 [==============================] - 0s 25ms/step - loss: 0.6788 - binary_accuracy: 0.5822 - val_loss: 0.6799 - val_binary_accuracy: 0.5625\n",
      "Epoch 7/10\n",
      "5/5 [==============================] - 0s 25ms/step - loss: 0.6784 - binary_accuracy: 0.5822 - val_loss: 0.6748 - val_binary_accuracy: 0.5625\n",
      "Epoch 8/10\n",
      "5/5 [==============================] - 0s 26ms/step - loss: 0.6779 - binary_accuracy: 0.5822 - val_loss: 0.6661 - val_binary_accuracy: 0.5625\n",
      "Epoch 9/10\n",
      "5/5 [==============================] - 0s 27ms/step - loss: 0.6700 - binary_accuracy: 0.5822 - val_loss: 0.6547 - val_binary_accuracy: 0.5625\n",
      "Epoch 10/10\n",
      "5/5 [==============================] - 0s 26ms/step - loss: 0.6648 - binary_accuracy: 0.5959 - val_loss: 0.6177 - val_binary_accuracy: 0.5625\n"
     ]
    },
    {
     "data": {
      "text/plain": "<keras.src.callbacks.History at 0x25293e14610>"
     },
     "execution_count": 209,
     "metadata": {},
     "output_type": "execute_result"
    }
   ],
   "source": [
    "model.compile(optimizer=tf.keras.optimizers.Adam(learning_rate=0.01), loss=tf.keras.losses.binary_crossentropy, metrics=tf.keras.metrics.binary_accuracy)\n",
    "model.fit(X_train,y_train,epochs=10,shuffle=True,validation_data=(X_val,y_val),verbose=1,callbacks=tf.keras.callbacks.EarlyStopping(patience=4))"
   ],
   "metadata": {
    "collapsed": false,
    "ExecuteTime": {
     "end_time": "2024-01-27T18:11:11.279535900Z",
     "start_time": "2024-01-27T18:11:08.785337400Z"
    }
   },
   "id": "6afec5f1bbc16f95",
   "execution_count": 209
  },
  {
   "cell_type": "code",
   "outputs": [
    {
     "name": "stdout",
     "output_type": "stream",
     "text": [
      "Accuracy: 0.57\n"
     ]
    }
   ],
   "source": [
    "y_pred = model.predict(X_test,verbose=0).round()\n",
    "accuracy = accuracy_score(y_test, y_pred)\n",
    "print(\"Accuracy:\", round(accuracy,2))"
   ],
   "metadata": {
    "collapsed": false,
    "ExecuteTime": {
     "end_time": "2024-01-27T18:11:12.179012400Z",
     "start_time": "2024-01-27T18:11:11.986343300Z"
    }
   },
   "id": "23ce17d54a6d09e1",
   "execution_count": 210
  },
  {
   "cell_type": "code",
   "outputs": [],
   "source": [],
   "metadata": {
    "collapsed": false,
    "ExecuteTime": {
     "end_time": "2024-01-27T18:11:12.931841800Z",
     "start_time": "2024-01-27T18:11:12.925161Z"
    }
   },
   "id": "8a36cc2ee063b691",
   "execution_count": 210
  },
  {
   "cell_type": "code",
   "outputs": [],
   "source": [],
   "metadata": {
    "collapsed": false,
    "ExecuteTime": {
     "end_time": "2024-01-27T18:11:13.324076200Z",
     "start_time": "2024-01-27T18:11:13.316096600Z"
    }
   },
   "id": "75527f33f1e5593d",
   "execution_count": 210
  },
  {
   "cell_type": "code",
   "outputs": [],
   "source": [
    "test_path = os.getcwd() + \"\\\\test\\\\\"\n",
    "test_images = []\n",
    "test_images_1 = []\n",
    "test_labels = []\n",
    "test_labels_1 = []\n",
    "gg = 00\n",
    "oo = []\n",
    "for i in os.listdir(test_path):\n",
    "    image_original = Image.open(test_path + i)\n",
    "    image_grayscale = image_original.convert(\"L\")\n",
    "    \n",
    "    image_resized = image_grayscale.resize((64,64))\n",
    "    image_array = np.array(image_resized) / 255.0\n",
    "    image_array = image_array.reshape((64,64,1))\n",
    "    test_images.append(image_array)\n",
    "\n",
    "\n",
    "    image_resized_1 = image_grayscale.resize((256,256))\n",
    "    image_array_1 = np.array(image_resized_1) / 255.0\n",
    "    image_array_1 = image_array_1.reshape((256,256,1))\n",
    "    test_images_1.append(image_array_1)\n",
    "\n",
    "test_images = np.array(test_images)\n",
    "test_images_1 = np.array(test_images_1)"
   ],
   "metadata": {
    "collapsed": false,
    "ExecuteTime": {
     "end_time": "2024-01-27T18:11:13.830227200Z",
     "start_time": "2024-01-27T18:11:13.775081300Z"
    }
   },
   "id": "7ff452c02713f59a",
   "execution_count": 211
  },
  {
   "cell_type": "code",
   "outputs": [
    {
     "data": {
      "text/plain": "(64, 64, 1)"
     },
     "execution_count": 212,
     "metadata": {},
     "output_type": "execute_result"
    }
   ],
   "source": [
    "test_images[0].shape"
   ],
   "metadata": {
    "collapsed": false,
    "ExecuteTime": {
     "end_time": "2024-01-27T18:11:16.137926800Z",
     "start_time": "2024-01-27T18:11:16.120736300Z"
    }
   },
   "id": "40d5c02e8cc1f765",
   "execution_count": 212
  },
  {
   "cell_type": "code",
   "outputs": [
    {
     "data": {
      "text/plain": "(256, 256, 1)"
     },
     "execution_count": 213,
     "metadata": {},
     "output_type": "execute_result"
    }
   ],
   "source": [
    "test_images_1[0].shape"
   ],
   "metadata": {
    "collapsed": false,
    "ExecuteTime": {
     "end_time": "2024-01-27T18:11:16.798366200Z",
     "start_time": "2024-01-27T18:11:16.789769500Z"
    }
   },
   "id": "81017e75ca8bba92",
   "execution_count": 213
  },
  {
   "cell_type": "code",
   "outputs": [],
   "source": [
    "test_labels = model.predict(test_images,verbose=0).round()"
   ],
   "metadata": {
    "collapsed": false,
    "ExecuteTime": {
     "end_time": "2024-01-27T18:11:17.568960900Z",
     "start_time": "2024-01-27T18:11:17.492138900Z"
    }
   },
   "id": "c0b0b0a608373ad7",
   "execution_count": 214
  },
  {
   "cell_type": "code",
   "outputs": [
    {
     "name": "stdout",
     "output_type": "stream",
     "text": [
      "[1.0, 1.0, 1.0, 1.0, 1.0, 1.0, 1.0, 0.0, 1.0, 1.0, 1.0, 1.0, 1.0, 1.0, 1.0, 1.0, 1.0]\n"
     ]
    }
   ],
   "source": [
    "print(test_labels.reshape(1,-1)[0].tolist())"
   ],
   "metadata": {
    "collapsed": false,
    "ExecuteTime": {
     "end_time": "2024-01-27T18:11:18.119759100Z",
     "start_time": "2024-01-27T18:11:18.113229700Z"
    }
   },
   "id": "f84647bbb3bfa680",
   "execution_count": 215
  },
  {
   "cell_type": "code",
   "outputs": [],
   "source": [
    "model_1 = tf.keras.models.Sequential(layers=[\n",
    "\n",
    "    tf.keras.layers.Conv2D(filters=32, kernel_size=(3,3), activation=\"relu\"),\n",
    "    tf.keras.layers.MaxPooling2D(pool_size=(2,2)),\n",
    "\n",
    "\n",
    "    tf.keras.layers.Conv2D(filters=64, kernel_size=(3,3), activation=\"relu\"),\n",
    "    tf.keras.layers.MaxPooling2D(pool_size=(2,2)),\n",
    "\n",
    "    tf.keras.layers.Conv2D(filters=128, kernel_size=(3,3), activation=\"relu\"),\n",
    "    tf.keras.layers.MaxPooling2D(pool_size=(2,2)),\n",
    "\n",
    "    tf.keras.layers.Conv2D(filters=128, kernel_size=(3,3), activation=\"relu\"),\n",
    "    tf.keras.layers.MaxPooling2D(pool_size=(2,2)),\n",
    "\n",
    "    tf.keras.layers.Conv2D(filters=256, kernel_size=(3,3), activation=\"relu\"),\n",
    "    tf.keras.layers.MaxPooling2D(pool_size=(2,2)),\n",
    "\n",
    "    tf.keras.layers.Conv2D(filters=512, kernel_size=(3,3), activation=\"relu\"),\n",
    "    tf.keras.layers.MaxPooling2D(pool_size=(2,2)),\n",
    "\n",
    "    tf.keras.layers.Flatten(),\n",
    "\n",
    "    tf.keras.layers.Dense(units=128, activation=\"relu\"),\n",
    "    tf.keras.layers.Dense(units=1, activation=\"sigmoid\")\n",
    "\n",
    "])"
   ],
   "metadata": {
    "collapsed": false,
    "ExecuteTime": {
     "end_time": "2024-01-27T18:11:19.092408300Z",
     "start_time": "2024-01-27T18:11:19.079529200Z"
    }
   },
   "id": "8754860643808377",
   "execution_count": 216
  },
  {
   "cell_type": "code",
   "outputs": [
    {
     "name": "stdout",
     "output_type": "stream",
     "text": [
      "Epoch 1/75\n",
      "6/6 [==============================] - 5s 494ms/step - loss: 0.6893 - binary_accuracy: 0.5482 - val_loss: 0.6817 - val_binary_accuracy: 0.5854\n",
      "Epoch 2/75\n",
      "6/6 [==============================] - 3s 402ms/step - loss: 0.6829 - binary_accuracy: 0.5723 - val_loss: 0.6756 - val_binary_accuracy: 0.6341\n",
      "Epoch 3/75\n",
      "6/6 [==============================] - 2s 394ms/step - loss: 0.6750 - binary_accuracy: 0.5663 - val_loss: 0.6627 - val_binary_accuracy: 0.6341\n",
      "Epoch 4/75\n",
      "6/6 [==============================] - 3s 466ms/step - loss: 0.6624 - binary_accuracy: 0.7289 - val_loss: 0.6502 - val_binary_accuracy: 0.7805\n",
      "Epoch 5/75\n",
      "6/6 [==============================] - 3s 437ms/step - loss: 0.6460 - binary_accuracy: 0.6747 - val_loss: 0.6249 - val_binary_accuracy: 0.7805\n",
      "Epoch 6/75\n",
      "6/6 [==============================] - 3s 439ms/step - loss: 0.6323 - binary_accuracy: 0.7410 - val_loss: 0.6011 - val_binary_accuracy: 0.7561\n",
      "Epoch 7/75\n",
      "6/6 [==============================] - 3s 452ms/step - loss: 0.6035 - binary_accuracy: 0.6928 - val_loss: 0.5760 - val_binary_accuracy: 0.7805\n",
      "Epoch 8/75\n",
      "6/6 [==============================] - 3s 430ms/step - loss: 0.5618 - binary_accuracy: 0.7651 - val_loss: 0.5383 - val_binary_accuracy: 0.8049\n",
      "Epoch 9/75\n",
      "6/6 [==============================] - 3s 447ms/step - loss: 0.5338 - binary_accuracy: 0.7470 - val_loss: 0.5210 - val_binary_accuracy: 0.7805\n",
      "Epoch 10/75\n",
      "6/6 [==============================] - 3s 435ms/step - loss: 0.4881 - binary_accuracy: 0.7651 - val_loss: 0.4945 - val_binary_accuracy: 0.8049\n",
      "Epoch 11/75\n",
      "6/6 [==============================] - 3s 463ms/step - loss: 0.4741 - binary_accuracy: 0.7831 - val_loss: 0.5316 - val_binary_accuracy: 0.7073\n",
      "Epoch 12/75\n",
      "6/6 [==============================] - 3s 453ms/step - loss: 0.4629 - binary_accuracy: 0.8072 - val_loss: 0.4901 - val_binary_accuracy: 0.8049\n",
      "Epoch 13/75\n",
      "6/6 [==============================] - 3s 418ms/step - loss: 0.4385 - binary_accuracy: 0.8072 - val_loss: 0.6307 - val_binary_accuracy: 0.6098\n",
      "Epoch 14/75\n",
      "6/6 [==============================] - 3s 443ms/step - loss: 0.4913 - binary_accuracy: 0.7771 - val_loss: 0.4933 - val_binary_accuracy: 0.8049\n"
     ]
    },
    {
     "data": {
      "text/plain": "<keras.src.callbacks.History at 0x2528effad90>"
     },
     "execution_count": 217,
     "metadata": {},
     "output_type": "execute_result"
    }
   ],
   "source": [
    "model_1.compile(optimizer=tf.keras.optimizers.Adam(learning_rate=0.0001), loss=tf.keras.losses.binary_crossentropy, metrics=tf.keras.metrics.binary_accuracy)\n",
    "model_1.fit(X_train_1,y_train_1,epochs=75,shuffle=True,validation_data=(X_val_1,y_val_1),verbose=1,callbacks=tf.keras.callbacks.EarlyStopping(patience=2))"
   ],
   "metadata": {
    "collapsed": false,
    "ExecuteTime": {
     "end_time": "2024-01-27T18:12:01.119221200Z",
     "start_time": "2024-01-27T18:11:21.615688400Z"
    }
   },
   "id": "b3e7d2f53cba9083",
   "execution_count": 217
  },
  {
   "cell_type": "code",
   "outputs": [],
   "source": [],
   "metadata": {
    "collapsed": false,
    "ExecuteTime": {
     "end_time": "2024-01-27T18:12:03.567329100Z",
     "start_time": "2024-01-27T18:12:03.556302300Z"
    }
   },
   "id": "f3c5bd8339c5de7e",
   "execution_count": 217
  },
  {
   "cell_type": "code",
   "outputs": [
    {
     "name": "stdout",
     "output_type": "stream",
     "text": [
      "Accuracy: 0.79\n"
     ]
    }
   ],
   "source": [
    "y_pred_1 = model_1.predict(X_test_1,verbose=0).round()\n",
    "accuracy_1 = accuracy_score(y_test_1, y_pred_1)\n",
    "print(\"Accuracy:\", round(accuracy_1,2))"
   ],
   "metadata": {
    "collapsed": false,
    "ExecuteTime": {
     "end_time": "2024-01-27T18:12:04.876648900Z",
     "start_time": "2024-01-27T18:12:04.263404900Z"
    }
   },
   "id": "12507901e58b9ff5",
   "execution_count": 218
  },
  {
   "cell_type": "code",
   "outputs": [
    {
     "name": "stdout",
     "output_type": "stream",
     "text": [
      "[1.0, 1.0, 1.0, 1.0, 1.0, 1.0, 1.0, 0.0, 0.0, 0.0, 1.0, 1.0, 1.0, 1.0, 1.0, 1.0, 1.0]\n"
     ]
    }
   ],
   "source": [
    "test_labels_1 = model_1.predict(test_images_1,verbose=0).round()\n",
    "print(test_labels_1.reshape(1,-1)[0].tolist())"
   ],
   "metadata": {
    "collapsed": false,
    "ExecuteTime": {
     "end_time": "2024-01-27T18:12:07.618946800Z",
     "start_time": "2024-01-27T18:12:07.358781300Z"
    }
   },
   "id": "d7ba20024149bc9c",
   "execution_count": 219
  },
  {
   "cell_type": "code",
   "outputs": [],
   "source": [],
   "metadata": {
    "collapsed": false
   },
   "id": "6a9dbf472e6f9b3e"
  }
 ],
 "metadata": {
  "kernelspec": {
   "display_name": "Python 3",
   "language": "python",
   "name": "python3"
  },
  "language_info": {
   "codemirror_mode": {
    "name": "ipython",
    "version": 2
   },
   "file_extension": ".py",
   "mimetype": "text/x-python",
   "name": "python",
   "nbconvert_exporter": "python",
   "pygments_lexer": "ipython2",
   "version": "2.7.6"
  }
 },
 "nbformat": 4,
 "nbformat_minor": 5
}
