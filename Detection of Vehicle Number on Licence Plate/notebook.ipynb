{
 "cells": [
  {
   "cell_type": "code",
   "execution_count": 4,
   "id": "initial_id",
   "metadata": {
    "collapsed": true,
    "ExecuteTime": {
     "end_time": "2024-01-30T18:37:42.047903Z",
     "start_time": "2024-01-30T18:37:42.018459500Z"
    }
   },
   "outputs": [],
   "source": [
    "import numpy as np\n",
    "import pandas as pd\n",
    "from PIL import Image\n",
    "from skimage import filters\n",
    "import scipy.ndimage as sci_image\n",
    "from skimage import measure as meas\n",
    "import matplotlib.pyplot as plt\n",
    "from scipy import signal as sci_signal\n",
    "import cv2\n",
    "import pytesseract\n",
    "pytesseract.pytesseract.tesseract_cmd = r'C:\\Program Files\\Tesseract-OCR\\tesseract.exe'\n",
    "import os\n",
    "import warnings\n",
    "warnings.filterwarnings(\"ignore\")\n",
    "import supported_functions as sf"
   ]
  },
  {
   "cell_type": "code",
   "outputs": [
    {
     "name": "stdout",
     "output_type": "stream",
     "text": [
      "0  :  0\n",
      "1  :  1\n",
      "2  :  2\n",
      "3  :  3\n",
      "4  :  4\n",
      "5  :  5\n",
      "6  :  6\n",
      "7  :  7\n",
      "8  :  8\n",
      "9  :  9\n",
      "10  :  A\n",
      "11  :  B\n",
      "12  :  C\n",
      "13  :  D\n",
      "14  :  E\n",
      "15  :  F\n",
      "16  :  G\n",
      "17  :  H\n",
      "18  :  I\n",
      "19  :  J\n",
      "20  :  K\n",
      "21  :  L\n",
      "22  :  M\n",
      "23  :  N\n",
      "24  :  0\n",
      "25  :  P\n",
      "26  :  Q\n",
      "27  :  R\n",
      "28  :  S\n",
      "29  :  T\n",
      "30  :  U\n",
      "31  :  V\n",
      "32  :  W\n",
      "33  :  X\n",
      "34  :  Y\n",
      "35  :  Z\n"
     ]
    }
   ],
   "source": [
    "char_list = list(range(48,58)) + list(range(65,91))\n",
    "ctr = 0\n",
    "for i in char_list:\n",
    "    file_name = \"data/\" + chr(i) + \".bmp\"\n",
    "    print(ctr,\" : \",sf.detect_letters(cv2.imread(file_name)))\n",
    "    ctr += 1"
   ],
   "metadata": {
    "collapsed": false,
    "ExecuteTime": {
     "end_time": "2024-01-30T18:37:50.162707Z",
     "start_time": "2024-01-30T18:37:42.435258Z"
    }
   },
   "id": "aa68981e5df366b8",
   "execution_count": 5
  },
  {
   "cell_type": "code",
   "outputs": [],
   "source": [
    "image = cv2.imread(\"test/image1.png\")\n",
    "image_grayscale = cv2.cvtColor(image, cv2.COLOR_BGR2GRAY) / 255.0\n",
    "#image_binarized = image_grayscale.round()\n",
    "#image_binarized"
   ],
   "metadata": {
    "collapsed": false,
    "ExecuteTime": {
     "end_time": "2024-01-30T18:40:45.746884600Z",
     "start_time": "2024-01-30T18:40:45.722081400Z"
    }
   },
   "id": "3ba5a495872d091d",
   "execution_count": 14
  },
  {
   "cell_type": "code",
   "outputs": [
    {
     "ename": "ValueError",
     "evalue": "The truth value of an array with more than one element is ambiguous. Use a.any() or a.all()",
     "output_type": "error",
     "traceback": [
      "\u001B[1;31m---------------------------------------------------------------------------\u001B[0m",
      "\u001B[1;31mValueError\u001B[0m                                Traceback (most recent call last)",
      "Cell \u001B[1;32mIn[18], line 2\u001B[0m\n\u001B[0;32m      1\u001B[0m y \u001B[38;5;241m=\u001B[39m \u001B[38;5;28;01mlambda\u001B[39;00m x: \u001B[38;5;241m1\u001B[39m \u001B[38;5;28;01mif\u001B[39;00m x \u001B[38;5;241m>\u001B[39m\u001B[38;5;241m=\u001B[39m \u001B[38;5;241m0.5\u001B[39m \u001B[38;5;28;01melse\u001B[39;00m \u001B[38;5;241m0\u001B[39m\n\u001B[1;32m----> 2\u001B[0m \u001B[43my\u001B[49m\u001B[43m(\u001B[49m\u001B[43mimage_grayscale\u001B[49m\u001B[43m)\u001B[49m\n",
      "Cell \u001B[1;32mIn[18], line 1\u001B[0m, in \u001B[0;36m<lambda>\u001B[1;34m(x)\u001B[0m\n\u001B[1;32m----> 1\u001B[0m y \u001B[38;5;241m=\u001B[39m \u001B[38;5;28;01mlambda\u001B[39;00m x: \u001B[38;5;241m1\u001B[39m \u001B[38;5;28;01mif\u001B[39;00m x \u001B[38;5;241m>\u001B[39m\u001B[38;5;241m=\u001B[39m \u001B[38;5;241m0.5\u001B[39m \u001B[38;5;28;01melse\u001B[39;00m \u001B[38;5;241m0\u001B[39m\n\u001B[0;32m      2\u001B[0m y(image_grayscale)\n",
      "\u001B[1;31mValueError\u001B[0m: The truth value of an array with more than one element is ambiguous. Use a.any() or a.all()"
     ]
    }
   ],
   "source": [
    "y = lambda x: 1 if x >= 0.5 else 0\n",
    "y(image_grayscale)"
   ],
   "metadata": {
    "collapsed": false,
    "ExecuteTime": {
     "end_time": "2024-01-30T18:43:28.290217600Z",
     "start_time": "2024-01-30T18:43:28.250518900Z"
    }
   },
   "id": "272477d7783449db",
   "execution_count": 18
  },
  {
   "cell_type": "code",
   "outputs": [
    {
     "data": {
      "text/plain": "array([[0.51372549, 0.51372549, 0.51372549, ..., 0.5372549 , 0.5372549 ,\n        0.5372549 ],\n       [0.50980392, 0.50980392, 0.50980392, ..., 0.5372549 , 0.5372549 ,\n        0.5372549 ],\n       [0.50980392, 0.50980392, 0.50980392, ..., 0.5372549 , 0.5372549 ,\n        0.5372549 ],\n       ...,\n       [0.09411765, 0.09411765, 0.09411765, ..., 0.10980392, 0.10980392,\n        0.11372549],\n       [0.09803922, 0.09803922, 0.09803922, ..., 0.11372549, 0.11372549,\n        0.11372549],\n       [0.09803922, 0.09803922, 0.09803922, ..., 0.11372549, 0.11372549,\n        0.11372549]])"
     },
     "execution_count": 7,
     "metadata": {},
     "output_type": "execute_result"
    }
   ],
   "source": [
    "image_grayscale"
   ],
   "metadata": {
    "collapsed": false,
    "ExecuteTime": {
     "end_time": "2024-01-30T18:38:15.501057700Z",
     "start_time": "2024-01-30T18:38:15.495768400Z"
    }
   },
   "id": "64e7511e6ae9cf84",
   "execution_count": 7
  },
  {
   "cell_type": "code",
   "outputs": [],
   "source": [],
   "metadata": {
    "collapsed": false
   },
   "id": "d1a32822561cb1f6"
  }
 ],
 "metadata": {
  "kernelspec": {
   "display_name": "Python 3",
   "language": "python",
   "name": "python3"
  },
  "language_info": {
   "codemirror_mode": {
    "name": "ipython",
    "version": 2
   },
   "file_extension": ".py",
   "mimetype": "text/x-python",
   "name": "python",
   "nbconvert_exporter": "python",
   "pygments_lexer": "ipython2",
   "version": "2.7.6"
  }
 },
 "nbformat": 4,
 "nbformat_minor": 5
}
