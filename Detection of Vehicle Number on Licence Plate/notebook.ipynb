{
 "cells": [
  {
   "cell_type": "code",
   "execution_count": 3,
   "id": "initial_id",
   "metadata": {
    "collapsed": true,
    "ExecuteTime": {
     "end_time": "2024-01-29T20:47:08.659154200Z",
     "start_time": "2024-01-29T20:47:08.653007500Z"
    }
   },
   "outputs": [],
   "source": [
    "import numpy as np\n",
    "import pandas as pd\n",
    "from PIL import Image\n",
    "from skimage import filters\n",
    "import scipy.ndimage as sci_image\n",
    "from skimage import measure as meas\n",
    "import matplotlib.pyplot as plt\n",
    "from scipy import signal as sci_signal\n",
    "import cv2\n",
    "import pytesseract\n",
    "pytesseract.pytesseract.tesseract_cmd = r'C:\\Program Files\\Tesseract-OCR\\tesseract.exe'\n",
    "import os"
   ]
  },
  {
   "cell_type": "code",
   "outputs": [],
   "source": [
    "def detect_letters():\n",
    "    full_path = \"data/\"\n",
    "    images_dict = {}\n",
    "    numbers_list = []\n",
    "    letters_list = []\n",
    "    \n",
    "    for i in os.listdir(full_path):\n",
    "        file = full_path + i\n",
    "        file_name = i.split(\".\")[0]\n",
    "        images_dict[file_name] = cv2.imread(file)\n",
    "    for i in range(ord(\"0\"),ord(\"9\")+1):\n",
    "        numbers_list.append(chr(i))\n",
    "    for i in range(ord(\"A\"),ord(\"Z\")+1):\n",
    "        letters_list.append(chr(i))\n",
    "    \n",
    "    images_list = images_dict"
   ],
   "metadata": {
    "collapsed": false,
    "ExecuteTime": {
     "end_time": "2024-01-29T20:53:39.030767400Z",
     "start_time": "2024-01-29T20:53:38.999974200Z"
    }
   },
   "id": "dd7d4cee3ad82139",
   "execution_count": 26
  },
  {
   "cell_type": "code",
   "outputs": [
    {
     "data": {
      "text/plain": "['A',\n 'B',\n 'C',\n 'D',\n 'E',\n 'F',\n 'G',\n 'H',\n 'I',\n 'J',\n 'K',\n 'L',\n 'M',\n 'N',\n 'O',\n 'P',\n 'Q',\n 'R',\n 'S',\n 'T',\n 'U',\n 'V',\n 'W',\n 'X',\n 'Y',\n 'Z']"
     },
     "execution_count": 27,
     "metadata": {},
     "output_type": "execute_result"
    }
   ],
   "source": [
    "detect_letters()"
   ],
   "metadata": {
    "collapsed": false,
    "ExecuteTime": {
     "end_time": "2024-01-29T20:53:39.640744800Z",
     "start_time": "2024-01-29T20:53:39.602279300Z"
    }
   },
   "id": "332d230dcf9da9c5",
   "execution_count": 27
  },
  {
   "cell_type": "code",
   "outputs": [
    {
     "data": {
      "text/plain": "array([[[0, 0, 0],\n        [0, 0, 0],\n        [0, 0, 0],\n        ...,\n        [0, 0, 0],\n        [0, 0, 0],\n        [0, 0, 0]],\n\n       [[0, 0, 0],\n        [0, 0, 0],\n        [0, 0, 0],\n        ...,\n        [0, 0, 0],\n        [0, 0, 0],\n        [0, 0, 0]],\n\n       [[0, 0, 0],\n        [0, 0, 0],\n        [0, 0, 0],\n        ...,\n        [0, 0, 0],\n        [0, 0, 0],\n        [0, 0, 0]],\n\n       ...,\n\n       [[0, 0, 0],\n        [0, 0, 0],\n        [0, 0, 0],\n        ...,\n        [0, 0, 0],\n        [0, 0, 0],\n        [0, 0, 0]],\n\n       [[0, 0, 0],\n        [0, 0, 0],\n        [0, 0, 0],\n        ...,\n        [0, 0, 0],\n        [0, 0, 0],\n        [0, 0, 0]],\n\n       [[0, 0, 0],\n        [0, 0, 0],\n        [0, 0, 0],\n        ...,\n        [0, 0, 0],\n        [0, 0, 0],\n        [0, 0, 0]]], dtype=uint8)"
     },
     "execution_count": 37,
     "metadata": {},
     "output_type": "execute_result"
    }
   ],
   "source": [
    "image"
   ],
   "metadata": {
    "collapsed": false,
    "ExecuteTime": {
     "end_time": "2024-01-29T20:38:33.025749500Z",
     "start_time": "2024-01-29T20:38:33.009503900Z"
    }
   },
   "id": "61eee94541396455",
   "execution_count": 37
  },
  {
   "cell_type": "code",
   "outputs": [],
   "source": [
    "A=imread('alpha/A.bmp');B=imread('alpha/B.bmp');C=imread('alpha/C.bmp');\n",
    "D=imread('alpha/D.bmp');E=imread('alpha/E.bmp');F=imread('alpha/F.bmp');\n",
    "G=imread('alpha/G.bmp');H=imread('alpha/H.bmp');I=imread('alpha/I.bmp');\n",
    "J=imread('alpha/J.bmp');K=imread('alpha/K.bmp');L=imread('alpha/L.bmp');\n",
    "M=imread('alpha/M.bmp');N=imread('alpha/N.bmp');O=imread('alpha/O.bmp');\n",
    "P=imread('alpha/P.bmp');Q=imread('alpha/Q.bmp');R=imread('alpha/R.bmp');\n",
    "S=imread('alpha/S.bmp');T=imread('alpha/T.bmp');U=imread('alpha/U.bmp');\n",
    "V=imread('alpha/V.bmp');W=imread('alpha/W.bmp');X=imread('alpha/X.bmp');\n",
    "Y=imread('alpha/Y.bmp');Z=imread('alpha/Z.bmp');\n",
    "\n",
    "%Natural Numbers\n",
    "one=imread('alpha/1.bmp');two=imread('alpha/2.bmp');\n",
    "three=imread('alpha/3.bmp');four=imread('alpha/4.bmp');\n",
    "five=imread('alpha/5.bmp'); six=imread('alpha/6.bmp');\n",
    "seven=imread('alpha/7.bmp');eight=imread('alpha/8.bmp');\n",
    "nine=imread('alpha/9.bmp'); zero=imread('alpha/0.bmp');\n",
    "\n",
    "%Creating Array for Alphabets\n",
    "letter=[A B C D E F G H I J K L M N O P Q R S T U V W X Y Z];\n",
    "%Creating Array for Numbers\n",
    "number=[one two three four five six seven eight nine zero];\n",
    "\n",
    "NewTemplates=[letter number];\n",
    "save ('NewTemplates','NewTemplates')\n",
    "clear all"
   ],
   "metadata": {
    "collapsed": false
   },
   "id": "121744616ee2e1a0"
  }
 ],
 "metadata": {
  "kernelspec": {
   "display_name": "Python 3",
   "language": "python",
   "name": "python3"
  },
  "language_info": {
   "codemirror_mode": {
    "name": "ipython",
    "version": 2
   },
   "file_extension": ".py",
   "mimetype": "text/x-python",
   "name": "python",
   "nbconvert_exporter": "python",
   "pygments_lexer": "ipython2",
   "version": "2.7.6"
  }
 },
 "nbformat": 4,
 "nbformat_minor": 5
}
