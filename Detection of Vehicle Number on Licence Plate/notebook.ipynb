{
 "cells": [
  {
   "cell_type": "code",
   "execution_count": 375,
   "id": "initial_id",
   "metadata": {
    "collapsed": true,
    "ExecuteTime": {
     "end_time": "2024-01-29T04:23:25.016904500Z",
     "start_time": "2024-01-29T04:23:24.974679100Z"
    }
   },
   "outputs": [],
   "source": [
    "import numpy as np\n",
    "import pandas as pd\n",
    "from PIL import Image\n",
    "from skimage import filters\n",
    "import scipy.ndimage as sci_image\n",
    "from skimage import measure as meas\n",
    "import matplotlib.pyplot as plt\n",
    "from scipy import signal as sci_signal"
   ]
  },
  {
   "cell_type": "markdown",
   "source": [
    "### Templates for Identification of Characters"
   ],
   "metadata": {
    "collapsed": false
   },
   "id": "a589190bcfebfa2e"
  },
  {
   "cell_type": "code",
   "outputs": [],
   "source": [
    "def identify_characters(full_path):\n",
    "    \n",
    "    input_images = {}\n",
    "    \n",
    "    begin = ord(\"A\")\n",
    "    end = ord(\"Z\") + 1\n",
    "    for i in range(begin,end):\n",
    "        input_images[chr(i)] = np.array(Image.open(full_path + \"\\\\\" + chr(i) + \".bmp\"))\n",
    "    \n",
    "    begin = ord(\"0\")\n",
    "    end = ord(\"9\") + 1\n",
    "    for i in range(begin,end):\n",
    "        input_images[chr(i)] = np.array(Image.open(full_path + \"\\\\\" +chr(i) + \".bmp\"))\n",
    "    \n",
    "    characters = np.array(list(input_images.values()))\n",
    "    return characters"
   ],
   "metadata": {
    "collapsed": false,
    "ExecuteTime": {
     "end_time": "2024-01-29T04:23:25.315821500Z",
     "start_time": "2024-01-29T04:23:25.290231200Z"
    }
   },
   "id": "48b9c7a88d6f976f",
   "execution_count": 376
  },
  {
   "cell_type": "markdown",
   "source": [
    "### Letter Detection"
   ],
   "metadata": {
    "collapsed": false
   },
   "id": "23852dcf7b333c18"
  },
  {
   "cell_type": "code",
   "outputs": [],
   "source": [
    "def character_listings(ind):\n",
    "    if ind == 1 or ind == 2:\n",
    "        letter = 'A'\n",
    "    elif ind == 3 or ind == 4:\n",
    "        letter = 'B'\n",
    "    elif ind == 5:\n",
    "        letter = 'C'\n",
    "    elif ind == 6 or ind == 7:\n",
    "        letter = 'D'\n",
    "    elif ind == 8:\n",
    "        letter = 'E'\n",
    "    elif ind == 9:\n",
    "        letter = 'F'\n",
    "    elif ind == 10:\n",
    "        letter = 'G'\n",
    "    elif ind == 11:\n",
    "        letter = 'H'\n",
    "    elif ind == 12:\n",
    "        letter = 'I'\n",
    "    elif ind == 13:\n",
    "        letter = 'J'\n",
    "    elif ind == 14:\n",
    "        letter = 'K'\n",
    "    elif ind == 15:\n",
    "        letter = 'L'\n",
    "    elif ind == 16:\n",
    "        letter = 'M'\n",
    "    elif ind == 17:\n",
    "        letter = 'N'\n",
    "    elif ind == 18 or ind == 19:\n",
    "        letter = 'O'\n",
    "    elif ind == 20 or ind == 21:\n",
    "        letter = 'P'\n",
    "    elif ind == 22 or ind == 23:\n",
    "        letter = 'Q'\n",
    "    elif ind == 24 or ind == 25:\n",
    "        letter = 'R'\n",
    "    elif ind == 26:\n",
    "        letter = 'S'\n",
    "    elif ind == 27:\n",
    "        letter = 'T'\n",
    "    elif ind == 28:\n",
    "        letter = 'U'\n",
    "    elif ind == 29:\n",
    "        letter = 'V'\n",
    "    elif ind == 30:\n",
    "        letter = 'W'\n",
    "    elif ind == 31:\n",
    "        letter = 'X'\n",
    "    elif ind == 32:\n",
    "        letter = 'Y'\n",
    "    elif ind == 33:\n",
    "        letter = 'Z'\n",
    "    elif ind == 34:\n",
    "        letter = '1'\n",
    "    elif ind == 35:\n",
    "        letter = '2'\n",
    "    elif ind == 36:\n",
    "        letter = '3'\n",
    "    elif ind == 37 or ind == 38:\n",
    "        letter = '4'\n",
    "    elif ind == 39:\n",
    "        letter = '5'\n",
    "    elif ind == 40 or ind == 41 or ind == 42:\n",
    "        letter = '6'\n",
    "    elif ind == 43:\n",
    "        letter = '7'\n",
    "    elif ind == 44 or ind == 45:\n",
    "        letter = '8'\n",
    "    elif ind == 46 or ind == 47 or ind == 48:\n",
    "        letter = '9'\n",
    "    else:\n",
    "        letter = '0'\n",
    "\n",
    "    return letter\n"
   ],
   "metadata": {
    "collapsed": false,
    "ExecuteTime": {
     "end_time": "2024-01-29T04:23:25.659534Z",
     "start_time": "2024-01-29T04:23:25.645522300Z"
    }
   },
   "id": "6eaa0fc7cb05e826",
   "execution_count": 377
  },
  {
   "cell_type": "code",
   "outputs": [],
   "source": [
    "def detect_letter(image_original):\n",
    "    image_resized = image_original.resize([42,24])\n",
    "    image_resized_array = np.array(image_resized)\n",
    "\n",
    "    image_templates = identify_characters(\"C:\\\\Users\\\\amith\\\\Documents\\\\GitHub\\\\mvsr-data-scientist\\\\Detection of Vehicle Number on Licence Plate\\\\data\")\n",
    "\n",
    "    corr_values = []\n",
    "    for i in image_templates:\n",
    "        corr_matrix = sci_signal.correlate2d(in1=i,in2=image_resized_array).max()\n",
    "        corr_values.append(corr_matrix)\n",
    "\n",
    "    max_corr = max(corr_values)\n",
    "    pos = np.where(corr_values == max_corr)\n",
    "\n",
    "    charac = character_listings(pos)\n",
    "\n",
    "    return charac,pos"
   ],
   "metadata": {
    "collapsed": false,
    "ExecuteTime": {
     "end_time": "2024-01-29T04:23:25.892288700Z",
     "start_time": "2024-01-29T04:23:25.873958500Z"
    }
   },
   "id": "a09e90c5ff318fb6",
   "execution_count": 378
  },
  {
   "cell_type": "code",
   "outputs": [],
   "source": [],
   "metadata": {
    "collapsed": false,
    "ExecuteTime": {
     "end_time": "2024-01-29T04:23:26.075065800Z",
     "start_time": "2024-01-29T04:23:26.059353800Z"
    }
   },
   "id": "eaf4a76f2ef85213",
   "execution_count": 378
  },
  {
   "cell_type": "markdown",
   "source": [
    "### Detection of Number Plate"
   ],
   "metadata": {
    "collapsed": false
   },
   "id": "a536e739af0c347e"
  },
  {
   "cell_type": "code",
   "outputs": [],
   "source": [
    "# Path where our image is located\n",
    "path = \"C:\\\\Users\\\\amith\\\\Documents\\\\Number Plate Recognition\\\\Number Plate Images\\\\image2.png\"\n",
    "\n",
    "# Opening of Image\n",
    "image = Image.open(path)\n",
    "\n",
    "# Conversion of Image to grayscale\n",
    "image_grayscale = image.convert(\"L\")\n",
    "\n",
    "# Making the pixel values binary (either 0's or 1's) in the image\n",
    "image_binarized = (np.array(image_grayscale) / 255.0).round()\n",
    "\n",
    "# Applying Sobel Edge Detector to detect edges\n",
    "image_edges_X = sci_image.sobel(image_binarized,axis=0)\n",
    "image_edges_y = sci_image.sobel(image_binarized,axis=1)\n",
    "image_edges = np.int64(np.sqrt(image_edges_X**2 + image_edges_y**2).round())"
   ],
   "metadata": {
    "collapsed": false,
    "ExecuteTime": {
     "end_time": "2024-01-29T04:23:26.470459600Z",
     "start_time": "2024-01-29T04:23:26.439320700Z"
    }
   },
   "id": "3387fc4ffbc928b9",
   "execution_count": 379
  },
  {
   "cell_type": "code",
   "outputs": [],
   "source": [
    "image_region_properties = meas.regionprops(label_image=image_edges)\n",
    "\n",
    "label = []\n",
    "bounding_box = []\n",
    "area = []\n",
    "\n",
    "property_count = 0\n",
    "\n",
    "for i in image_region_properties:\n",
    "    label.append(i.label)\n",
    "    bounding_box.append(i.bbox)\n",
    "    area.append(i.area)\n",
    "    property_count += 1\n",
    "\n",
    "max_area = max(area)\n",
    "max_area_bounding_box = bounding_box[area.index(max_area)]\n",
    "for i in range(property_count):\n",
    "    if max_area < area[i]:\n",
    "        max_area = area[i]\n",
    "        max_area_bounding_box = bounding_box[i]"
   ],
   "metadata": {
    "collapsed": false,
    "ExecuteTime": {
     "end_time": "2024-01-29T04:23:26.643784300Z",
     "start_time": "2024-01-29T04:23:26.633801300Z"
    }
   },
   "id": "84fdf855f0d1af30",
   "execution_count": 380
  },
  {
   "cell_type": "code",
   "outputs": [],
   "source": [
    "row_1, col_1, row_2, col_2 = max_area_bounding_box\n",
    "\n",
    "image_cropped = image_binarized[row_1:row_2, col_1:col_2]\n",
    "\n",
    "image_cropped_inverted = 1 - image_cropped\n",
    "image_labelled, number_of_labels = sci_image.label(image_cropped_inverted)\n",
    "component_sizes = sci_image.sum(image_cropped_inverted,image_labelled,range(number_of_labels+1))\n",
    "mask = component_sizes > 500\n",
    "image_filtered_before_inversion = np.int64(mask[image_labelled])\n",
    "image_filtered = 1 - image_filtered_before_inversion\n",
    "\n",
    "height_ref,width_ref = image_filtered.shape"
   ],
   "metadata": {
    "collapsed": false,
    "ExecuteTime": {
     "end_time": "2024-01-29T04:23:26.894696400Z",
     "start_time": "2024-01-29T04:23:26.877893600Z"
    }
   },
   "id": "d996541fe10ae582",
   "execution_count": 381
  },
  {
   "cell_type": "code",
   "outputs": [],
   "source": [
    "image_region_properties_2 = meas.regionprops(label_image=image_filtered)\n",
    "\n",
    "label_2 = []\n",
    "bounding_box_2 = []\n",
    "area_2 = []\n",
    "\n",
    "property_count_2 = 0\n",
    "\n",
    "for i in image_region_properties_2:\n",
    "    label_2.append(i.label)\n",
    "    bounding_box_2.append(i.bbox)\n",
    "    area_2.append(i.area)\n",
    "    property_count_2 += 1\n",
    "\n",
    "number_on_plate = []\n",
    "kkl = []\n",
    "\n",
    "for i in range(property_count_2):\n",
    "    bounding_box_2_height = image_region_properties_2[i].image.shape[0]\n",
    "    bounding_box_2_width = image_region_properties_2[i].image.shape[1]\n",
    "\n",
    "    if (bounding_box_2_width < (height_ref/2)) and (bounding_box_2_height > (height_ref/3)):\n",
    "        letter,kk = detect_letter(image_region_properties_2[i].image)\n",
    "        number_on_plate.append(letter)\n",
    "        kkl.append(kk)"
   ],
   "metadata": {
    "collapsed": false,
    "ExecuteTime": {
     "end_time": "2024-01-29T04:23:27.216325800Z",
     "start_time": "2024-01-29T04:23:27.205683300Z"
    }
   },
   "id": "654e324686c3b930",
   "execution_count": 382
  },
  {
   "cell_type": "code",
   "outputs": [
    {
     "data": {
      "text/plain": "[]"
     },
     "execution_count": 383,
     "metadata": {},
     "output_type": "execute_result"
    }
   ],
   "source": [
    "number_on_plate"
   ],
   "metadata": {
    "collapsed": false,
    "ExecuteTime": {
     "end_time": "2024-01-29T04:23:27.740103800Z",
     "start_time": "2024-01-29T04:23:27.707981500Z"
    }
   },
   "id": "8328ce38563bda49",
   "execution_count": 383
  },
  {
   "cell_type": "code",
   "outputs": [
    {
     "data": {
      "text/plain": "[]"
     },
     "execution_count": 384,
     "metadata": {},
     "output_type": "execute_result"
    }
   ],
   "source": [
    "kkl"
   ],
   "metadata": {
    "collapsed": false,
    "ExecuteTime": {
     "end_time": "2024-01-29T04:23:28.003970100Z",
     "start_time": "2024-01-29T04:23:27.993270400Z"
    }
   },
   "id": "3f36f059b1fd2443",
   "execution_count": 384
  },
  {
   "cell_type": "code",
   "outputs": [],
   "source": [],
   "metadata": {
    "collapsed": false
   },
   "id": "6cdf71b815f11fbb"
  }
 ],
 "metadata": {
  "kernelspec": {
   "display_name": "Python 3",
   "language": "python",
   "name": "python3"
  },
  "language_info": {
   "codemirror_mode": {
    "name": "ipython",
    "version": 2
   },
   "file_extension": ".py",
   "mimetype": "text/x-python",
   "name": "python",
   "nbconvert_exporter": "python",
   "pygments_lexer": "ipython2",
   "version": "2.7.6"
  }
 },
 "nbformat": 4,
 "nbformat_minor": 5
}
