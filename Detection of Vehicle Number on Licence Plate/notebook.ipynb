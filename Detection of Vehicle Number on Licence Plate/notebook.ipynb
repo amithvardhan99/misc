{
 "cells": [
  {
   "cell_type": "code",
   "execution_count": 27,
   "id": "initial_id",
   "metadata": {
    "collapsed": true,
    "ExecuteTime": {
     "end_time": "2024-01-30T20:55:33.619278600Z",
     "start_time": "2024-01-30T20:55:33.598350Z"
    }
   },
   "outputs": [],
   "source": [
    "import numpy as np\n",
    "import pandas as pd\n",
    "from PIL import Image\n",
    "from skimage import filters\n",
    "import scipy.ndimage as sci_image\n",
    "from skimage import measure as meas\n",
    "import matplotlib.pyplot as plt\n",
    "from scipy import signal as sci_signal\n",
    "import cv2\n",
    "import pytesseract\n",
    "pytesseract.pytesseract.tesseract_cmd = r'C:\\Program Files\\Tesseract-OCR\\tesseract.exe'\n",
    "import os\n",
    "import warnings\n",
    "warnings.filterwarnings(\"ignore\")\n",
    "import supported_functions as sf"
   ]
  },
  {
   "cell_type": "code",
   "outputs": [],
   "source": [
    "#char_list = list(range(48,58)) + list(range(65,91))\n",
    "#ctr = 0\n",
    "#for i in char_list:\n",
    "    #file_name = \"data/\" + chr(i) + \".bmp\"\n",
    "    #print(ctr,\" : \",sf.detect_letters(cv2.imread(file_name)))\n",
    "    #ctr += 1"
   ],
   "metadata": {
    "collapsed": false,
    "ExecuteTime": {
     "end_time": "2024-01-30T20:55:45.434198100Z",
     "start_time": "2024-01-30T20:55:45.416735400Z"
    }
   },
   "id": "aa68981e5df366b8",
   "execution_count": 29
  },
  {
   "cell_type": "code",
   "outputs": [
    {
     "data": {
      "text/plain": "array([[255, 255, 255, ..., 255, 255, 255],\n       [255, 255, 255, ..., 255, 255, 255],\n       [255, 255, 255, ..., 255, 255, 255],\n       ...,\n       [  0,   0,   0, ...,   0,   0,   0],\n       [  0,   0,   0, ...,   0,   0,   0],\n       [  0,   0,   0, ...,   0,   0,   0]], dtype=uint8)"
     },
     "execution_count": 34,
     "metadata": {},
     "output_type": "execute_result"
    }
   ],
   "source": [
    "image = cv2.imread(\"test/image1.png\")\n",
    "image_resized = cv2.resize(image, (24,42))\n",
    "image_grayscale = cv2.cvtColor(image, cv2.COLOR_BGR2GRAY)\n",
    "image_binarize = image_grayscale.copy()\n",
    "\n",
    "image_binarize[image_binarize >= 128] = 255\n",
    "image_binarize[image_binarize < 128] = 0\n",
    "image_binarize"
   ],
   "metadata": {
    "collapsed": false,
    "ExecuteTime": {
     "end_time": "2024-01-30T20:59:07.814378Z",
     "start_time": "2024-01-30T20:59:07.787833200Z"
    }
   },
   "id": "3ba5a495872d091d",
   "execution_count": 34
  },
  {
   "cell_type": "code",
   "outputs": [
    {
     "data": {
      "text/plain": "(42, 24, 3)"
     },
     "execution_count": 36,
     "metadata": {},
     "output_type": "execute_result"
    }
   ],
   "source": [
    "image_resized.shape"
   ],
   "metadata": {
    "collapsed": false,
    "ExecuteTime": {
     "end_time": "2024-01-30T20:59:16.192489900Z",
     "start_time": "2024-01-30T20:59:16.178385Z"
    }
   },
   "id": "3c88785428d20f29",
   "execution_count": 36
  },
  {
   "cell_type": "code",
   "outputs": [],
   "source": [],
   "metadata": {
    "collapsed": false
   },
   "id": "ee915aa6461fe56d"
  }
 ],
 "metadata": {
  "kernelspec": {
   "display_name": "Python 3",
   "language": "python",
   "name": "python3"
  },
  "language_info": {
   "codemirror_mode": {
    "name": "ipython",
    "version": 2
   },
   "file_extension": ".py",
   "mimetype": "text/x-python",
   "name": "python",
   "nbconvert_exporter": "python",
   "pygments_lexer": "ipython2",
   "version": "2.7.6"
  }
 },
 "nbformat": 4,
 "nbformat_minor": 5
}
