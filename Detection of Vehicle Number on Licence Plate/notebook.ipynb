{
 "cells": [
  {
   "cell_type": "code",
   "execution_count": 2,
   "id": "initial_id",
   "metadata": {
    "collapsed": true,
    "ExecuteTime": {
     "end_time": "2024-01-30T00:16:04.124617800Z",
     "start_time": "2024-01-30T00:16:04.091097Z"
    }
   },
   "outputs": [],
   "source": [
    "import numpy as np\n",
    "import pandas as pd\n",
    "from PIL import Image\n",
    "from skimage import filters\n",
    "import scipy.ndimage as sci_image\n",
    "from skimage import measure as meas\n",
    "import matplotlib.pyplot as plt\n",
    "from scipy import signal as sci_signal\n",
    "import cv2\n",
    "import pytesseract\n",
    "pytesseract.pytesseract.tesseract_cmd = r'C:\\Program Files\\Tesseract-OCR\\tesseract.exe'\n",
    "import os\n",
    "import warnings\n",
    "warnings.filterwarnings(\"ignore\")"
   ]
  },
  {
   "cell_type": "code",
   "outputs": [],
   "source": [
    "def detect_letters():\n",
    "    \n",
    "    character_dict = {}\n",
    "    \n",
    "    start_letter = ord(\"A\")\n",
    "    end_letter = ord(\"Z\") + 1\n",
    "    \n",
    "    start_number = ord(\"0\")\n",
    "    end_number = ord(\"9\") + 1\n",
    "    \n",
    "    total_character_codes = list(range(start_letter,end_letter)) + list(range(start_number,end_number))\n",
    "    \n",
    "    for i in total_character_codes:\n",
    "        file_name = \"data/\" + chr(i) + \".bmp\"\n",
    "        image_read = cv2.imread(file_name)\n",
    "        character_dict[chr(i)] = cv2.cvtColor(src=image_read, code=cv2.COLOR_BGR2GRAY)\n",
    "    \n",
    "    character_list = np.array(list(character_dict.values()))\n",
    "    return character_list\n",
    "    "
   ],
   "metadata": {
    "collapsed": false,
    "ExecuteTime": {
     "end_time": "2024-01-30T00:31:52.958953200Z",
     "start_time": "2024-01-30T00:31:52.947127600Z"
    }
   },
   "id": "dd7d4cee3ad82139",
   "execution_count": 45
  },
  {
   "cell_type": "code",
   "outputs": [
    {
     "name": "stdout",
     "output_type": "stream",
     "text": [
      "(36, 42, 24)\n"
     ]
    }
   ],
   "source": [
    "print(detect_letters().shape)"
   ],
   "metadata": {
    "collapsed": false,
    "ExecuteTime": {
     "end_time": "2024-01-30T00:31:53.411471Z",
     "start_time": "2024-01-30T00:31:53.361417400Z"
    }
   },
   "id": "332d230dcf9da9c5",
   "execution_count": 46
  },
  {
   "cell_type": "code",
   "outputs": [],
   "source": [
    "A=imread('alpha/A.bmp');B=imread('alpha/B.bmp');C=imread('alpha/C.bmp');\n",
    "D=imread('alpha/D.bmp');E=imread('alpha/E.bmp');F=imread('alpha/F.bmp');\n",
    "G=imread('alpha/G.bmp');H=imread('alpha/H.bmp');I=imread('alpha/I.bmp');\n",
    "J=imread('alpha/J.bmp');K=imread('alpha/K.bmp');L=imread('alpha/L.bmp');\n",
    "M=imread('alpha/M.bmp');N=imread('alpha/N.bmp');O=imread('alpha/O.bmp');\n",
    "P=imread('alpha/P.bmp');Q=imread('alpha/Q.bmp');R=imread('alpha/R.bmp');\n",
    "S=imread('alpha/S.bmp');T=imread('alpha/T.bmp');U=imread('alpha/U.bmp');\n",
    "V=imread('alpha/V.bmp');W=imread('alpha/W.bmp');X=imread('alpha/X.bmp');\n",
    "Y=imread('alpha/Y.bmp');Z=imread('alpha/Z.bmp');\n",
    "\n",
    "%Natural Numbers\n",
    "one=imread('alpha/1.bmp');two=imread('alpha/2.bmp');\n",
    "three=imread('alpha/3.bmp');four=imread('alpha/4.bmp');\n",
    "five=imread('alpha/5.bmp'); six=imread('alpha/6.bmp');\n",
    "seven=imread('alpha/7.bmp');eight=imread('alpha/8.bmp');\n",
    "nine=imread('alpha/9.bmp'); zero=imread('alpha/0.bmp');\n",
    "\n",
    "%Creating Array for Alphabets\n",
    "letter=[A B C D E F G H I J K L M N O P Q R S T U V W X Y Z];\n",
    "%Creating Array for Numbers\n",
    "number=[one two three four five six seven eight nine zero];\n",
    "\n",
    "NewTemplates=[letter number];\n",
    "save ('NewTemplates','NewTemplates')\n",
    "clear all"
   ],
   "metadata": {
    "collapsed": false
   },
   "id": "121744616ee2e1a0"
  }
 ],
 "metadata": {
  "kernelspec": {
   "display_name": "Python 3",
   "language": "python",
   "name": "python3"
  },
  "language_info": {
   "codemirror_mode": {
    "name": "ipython",
    "version": 2
   },
   "file_extension": ".py",
   "mimetype": "text/x-python",
   "name": "python",
   "nbconvert_exporter": "python",
   "pygments_lexer": "ipython2",
   "version": "2.7.6"
  }
 },
 "nbformat": 4,
 "nbformat_minor": 5
}
