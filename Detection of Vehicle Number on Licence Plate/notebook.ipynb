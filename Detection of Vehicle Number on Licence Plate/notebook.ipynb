{
 "cells": [
  {
   "cell_type": "code",
   "execution_count": 2,
   "id": "initial_id",
   "metadata": {
    "collapsed": true,
    "ExecuteTime": {
     "end_time": "2024-01-30T01:52:44.492906300Z",
     "start_time": "2024-01-30T01:52:44.482051Z"
    }
   },
   "outputs": [],
   "source": [
    "import numpy as np\n",
    "import pandas as pd\n",
    "from PIL import Image\n",
    "from skimage import filters\n",
    "import scipy.ndimage as sci_image\n",
    "from skimage import measure as meas\n",
    "import matplotlib.pyplot as plt\n",
    "from scipy import signal as sci_signal\n",
    "import cv2\n",
    "import pytesseract\n",
    "pytesseract.pytesseract.tesseract_cmd = r'C:\\Program Files\\Tesseract-OCR\\tesseract.exe'\n",
    "import os\n",
    "import warnings\n",
    "warnings.filterwarnings(\"ignore\")\n",
    "import supported_functions as sf"
   ]
  },
  {
   "cell_type": "code",
   "outputs": [
    {
     "data": {
      "text/plain": "array([[[0., 0., 0., ..., 0., 0., 0.],\n        [0., 0., 0., ..., 0., 0., 0.],\n        [0., 0., 0., ..., 0., 0., 0.],\n        ...,\n        [0., 0., 0., ..., 0., 0., 0.],\n        [0., 0., 0., ..., 0., 0., 0.],\n        [0., 0., 0., ..., 0., 0., 0.]],\n\n       [[0., 0., 0., ..., 1., 1., 1.],\n        [0., 0., 0., ..., 1., 1., 1.],\n        [0., 0., 0., ..., 1., 1., 1.],\n        ...,\n        [0., 0., 0., ..., 1., 1., 1.],\n        [0., 0., 0., ..., 1., 1., 1.],\n        [0., 0., 0., ..., 1., 1., 1.]],\n\n       [[0., 0., 0., ..., 0., 0., 0.],\n        [0., 0., 0., ..., 0., 0., 0.],\n        [0., 0., 0., ..., 0., 0., 0.],\n        ...,\n        [0., 1., 1., ..., 1., 1., 1.],\n        [0., 1., 1., ..., 1., 1., 1.],\n        [0., 1., 1., ..., 1., 1., 0.]],\n\n       ...,\n\n       [[0., 1., 1., ..., 1., 1., 0.],\n        [0., 0., 1., ..., 1., 1., 0.],\n        [0., 0., 1., ..., 1., 0., 0.],\n        ...,\n        [0., 1., 1., ..., 1., 1., 0.],\n        [0., 1., 1., ..., 1., 1., 1.],\n        [1., 1., 1., ..., 1., 1., 1.]],\n\n       [[1., 1., 1., ..., 1., 1., 1.],\n        [0., 1., 1., ..., 1., 1., 1.],\n        [0., 1., 1., ..., 1., 1., 1.],\n        ...,\n        [0., 0., 0., ..., 0., 0., 0.],\n        [0., 0., 0., ..., 0., 0., 0.],\n        [0., 0., 0., ..., 0., 0., 0.]],\n\n       [[0., 0., 1., ..., 1., 1., 1.],\n        [0., 0., 1., ..., 1., 1., 1.],\n        [0., 0., 1., ..., 1., 1., 1.],\n        ...,\n        [1., 1., 1., ..., 1., 1., 1.],\n        [1., 1., 1., ..., 1., 1., 1.],\n        [1., 1., 1., ..., 1., 1., 1.]]])"
     },
     "execution_count": 3,
     "metadata": {},
     "output_type": "execute_result"
    }
   ],
   "source": [
    "sf.create_templates()"
   ],
   "metadata": {
    "collapsed": false,
    "ExecuteTime": {
     "end_time": "2024-01-30T01:52:45.419396300Z",
     "start_time": "2024-01-30T01:52:45.308341100Z"
    }
   },
   "id": "dd7d4cee3ad82139",
   "execution_count": 3
  },
  {
   "cell_type": "code",
   "outputs": [],
   "source": [
    "def detect_letters(image):\n",
    "    image_resized = cv2.resize(image,(24,42))\n",
    "    image_resized_grayscale = cv2.cvtColor(src=image_resized,code=cv2.COLOR_BGR2GRAY) / 255.0\n",
    "    ctr = 0\n",
    "    corr_matrix_arr = []\n",
    "    for i in sf.create_templates():\n",
    "        corr_matrix = sci_signal.correlate2d(i,image_resized_grayscale).max()\n",
    "        corr_matrix_arr.append(corr_matrix)\n",
    "    pos = np.argmax(corr_matrix_arr)\n",
    "    det = sf.identify_letter(pos)\n",
    "    return pos"
   ],
   "metadata": {
    "collapsed": false,
    "ExecuteTime": {
     "end_time": "2024-01-30T01:52:46.248974600Z",
     "start_time": "2024-01-30T01:52:46.200679400Z"
    }
   },
   "id": "6393c6b984137e2d",
   "execution_count": 4
  },
  {
   "cell_type": "code",
   "outputs": [
    {
     "data": {
      "text/plain": "35"
     },
     "execution_count": 13,
     "metadata": {},
     "output_type": "execute_result"
    }
   ],
   "source": [
    "detect_letters(cv2.imread(\"data/Z.bmp\"))"
   ],
   "metadata": {
    "collapsed": false,
    "ExecuteTime": {
     "end_time": "2024-01-30T01:53:14.061552200Z",
     "start_time": "2024-01-30T01:53:13.268127900Z"
    }
   },
   "id": "332d230dcf9da9c5",
   "execution_count": 13
  },
  {
   "cell_type": "code",
   "outputs": [],
   "source": [],
   "metadata": {
    "collapsed": false
   },
   "id": "3ba5a495872d091d"
  }
 ],
 "metadata": {
  "kernelspec": {
   "display_name": "Python 3",
   "language": "python",
   "name": "python3"
  },
  "language_info": {
   "codemirror_mode": {
    "name": "ipython",
    "version": 2
   },
   "file_extension": ".py",
   "mimetype": "text/x-python",
   "name": "python",
   "nbconvert_exporter": "python",
   "pygments_lexer": "ipython2",
   "version": "2.7.6"
  }
 },
 "nbformat": 4,
 "nbformat_minor": 5
}
