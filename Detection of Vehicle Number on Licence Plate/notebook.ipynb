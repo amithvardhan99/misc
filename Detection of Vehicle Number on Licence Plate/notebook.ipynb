{
 "cells": [
  {
   "cell_type": "code",
   "execution_count": 67,
   "id": "initial_id",
   "metadata": {
    "collapsed": true,
    "ExecuteTime": {
     "end_time": "2024-01-29T00:32:19.716658100Z",
     "start_time": "2024-01-29T00:32:19.683426300Z"
    }
   },
   "outputs": [],
   "source": [
    "import numpy as np\n",
    "import pandas as pd\n",
    "import matplotlib.pyplot as plt\n",
    "import seaborn as sns\n",
    "from PIL import Image, ImageFilter\n",
    "import pytesseract\n",
    "from scipy.ndimage import *\n",
    "import scipy.signal as scisignal\n",
    "import skimage.exposure as expo\n",
    "import skimage.morphology as morpha\n",
    "from skimage.measure import *\n",
    "import scipy.ndimage as ndimg"
   ]
  },
  {
   "cell_type": "code",
   "outputs": [],
   "source": [
    "aspect_ratio = lambda image: image.size[0] / image.size[1]"
   ],
   "metadata": {
    "collapsed": false,
    "ExecuteTime": {
     "end_time": "2024-01-29T00:32:20.118853100Z",
     "start_time": "2024-01-29T00:32:20.108151300Z"
    }
   },
   "id": "3cdadad22925f6fa",
   "execution_count": 68
  },
  {
   "cell_type": "code",
   "outputs": [],
   "source": [
    "# Import image\n",
    "image = Image.open(\"carplate1.jpg\")\n",
    "\n",
    "# Resize the image while maintaining aspect ratio\n",
    "new_size_of_image = (400,round(400/aspect_ratio(image)))\n",
    "new_image = image.resize(new_size_of_image)\n",
    "\n",
    "# Convert Image to Grayscale (Colour Image Processing)\n",
    "image_grayscale = new_image.convert(\"L\")\n",
    "\n",
    "# Perform median filtering on the image\n",
    "median_filtered_image = image_grayscale.filter(ImageFilter.MedianFilter(3))\n",
    "\n",
    "# Structural element for image dilation and erosion\n",
    "structural_element = np.array([[0,1,0],\n",
    "                      [1,1,1],\n",
    "                      [0,1,0]])\n",
    "\n",
    "# Converting median filtered image to its binary form for image dilation and erosion\n",
    "binary_image = median_filtered_image.convert(\"1\")\n",
    "\n",
    "# Performing Image Dilation using the structural element\n",
    "dilated_image = np.int64(ndimg.binary_dilation(input=binary_image,structure=structural_element))\n",
    "\n",
    "# Performing Image Erosion using the structural element\n",
    "eroded_image = np.int64(ndimg.binary_erosion(input=binary_image,structure=structural_element))\n",
    "\n",
    "# Morphological Element for enhancing edges of the image\n",
    "gradient_image = dilated_image - eroded_image\n",
    "\n",
    "# Scaling the image to [0,1] to convert the image to double precision\n",
    "gradient_image_scaled = gradient_image / gradient_image.max()\n",
    "\n",
    "# Convolution of double precision image for beightening the edges\n",
    "kernel = [[1,1],\n",
    "          [1,1]]\n",
    "convolved_image = scisignal.convolve2d(in1=gradient_image_scaled,in2=kernel,mode=\"valid\")\n",
    "\n",
    "# Intensity scaling between the range 0 to 1\n",
    "low_in = 0.5\n",
    "high_in = 0.7\n",
    "low_out = 0\n",
    "high_out = 1\n",
    "gamma = 0.1\n",
    "gain = (high_out - low_out) / (high_in - low_in)\n",
    "intensity_scaled_image = expo.adjust_gamma(image=convolved_image,gamma=gamma,gain=gain)\n",
    "\n",
    "# Conversion of double image back to binary image\n",
    "back_binary_image = np.round(intensity_scaled_image / intensity_scaled_image.max())"
   ],
   "metadata": {
    "collapsed": false,
    "ExecuteTime": {
     "end_time": "2024-01-29T00:32:20.610822700Z",
     "start_time": "2024-01-29T00:32:20.558148400Z"
    }
   },
   "id": "d80c1f5ffc07f297",
   "execution_count": 69
  },
  {
   "cell_type": "code",
   "outputs": [
    {
     "data": {
      "text/plain": "array([[1., 1., 1., ..., 1., 1., 1.],\n       [1., 0., 0., ..., 0., 0., 1.],\n       [1., 0., 0., ..., 0., 0., 1.],\n       ...,\n       [1., 0., 0., ..., 0., 0., 1.],\n       [1., 0., 0., ..., 0., 0., 1.],\n       [1., 1., 1., ..., 1., 1., 1.]])"
     },
     "execution_count": 14,
     "metadata": {},
     "output_type": "execute_result"
    }
   ],
   "source": [
    "back_binary_image"
   ],
   "metadata": {
    "collapsed": false,
    "ExecuteTime": {
     "end_time": "2024-01-28T23:58:31.404301900Z",
     "start_time": "2024-01-28T23:58:31.395300300Z"
    }
   },
   "id": "5c8b532d10a38df9",
   "execution_count": 14
  },
  {
   "cell_type": "code",
   "outputs": [],
   "source": [
    "# Elimination of edges of the licence plate\n",
    "\n",
    "eroded_back_binary_image = np.float64(ndimg.binary_erosion(input=back_binary_image,structure=np.ones(shape=(1,50))))\n",
    "eliminated_edges_image = back_binary_image - eroded_back_binary_image\n",
    "\n",
    "# Filling all the regions of the image with holes\n",
    "eliminated_edges_image_inverted = 1 - eliminated_edges_image\n",
    "filled_image_with_holes_before_invert = ndimg.binary_fill_holes(eliminated_edges_image_inverted)\n",
    "filled_image_with_holes = 1 - filled_image_with_holes_before_invert\n",
    "\n",
    "# Thinning the image filled with holes to make sure that characters do not match with each other (THIS STEP IS THE ACTUAL STEP FOR MORPHOLOGICAL PROCESSING\n",
    "thinned_image = np.float64(morpha.thin(filled_image_with_holes))\n",
    "eroded_thinned_image = np.float64(ndimg.binary_erosion(input=thinned_image,structure=np.ones(shape=(3,1))))"
   ],
   "metadata": {
    "collapsed": false,
    "ExecuteTime": {
     "end_time": "2024-01-28T23:58:32.501348800Z",
     "start_time": "2024-01-28T23:58:32.346248300Z"
    }
   },
   "id": "e34922f95f951633",
   "execution_count": 15
  },
  {
   "cell_type": "code",
   "outputs": [],
   "source": [
    "# Selecting all the pixels of area more than 100 (Image masking)\n",
    "image_with_labels, number_of_labels = ndimg.label(eroded_thinned_image)\n",
    "area_of_each_component = np.bincount(image_with_labels.ravel())\n",
    "mask_with_pixel_areas_greater_than_100 = area_of_each_component >= 100\n",
    "image_with_pixel_areas_greater_than_100 = np.float64(mask_with_pixel_areas_greater_than_100[image_with_labels])\n",
    "final_image_for_vehicle_number_detection = np.int64(image_with_pixel_areas_greater_than_100)"
   ],
   "metadata": {
    "collapsed": false,
    "ExecuteTime": {
     "end_time": "2024-01-28T23:58:33.046130900Z",
     "start_time": "2024-01-28T23:58:33.040457600Z"
    }
   },
   "id": "1590aa6925252a4b",
   "execution_count": 16
  },
  {
   "cell_type": "code",
   "outputs": [],
   "source": [
    "# Considering two properties of image regions: 1) \"Bounding Boxes\" and 2) \"Binary Images\" corresponding to Bounding Images\n",
    "image_region_properties = regionprops(final_image_for_vehicle_number_detection)\n",
    "\n",
    "# Considering the bounding boxes in a matrix of order <Number of Bounding Boxes> X 4;\n",
    "bounding_boxes = np.vstack([i.bbox for i in image_region_properties])"
   ],
   "metadata": {
    "collapsed": false,
    "ExecuteTime": {
     "end_time": "2024-01-28T23:58:33.564543500Z",
     "start_time": "2024-01-28T23:58:33.557447200Z"
    }
   },
   "id": "d1a2a5e5567ada15",
   "execution_count": 17
  },
  {
   "cell_type": "markdown",
   "source": [
    "### Create Templates"
   ],
   "metadata": {
    "collapsed": false
   },
   "id": "ca9b03c2ba3e56a4"
  },
  {
   "cell_type": "code",
   "outputs": [],
   "source": [
    "def create_templates():\n",
    "    path_full = \"Character Images\\\\\"\n",
    "    \n",
    "    A = np.array(Image.open(path_full+'A.bmp'))\n",
    "    B = np.array(Image.open(path_full+'B.bmp'))\n",
    "    C = np.array(Image.open(path_full+'C.bmp'))\n",
    "    D = np.array(Image.open(path_full+'D.bmp'))\n",
    "    E = np.array(Image.open(path_full+'E.bmp'))\n",
    "    F = np.array(Image.open(path_full+'F.bmp'))\n",
    "    G = np.array(Image.open(path_full+'G.bmp'))\n",
    "    H = np.array(Image.open(path_full+'H.bmp'))\n",
    "    I = np.array(Image.open(path_full+'I.bmp'))\n",
    "    J = np.array(Image.open(path_full+'J.bmp'))\n",
    "    K = np.array(Image.open(path_full+'K.bmp'))\n",
    "    L = np.array(Image.open(path_full+'L.bmp'))\n",
    "    M = np.array(Image.open(path_full+'M.bmp'))\n",
    "    N = np.array(Image.open(path_full+'N.bmp'))\n",
    "    O = np.array(Image.open(path_full+'O.bmp'))\n",
    "    P = np.array(Image.open(path_full+'P.bmp'))\n",
    "    Q = np.array(Image.open(path_full+'Q.bmp'))\n",
    "    R = np.array(Image.open(path_full+'R.bmp'))\n",
    "    S = np.array(Image.open(path_full+'S.bmp'))\n",
    "    T = np.array(Image.open(path_full+'T.bmp'))\n",
    "    U = np.array(Image.open(path_full+'U.bmp'))\n",
    "    V = np.array(Image.open(path_full+'V.bmp'))\n",
    "    W = np.array(Image.open(path_full+'W.bmp'))\n",
    "    X = np.array(Image.open(path_full+'X.bmp'))\n",
    "    Y = np.array(Image.open(path_full+'Y.bmp'))\n",
    "    Z = np.array(Image.open(path_full+'Z.bmp'))\n",
    "    Afill = np.array(Image.open(path_full+'fillA.bmp'))\n",
    "    Bfill = np.array(Image.open(path_full+'fillB.bmp'))\n",
    "    Dfill = np.array(Image.open(path_full+'fillD.bmp'))\n",
    "    Ofill = np.array(Image.open(path_full+'fillO.bmp'))\n",
    "    Pfill = np.array(Image.open(path_full+'fillP.bmp'))\n",
    "    Qfill = np.array(Image.open(path_full+'fillQ.bmp'))\n",
    "    Rfill = np.array(Image.open(path_full+'fillR.bmp'))\n",
    "    \n",
    "    # Number\n",
    "    one = np.array(Image.open(path_full+'1.bmp'))\n",
    "    two = np.array(Image.open(path_full+'2.bmp'))\n",
    "    three = np.array(Image.open(path_full+'3.bmp'))\n",
    "    four = np.array(Image.open(path_full+'4.bmp'))\n",
    "    five = np.array(Image.open(path_full+'5.bmp'))\n",
    "    six = np.array(Image.open(path_full+'6.bmp'))\n",
    "    seven = np.array(Image.open(path_full+'7.bmp'))\n",
    "    eight = np.array(Image.open(path_full+'8.bmp'))\n",
    "    nine = np.array(Image.open(path_full+'9.bmp'))\n",
    "    zero = np.array(Image.open(path_full+'0.bmp'))\n",
    "    zerofill = np.array(Image.open(path_full+'fill0.bmp'))\n",
    "    fourfill = np.array(Image.open(path_full+'fill4.bmp'))\n",
    "    sixfill = np.array(Image.open(path_full+'fill6.bmp'))\n",
    "    sixfill2 = np.array(Image.open(path_full+'fill6_2.bmp'))\n",
    "    eightfill = np.array(Image.open(path_full+'fill8.bmp'))\n",
    "    ninefill = np.array(Image.open(path_full+'fill9.bmp'))\n",
    "    ninefill2 = np.array(Image.open(path_full+'fill9_2.bmp'))\n",
    "    \n",
    "    # Concatenate images\n",
    "    letter = np.concatenate([A, Afill, B, Bfill, C, D, Dfill, E, F, G, H, I, J, K, L, M,\n",
    "                             N, O, Ofill, P, Pfill, Q, Qfill, R, Rfill, S, T, U, V, W, X, Y, Z], axis=1)\n",
    "    \n",
    "    number = np.concatenate([one, two, three, four, fourfill, five, six, sixfill, sixfill2,\n",
    "                             seven, eight, eightfill, nine, ninefill, ninefill2, zero, zerofill], axis=1)\n",
    "    \n",
    "    character = np.concatenate([letter, number], axis=1)\n",
    "    \n",
    "    return character\n"
   ],
   "metadata": {
    "collapsed": false,
    "ExecuteTime": {
     "end_time": "2024-01-29T00:13:32.964517700Z",
     "start_time": "2024-01-29T00:13:32.950778200Z"
    }
   },
   "id": "1d531394e4a41a2d",
   "execution_count": 41
  },
  {
   "cell_type": "markdown",
   "source": [
    "### Read Letter"
   ],
   "metadata": {
    "collapsed": false
   },
   "id": "201d47ea600fcef8"
  },
  {
   "cell_type": "code",
   "outputs": [],
   "source": [
    "\n",
    "def read_letter(snap):\n",
    "    # Load the templates of characters into memory\n",
    "    templates_data = create_templates()\n",
    "    templates = templates_data['character']\n",
    "\n",
    "    # Resize the input image\n",
    "    snap = np.array(Image.fromarray(snap).resize((24, 42)))\n",
    "\n",
    "    comp = []\n",
    "\n",
    "    # Correlation of the input image with every image in the template for best matching\n",
    "    for template in templates:\n",
    "        sem = np.corrcoef(template.flatten(), snap.flatten())[0, 1]\n",
    "        comp.append(sem)\n",
    "\n",
    "    vd = np.argmax(comp) + 1  # Find the index which corresponds to the highest matched character\n",
    "\n",
    "    # According to the index, assign to 'letter'\n",
    "    # Alphabets listings\n",
    "    if vd in [1, 2]:\n",
    "        letter = 'A'\n",
    "    elif vd in [3, 4]:\n",
    "        letter = 'B'\n",
    "    elif vd == 5:\n",
    "        letter = 'C'\n",
    "    elif vd in [6, 7]:\n",
    "        letter = 'D'\n",
    "    elif vd == 8:\n",
    "        letter = 'E'\n",
    "    elif vd == 9:\n",
    "        letter = 'F'\n",
    "    elif vd == 10:\n",
    "        letter = 'G'\n",
    "    elif vd == 11:\n",
    "        letter = 'H'\n",
    "    elif vd == 12:\n",
    "        letter = 'I'\n",
    "    elif vd == 13:\n",
    "        letter = 'J'\n",
    "    elif vd == 14:\n",
    "        letter = 'K'\n",
    "    elif vd == 15:\n",
    "        letter = 'L'\n",
    "    elif vd == 16:\n",
    "        letter = 'M'\n",
    "    elif vd == 17:\n",
    "        letter = 'N'\n",
    "    elif vd in [18, 19]:\n",
    "        letter = 'O'\n",
    "    elif vd in [20, 21]:\n",
    "        letter = 'P'\n",
    "    elif vd in [22, 23]:\n",
    "        letter = 'Q'\n",
    "    elif vd in [24, 25]:\n",
    "        letter = 'R'\n",
    "    elif vd == 26:\n",
    "        letter = 'S'\n",
    "    elif vd == 27:\n",
    "        letter = 'T'\n",
    "    elif vd == 28:\n",
    "        letter = 'U'\n",
    "    elif vd == 29:\n",
    "        letter = 'V'\n",
    "    elif vd == 30:\n",
    "        letter = 'W'\n",
    "    elif vd == 31:\n",
    "        letter = 'X'\n",
    "    elif vd == 32:\n",
    "        letter = 'Y'\n",
    "    elif vd == 33:\n",
    "        letter = 'Z'\n",
    "    # Numerals listings\n",
    "    elif vd == 34:\n",
    "        letter = '1'\n",
    "    elif vd == 35:\n",
    "        letter = '2'\n",
    "    elif vd == 36:\n",
    "        letter = '3'\n",
    "    elif vd in [37, 38]:\n",
    "        letter = '4'\n",
    "    elif vd == 39:\n",
    "        letter = '5'\n",
    "    elif vd in [40, 41, 42]:\n",
    "        letter = '6'\n",
    "    elif vd == 43:\n",
    "        letter = '7'\n",
    "    elif vd in [44, 45]:\n",
    "        letter = '8'\n",
    "    elif vd in [46, 47, 48]:\n",
    "        letter = '9'\n",
    "    else:\n",
    "        letter = '0'\n",
    "\n",
    "    return letter"
   ],
   "metadata": {
    "collapsed": false,
    "ExecuteTime": {
     "end_time": "2024-01-29T00:15:44.987793100Z",
     "start_time": "2024-01-29T00:15:44.972431600Z"
    }
   },
   "id": "b6c4067cb2d7a605",
   "execution_count": 42
  },
  {
   "cell_type": "markdown",
   "source": [
    "### Take Boxes"
   ],
   "metadata": {
    "collapsed": false
   },
   "id": "56a76639f86d6d3e"
  },
  {
   "cell_type": "code",
   "outputs": [],
   "source": [
    "import numpy as np\n",
    "\n",
    "def take_boxes(NR, container, chk):\n",
    "    # Initialize the variable to an empty matrix\n",
    "    takethisbox = np.empty((0, NR.shape[1]))\n",
    "\n",
    "    # If bounding box is among the container plus tolerance, take that box and concatenate along the first dimension\n",
    "    for i in range(NR.shape[0]):\n",
    "        if container[0] <= NR[i, (2 * chk)] <= container[1]:\n",
    "            takethisbox = np.vstack((takethisbox, NR[i, :]))\n",
    "\n",
    "    r = []\n",
    "\n",
    "    # Finding the indices of the interested boxes among NR since x-coordinate of the boxes will be unique.\n",
    "    for k in range(takethisbox.shape[0]):\n",
    "        var = np.where(takethisbox[k, 0] == NR[:, 0])[0]\n",
    "\n",
    "        # In case if x-coordinate is not unique, then check which box falls under container condition\n",
    "        if len(var) == 1:\n",
    "            r.extend(var)\n",
    "        else:\n",
    "            M = [NR[var[v], (2 * chk)] >= container[0] and NR[var[v], (2 * chk)] <= container[1] for v in range(len(var))]\n",
    "            var = [var[v] for v in range(len(var)) if M[v]]\n",
    "            r.extend(var)\n",
    "\n",
    "    return r"
   ],
   "metadata": {
    "collapsed": false,
    "ExecuteTime": {
     "end_time": "2024-01-29T00:17:29.395708500Z",
     "start_time": "2024-01-29T00:17:29.371608700Z"
    }
   },
   "id": "53d9fde113caf01c",
   "execution_count": 43
  },
  {
   "cell_type": "markdown",
   "source": [
    "### Guess The Six"
   ],
   "metadata": {
    "collapsed": false
   },
   "id": "dfd013ee817fa5b7"
  },
  {
   "cell_type": "code",
   "outputs": [],
   "source": [
    "def guess_the_six(Q, W, bsize):\n",
    "    for l in range(5, 1, -1):\n",
    "        val = np.where(Q == l)[0]\n",
    "        var = len(val)\n",
    "\n",
    "        if var == 0 or var == 1:\n",
    "            index = (val[0] + 1 if val == 1 else val[0]) if val.size > 0 else 0\n",
    "\n",
    "            if index == len(Q):\n",
    "                index = None\n",
    "\n",
    "            if Q[index] + Q[index + 1] == 6:\n",
    "                container = [W[index] - (bsize / 2), W[index + 1] + (bsize / 2)]\n",
    "                break\n",
    "            elif Q[index] + Q[index - 1] == 6:\n",
    "                container = [W[index - 1] - (bsize / 2), W[index] + (bsize / 2)]\n",
    "                break\n",
    "        else:\n",
    "            for k in range(var):\n",
    "                index = val[k] + 1 if val[k] == 1 else val[k]\n",
    "\n",
    "                if index == len(Q):\n",
    "                    index = None\n",
    "\n",
    "                if Q[index] + Q[index + 1] == 6:\n",
    "                    container = [W[index] - (bsize / 2), W[index + 1] + (bsize / 2)]\n",
    "                    break\n",
    "                elif Q[index] + Q[index - 1] == 6:\n",
    "                    container = [W[index - 1] - (bsize / 2), W[index] + (bsize / 2)]\n",
    "                    break\n",
    "\n",
    "            if k != var - 1:\n",
    "                break\n",
    "\n",
    "    if l == 2:\n",
    "        container = []\n",
    "\n",
    "    return container\n"
   ],
   "metadata": {
    "collapsed": false,
    "ExecuteTime": {
     "end_time": "2024-01-29T00:28:45.857534600Z",
     "start_time": "2024-01-29T00:28:45.837645800Z"
    }
   },
   "id": "c14edf7bbc7583df",
   "execution_count": 62
  },
  {
   "cell_type": "markdown",
   "source": [
    "### Controlling"
   ],
   "metadata": {
    "collapsed": false
   },
   "id": "c423401d17e83eec"
  },
  {
   "cell_type": "code",
   "outputs": [],
   "source": [
    "import numpy as np\n",
    "\n",
    "def controlling(NR):\n",
    "    Q, W = np.histogram(NR[:, 3], bins='auto')  # Histogram of the y-dimension widths of all boxes.\n",
    "    ind = np.where(Q == 6)[0]  # Find indices from Q corresponding to frequency '6'.\n",
    "\n",
    "    C_5 = NR[:, 1] * NR[:, 3]  # Taking the advantage of uniqueness of y-coordinate and y-width.\n",
    "    NR2 = np.column_stack((NR, C_5))  # Appending a new column in NR.\n",
    "\n",
    "    E, R = np.histogram(NR2[:, 4], bins=20)\n",
    "    Y = np.where(E == 6)[0]  # Searching for six characters.\n",
    "\n",
    "    if len(ind) == 1:  # If six boxes of interest are successfully found, record the midpoint of the corresponding bin.\n",
    "        MP = W[ind]\n",
    "        binsize = W[1] - W[0]  # Calculate the container size.\n",
    "        container = [MP - (binsize / 2), MP + (binsize / 2)]  # Calculate the complete container size.\n",
    "        r = take_boxes(NR, container, 2)\n",
    "    elif len(Y) == 1:\n",
    "        MP = R[Y]\n",
    "        binsize = R[1] - R[0]\n",
    "        container = [MP - (binsize / 2), MP + (binsize / 2)]  # Calculate the complete container size.\n",
    "        r = take_boxes(NR2, container, 2.5)  # Call to function take_boxes.\n",
    "    elif len(ind) == 0 or len(ind) > 1:  # If there is no value of '6' in the Q vector.\n",
    "        A, B = np.histogram(NR[:, 1], bins=20)  # Use y-coordinate approach only.\n",
    "        ind2 = np.where(A == 6)[0]\n",
    "        if len(ind2) == 1:\n",
    "            MP = B[ind2]\n",
    "            binsize = B[1] - B[0]\n",
    "            container = [MP - (binsize / 2), MP + (binsize / 2)]  # Calculate the complete container size.\n",
    "            r = take_boxes(NR, container, 1)\n",
    "        else:\n",
    "            container = guess_the_six(A, B, (B[1] - B[0]))  # Call of function guess_the_six.\n",
    "            if container:  # If guess_the_six works successfully.\n",
    "                r = take_boxes(NR, container, 1)  # Call the function take_boxes.\n",
    "            else:\n",
    "                container2 = guess_the_six(E, R, (R[1] - R[0]))\n",
    "                if container2:\n",
    "                    r = take_boxes(NR2, container2, 2.5)\n",
    "                else:\n",
    "                    r = []  # Otherwise assign an empty matrix to 'r'.\n",
    "\n",
    "    return r\n"
   ],
   "metadata": {
    "collapsed": false,
    "ExecuteTime": {
     "end_time": "2024-01-29T00:28:47.051219600Z",
     "start_time": "2024-01-29T00:28:47.042665800Z"
    }
   },
   "id": "a5f28f13cfa28b36",
   "execution_count": 63
  },
  {
   "cell_type": "markdown",
   "source": [],
   "metadata": {
    "collapsed": false
   },
   "id": "2e0ec8cab1162ad3"
  },
  {
   "cell_type": "code",
   "outputs": [],
   "source": [
    "cc = create_templates()"
   ],
   "metadata": {
    "collapsed": false,
    "ExecuteTime": {
     "end_time": "2024-01-29T00:28:47.949085800Z",
     "start_time": "2024-01-29T00:28:47.918353500Z"
    }
   },
   "id": "d6a98df2f14acfbd",
   "execution_count": 64
  },
  {
   "cell_type": "code",
   "outputs": [],
   "source": [
    "# Retrieving an array comprising the indices for bounding boxes needed for character extraction\n",
    "character_extraction_bounding_box_indices = controlling(bounding_boxes)"
   ],
   "metadata": {
    "collapsed": false,
    "ExecuteTime": {
     "end_time": "2024-01-29T00:28:48.300565200Z",
     "start_time": "2024-01-29T00:28:48.291533400Z"
    }
   },
   "id": "3d655831f79f11da",
   "execution_count": 65
  },
  {
   "cell_type": "code",
   "outputs": [],
   "source": [],
   "metadata": {
    "collapsed": false,
    "ExecuteTime": {
     "end_time": "2024-01-29T00:28:48.924065800Z",
     "start_time": "2024-01-29T00:28:48.908611500Z"
    }
   },
   "id": "5ac68806d9b50882",
   "execution_count": 65
  },
  {
   "cell_type": "code",
   "outputs": [
    {
     "name": "stdout",
     "output_type": "stream",
     "text": [
      "Unable to extract the characters from the number plate.\n",
      "The characters on the number plate might not be clear or touching with each other or boundaries.\n"
     ]
    }
   ],
   "source": [
    "\n",
    "# Assuming 'r' contains the indices of desired boxes\n",
    "if character_extraction_bounding_box_indices:\n",
    "    I = [image_region_properties[i]['Image'] for i in character_extraction_bounding_box_indices]  # List of 'Image' property for corresponding indices in 'r'\n",
    "    number_on_plate = \"\"  # Initializing the variable for the number plate string\n",
    "\n",
    "    for v, index in enumerate(character_extraction_bounding_box_indices, start=1):\n",
    "        N = image_region_properties[index]['Image']  # Extracting the binary image corresponding to the index in 'r'\n",
    "        letter = read_letter(N)  # Reading the letter corresponding to the binary image 'N'\n",
    "\n",
    "        # Since it wouldn't be easy to distinguish between '0' and 'O',\n",
    "        # using the characteristic of plates in Karachi to decide whether it is '0' or 'O'\n",
    "        while letter == 'O' or letter == '0':\n",
    "            if v <= 3:\n",
    "                letter = 'O'\n",
    "            else:\n",
    "                letter = '0'\n",
    "            break\n",
    "\n",
    "        number_on_plate += letter  # Appending every subsequent character in the 'no_plate' variable\n",
    "\n",
    "    with open('number_on_plate.txt', 'w') as file:\n",
    "        file.write(number_on_plate)  # Writing the number plate to the text file\n",
    "\n",
    "    # Uncomment the portion of code below if a database is to be organized\n",
    "    # load the database ('DB') from a .mat file\n",
    "    # for record in DB:\n",
    "    #     record_plate = record['PlateNumber']\n",
    "    #     if no_plate == record_plate:\n",
    "    #         print(record)\n",
    "    #         print('*-*-*-*-*-*-*')\n",
    "\n",
    "    # Open the text file with the number plate written\n",
    "    with open('noPlate.txt', 'r') as file:\n",
    "        print(file.read())\n",
    "else:\n",
    "    print('Unable to extract the characters from the number plate.')\n",
    "    print('The characters on the number plate might not be clear or touching with each other or boundaries.')\n"
   ],
   "metadata": {
    "collapsed": false,
    "ExecuteTime": {
     "end_time": "2024-01-29T00:31:39.279764Z",
     "start_time": "2024-01-29T00:31:39.218363600Z"
    }
   },
   "id": "89b5b53b6004d8b7",
   "execution_count": 66
  },
  {
   "cell_type": "code",
   "outputs": [],
   "source": [],
   "metadata": {
    "collapsed": false
   },
   "id": "bf0717d13671a2ee"
  }
 ],
 "metadata": {
  "kernelspec": {
   "display_name": "Python 3",
   "language": "python",
   "name": "python3"
  },
  "language_info": {
   "codemirror_mode": {
    "name": "ipython",
    "version": 2
   },
   "file_extension": ".py",
   "mimetype": "text/x-python",
   "name": "python",
   "nbconvert_exporter": "python",
   "pygments_lexer": "ipython2",
   "version": "2.7.6"
  }
 },
 "nbformat": 4,
 "nbformat_minor": 5
}
