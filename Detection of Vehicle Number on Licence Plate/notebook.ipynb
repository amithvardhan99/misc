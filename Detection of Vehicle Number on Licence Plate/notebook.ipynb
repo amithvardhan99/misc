{
 "cells": [
  {
   "cell_type": "code",
   "execution_count": 13,
   "id": "initial_id",
   "metadata": {
    "collapsed": true,
    "ExecuteTime": {
     "end_time": "2024-01-29T20:18:57.492797400Z",
     "start_time": "2024-01-29T20:18:57.464617600Z"
    }
   },
   "outputs": [],
   "source": [
    "import numpy as np\n",
    "import pandas as pd\n",
    "from PIL import Image\n",
    "from skimage import filters\n",
    "import scipy.ndimage as sci_image\n",
    "from skimage import measure as meas\n",
    "import matplotlib.pyplot as plt\n",
    "from scipy import signal as sci_signal\n",
    "import cv2\n",
    "import pytesseract\n",
    "pytesseract.pytesseract.tesseract_cmd = r'C:\\Program Files\\Tesseract-OCR\\tesseract.exe'"
   ]
  },
  {
   "cell_type": "code",
   "outputs": [],
   "source": [
    "cv2.imread()"
   ],
   "metadata": {
    "collapsed": false
   },
   "id": "dd7d4cee3ad82139"
  }
 ],
 "metadata": {
  "kernelspec": {
   "display_name": "Python 3",
   "language": "python",
   "name": "python3"
  },
  "language_info": {
   "codemirror_mode": {
    "name": "ipython",
    "version": 2
   },
   "file_extension": ".py",
   "mimetype": "text/x-python",
   "name": "python",
   "nbconvert_exporter": "python",
   "pygments_lexer": "ipython2",
   "version": "2.7.6"
  }
 },
 "nbformat": 4,
 "nbformat_minor": 5
}
