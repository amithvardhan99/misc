{
 "cells": [
  {
   "cell_type": "code",
   "execution_count": 2,
   "id": "initial_id",
   "metadata": {
    "collapsed": true,
    "ExecuteTime": {
     "end_time": "2024-01-30T01:46:28.291667900Z",
     "start_time": "2024-01-30T01:46:28.252327100Z"
    }
   },
   "outputs": [],
   "source": [
    "import numpy as np\n",
    "import pandas as pd\n",
    "from PIL import Image\n",
    "from skimage import filters\n",
    "import scipy.ndimage as sci_image\n",
    "from skimage import measure as meas\n",
    "import matplotlib.pyplot as plt\n",
    "from scipy import signal as sci_signal\n",
    "import cv2\n",
    "import pytesseract\n",
    "pytesseract.pytesseract.tesseract_cmd = r'C:\\Program Files\\Tesseract-OCR\\tesseract.exe'\n",
    "import os\n",
    "import warnings\n",
    "warnings.filterwarnings(\"ignore\")\n",
    "import supported_functions as sf"
   ]
  },
  {
   "cell_type": "code",
   "outputs": [
    {
     "data": {
      "text/plain": "array([[[  0,   0,   0, ...,   0,   0,   0],\n        [  0,   0,   0, ...,   0,   0,   0],\n        [  0,   0,   0, ...,   0,   0,   0],\n        ...,\n        [  0,   0,   0, ...,   0,   0,   0],\n        [  0,   0,   0, ...,   0,   0,   0],\n        [  0,   0,   0, ...,   0,   0,   0]],\n\n       [[  0,   0,   0, ..., 255, 255, 255],\n        [  0,   0,   0, ..., 255, 255, 255],\n        [  0,   0,   0, ..., 255, 255, 255],\n        ...,\n        [  0,   0,   0, ..., 255, 255, 255],\n        [  0,   0,   0, ..., 255, 255, 255],\n        [  0,   0,   0, ..., 255, 255, 255]],\n\n       [[  0,   0,   0, ...,   0,   0,   0],\n        [  0,   0,   0, ...,   0,   0,   0],\n        [  0,   0,   0, ...,   0,   0,   0],\n        ...,\n        [  0, 255, 255, ..., 255, 255, 255],\n        [  0, 255, 255, ..., 255, 255, 255],\n        [  0, 255, 255, ..., 255, 255,   0]],\n\n       ...,\n\n       [[  0, 255, 255, ..., 255, 255,   0],\n        [  0,   0, 255, ..., 255, 255,   0],\n        [  0,   0, 255, ..., 255,   0,   0],\n        ...,\n        [  0, 255, 255, ..., 255, 255,   0],\n        [  0, 255, 255, ..., 255, 255, 255],\n        [255, 255, 255, ..., 255, 255, 255]],\n\n       [[255, 255, 255, ..., 255, 255, 255],\n        [  0, 255, 255, ..., 255, 255, 255],\n        [  0, 255, 255, ..., 255, 255, 255],\n        ...,\n        [  0,   0,   0, ...,   0,   0,   0],\n        [  0,   0,   0, ...,   0,   0,   0],\n        [  0,   0,   0, ...,   0,   0,   0]],\n\n       [[  0,   0, 255, ..., 255, 255, 255],\n        [  0,   0, 255, ..., 255, 255, 255],\n        [  0,   0, 255, ..., 255, 255, 255],\n        ...,\n        [255, 255, 255, ..., 255, 255, 255],\n        [255, 255, 255, ..., 255, 255, 255],\n        [255, 255, 255, ..., 255, 255, 255]]], dtype=uint8)"
     },
     "execution_count": 3,
     "metadata": {},
     "output_type": "execute_result"
    }
   ],
   "source": [
    "sf.create_templates()"
   ],
   "metadata": {
    "collapsed": false,
    "ExecuteTime": {
     "end_time": "2024-01-30T01:46:29.318208700Z",
     "start_time": "2024-01-30T01:46:29.234427100Z"
    }
   },
   "id": "dd7d4cee3ad82139",
   "execution_count": 3
  },
  {
   "cell_type": "code",
   "outputs": [],
   "source": [
    "def detect_letters(image):\n",
    "    image_resized = cv2.resize(image,(24,42))\n",
    "    ctr = 0\n",
    "    corr_matrix_arr = []\n",
    "    for i in sf.create_templates():\n",
    "        print(i.shape)\n",
    "        print(image_resized.shape)\n",
    "        print()\n",
    "        corr_matrix = sci_signal.correlate3d(i,image_resized).max()\n",
    "        corr_matrix_arr.append(corr_matrix)\n",
    "    pos = np.argmax(corr_matrix_arr)\n",
    "    det = sf.identify_letter(pos)\n",
    "    return det"
   ],
   "metadata": {
    "collapsed": false,
    "ExecuteTime": {
     "end_time": "2024-01-30T01:46:49.219780500Z",
     "start_time": "2024-01-30T01:46:49.134186Z"
    }
   },
   "id": "6393c6b984137e2d",
   "execution_count": 5
  },
  {
   "cell_type": "code",
   "outputs": [
    {
     "name": "stdout",
     "output_type": "stream",
     "text": [
      "(42, 24)\n",
      "(42, 24, 3)\n"
     ]
    },
    {
     "ename": "AttributeError",
     "evalue": "module 'scipy.signal' has no attribute 'correlate3d'",
     "output_type": "error",
     "traceback": [
      "\u001B[1;31m---------------------------------------------------------------------------\u001B[0m",
      "\u001B[1;31mAttributeError\u001B[0m                            Traceback (most recent call last)",
      "Cell \u001B[1;32mIn[6], line 1\u001B[0m\n\u001B[1;32m----> 1\u001B[0m \u001B[43mdetect_letters\u001B[49m\u001B[43m(\u001B[49m\u001B[43mcv2\u001B[49m\u001B[38;5;241;43m.\u001B[39;49m\u001B[43mimread\u001B[49m\u001B[43m(\u001B[49m\u001B[38;5;124;43m\"\u001B[39;49m\u001B[38;5;124;43mdata/0.bmp\u001B[39;49m\u001B[38;5;124;43m\"\u001B[39;49m\u001B[43m)\u001B[49m\u001B[43m)\u001B[49m\n",
      "Cell \u001B[1;32mIn[5], line 9\u001B[0m, in \u001B[0;36mdetect_letters\u001B[1;34m(image)\u001B[0m\n\u001B[0;32m      7\u001B[0m     \u001B[38;5;28mprint\u001B[39m(image_resized\u001B[38;5;241m.\u001B[39mshape)\n\u001B[0;32m      8\u001B[0m     \u001B[38;5;28mprint\u001B[39m()\n\u001B[1;32m----> 9\u001B[0m     corr_matrix \u001B[38;5;241m=\u001B[39m \u001B[43msci_signal\u001B[49m\u001B[38;5;241;43m.\u001B[39;49m\u001B[43mcorrelate3d\u001B[49m(i,image_resized)\u001B[38;5;241m.\u001B[39mmax()\n\u001B[0;32m     10\u001B[0m     corr_matrix_arr\u001B[38;5;241m.\u001B[39mappend(corr_matrix)\n\u001B[0;32m     11\u001B[0m pos \u001B[38;5;241m=\u001B[39m np\u001B[38;5;241m.\u001B[39margmax(corr_matrix_arr)\n",
      "\u001B[1;31mAttributeError\u001B[0m: module 'scipy.signal' has no attribute 'correlate3d'"
     ]
    }
   ],
   "source": [
    "detect_letters(cv2.imread(\"data/0.bmp\"))"
   ],
   "metadata": {
    "collapsed": false,
    "ExecuteTime": {
     "end_time": "2024-01-30T01:46:52.111961100Z",
     "start_time": "2024-01-30T01:46:50.245685500Z"
    }
   },
   "id": "332d230dcf9da9c5",
   "execution_count": 6
  },
  {
   "cell_type": "code",
   "outputs": [],
   "source": [
    "def identify_letter(pos):\n",
    "    p = \"\"\n",
    "    if pos == 0 or pos == 1:\n",
    "        p = \"A\"\n",
    "    elif pos == 2 or pos == 3:\n",
    "        p = \"B\"\n",
    "    elif pos == 4:\n",
    "        p = \"C\"\n",
    "    elif pos == 5 or pos == 6:\n",
    "        p = \"D\"\n",
    "    elif pos == 7:\n",
    "        p = \"E\"\n",
    "    elif pos == 8:\n",
    "        p = \"F\"\n",
    "    elif pos == 9:\n",
    "        p = \"G\"\n",
    "    elif pos == 10:\n",
    "        p = \"H\"\n",
    "    elif pos == 11:\n",
    "        p = \"I\"\n",
    "    elif pos == 12:\n",
    "        p = \"J\"\n",
    "    elif pos == 13:\n",
    "        p = \"K\"\n",
    "    elif pos == 14:\n",
    "        p = \"L\"\n",
    "    elif pos == 15:\n",
    "        p = \"M\"\n",
    "    elif pos == 16:\n",
    "        p = \"N\"\n",
    "    elif pos == 17 or pos == 18:\n",
    "        p = \"O\"\n",
    "    elif pos == 19 or pos == 20:\n",
    "        p = \"P\"\n",
    "    elif pos == 21 or pos == 22:\n",
    "        p = \"Q\"\n",
    "    elif pos == 23 or pos == 24:\n",
    "        p = \"R\"\n",
    "    elif pos == 25:\n",
    "        p = \"S\"\n",
    "    elif pos == 26:\n",
    "        p = \"T\"\n",
    "    elif pos == 27:\n",
    "        p = \"U\"\n",
    "    elif pos == 28:\n",
    "        p = \"V\"\n",
    "    elif pos == 29:\n",
    "        p = \"W\"\n",
    "    elif pos == 30:\n",
    "        p = \"X\"\n",
    "    elif pos == 31:\n",
    "        p = \"Y\"\n",
    "    elif pos == 32:\n",
    "        p = \"Z\"\n",
    "    elif pos == 33:\n",
    "        p = \"1\"\n",
    "    elif pos == 34:\n",
    "        p = \"2\"\n",
    "    elif pos == 35:\n",
    "        p = \"3\"\n",
    "    elif pos == 36 or pos == 37:\n",
    "        p = \"4\"\n",
    "    elif pos == 38:\n",
    "        p = \"5\"\n",
    "    elif pos == 39 or pos == 40 or pos == 41:\n",
    "        p = \"6\"\n",
    "    elif pos == 42:\n",
    "        p = \"7\"\n",
    "    elif pos == 43 or pos == 44:\n",
    "        p = \"8\"\n",
    "    elif pos == 45 or pos == 46 or pos == 47:\n",
    "        p = \"9\"\n",
    "    else:\n",
    "        p = \"0\"\n",
    "    return p"
   ],
   "metadata": {
    "collapsed": false,
    "ExecuteTime": {
     "end_time": "2024-01-30T01:16:25.540790300Z",
     "start_time": "2024-01-30T01:16:25.527878900Z"
    }
   },
   "id": "c688cab8797b1278",
   "execution_count": 78
  },
  {
   "cell_type": "code",
   "outputs": [],
   "source": [
    "def detect_letters(image):\n",
    "    image_resized = cv2.resize(image,(24,42))\n",
    "    ctr = 0\n",
    "    corr_matrix_arr = []\n",
    "    for i in create_templates():\n",
    "        corr_matrix = sci_signal.correlate2d(i,image_resized).max()\n",
    "        corr_matrix_arr.append(corr_matrix)\n",
    "    pos = np.argmax(corr_matrix_arr)\n",
    "    det = identify_letter(pos)\n",
    "    return det"
   ],
   "metadata": {
    "collapsed": false,
    "ExecuteTime": {
     "end_time": "2024-01-30T01:16:26.426905Z",
     "start_time": "2024-01-30T01:16:26.420460500Z"
    }
   },
   "id": "121744616ee2e1a0",
   "execution_count": 79
  },
  {
   "cell_type": "code",
   "outputs": [
    {
     "data": {
      "text/plain": "'A'"
     },
     "execution_count": 80,
     "metadata": {},
     "output_type": "execute_result"
    }
   ],
   "source": [
    "detect_letters(create_templates()[0])"
   ],
   "metadata": {
    "collapsed": false,
    "ExecuteTime": {
     "end_time": "2024-01-30T01:16:27.768735Z",
     "start_time": "2024-01-30T01:16:27.405720300Z"
    }
   },
   "id": "5d2ba09326c4c0b3",
   "execution_count": 80
  },
  {
   "cell_type": "code",
   "outputs": [
    {
     "data": {
      "text/plain": "array([[  0,   0,   0, ...,   0,   0,   0],\n       [  0,   0,   0, ...,   0,   0,   0],\n       [  0,   0,   0, ...,   0,   0,   0],\n       ...,\n       [  0, 255, 255, ..., 255, 255, 255],\n       [  0, 255, 255, ..., 255, 255, 255],\n       [  0, 255, 255, ..., 255, 255, 255]], dtype=uint8)"
     },
     "execution_count": 9,
     "metadata": {},
     "output_type": "execute_result"
    }
   ],
   "source": [],
   "metadata": {
    "collapsed": false,
    "ExecuteTime": {
     "end_time": "2024-01-30T00:39:37.913201400Z",
     "start_time": "2024-01-30T00:39:37.885887900Z"
    }
   },
   "id": "88128bc948d162cc",
   "execution_count": 9
  },
  {
   "cell_type": "code",
   "outputs": [],
   "source": [],
   "metadata": {
    "collapsed": false
   },
   "id": "3ba5a495872d091d"
  }
 ],
 "metadata": {
  "kernelspec": {
   "display_name": "Python 3",
   "language": "python",
   "name": "python3"
  },
  "language_info": {
   "codemirror_mode": {
    "name": "ipython",
    "version": 2
   },
   "file_extension": ".py",
   "mimetype": "text/x-python",
   "name": "python",
   "nbconvert_exporter": "python",
   "pygments_lexer": "ipython2",
   "version": "2.7.6"
  }
 },
 "nbformat": 4,
 "nbformat_minor": 5
}
